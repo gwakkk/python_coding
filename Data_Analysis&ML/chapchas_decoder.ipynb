{
  "nbformat": 4,
  "nbformat_minor": 0,
  "metadata": {
    "colab": {
      "name": "chapchas_decoder.ipynb",
      "provenance": [],
      "collapsed_sections": []
    },
    "kernelspec": {
      "name": "python3",
      "display_name": "Python 3"
    },
    "language_info": {
      "name": "python"
    }
  },
  "cells": [
    {
      "cell_type": "code",
      "metadata": {
        "id": "TmNTCYdad0GA"
      },
      "source": [
        "#Reference: https://keras.io/examples/vision/captcha_ocr/"
      ],
      "execution_count": 2,
      "outputs": []
    },
    {
      "cell_type": "code",
      "metadata": {
        "id": "JhQbkhopd74o",
        "colab": {
          "base_uri": "https://localhost:8080/"
        },
        "outputId": "2eee91ba-f5f3-45f8-9031-0a416fdea21e"
      },
      "source": [
        "!nvidia-smi"
      ],
      "execution_count": 3,
      "outputs": [
        {
          "output_type": "stream",
          "text": [
            "NVIDIA-SMI has failed because it couldn't communicate with the NVIDIA driver. Make sure that the latest NVIDIA driver is installed and running.\n",
            "\n"
          ],
          "name": "stdout"
        }
      ]
    },
    {
      "cell_type": "code",
      "metadata": {
        "id": "_OKju3DEd9XI"
      },
      "source": [
        "import os\n",
        "import cv2\n",
        "from glob import glob\n",
        "import numpy as np\n",
        "import matplotlib.pyplot as plt\n",
        "import tensorflow as tf\n",
        "from tensorflow import keras\n",
        "from tensorflow.keras import layers"
      ],
      "execution_count": 4,
      "outputs": []
    },
    {
      "cell_type": "code",
      "metadata": {
        "id": "ZjPs-mL1d9ZI",
        "colab": {
          "base_uri": "https://localhost:8080/"
        },
        "outputId": "00d07448-a6c3-42d1-880d-9bdd45977eef"
      },
      "source": [
        "!wget https://github.com/AakashKumarNain/CaptchaCracker/raw/master/captcha_images_v2.zip\n",
        "!unzip -q captcha_images_v2.zip"
      ],
      "execution_count": 5,
      "outputs": [
        {
          "output_type": "stream",
          "text": [
            "--2021-07-12 14:29:43--  https://github.com/AakashKumarNain/CaptchaCracker/raw/master/captcha_images_v2.zip\n",
            "Resolving github.com (github.com)... 140.82.113.3\n",
            "Connecting to github.com (github.com)|140.82.113.3|:443... connected.\n",
            "HTTP request sent, awaiting response... 302 Found\n",
            "Location: https://raw.githubusercontent.com/AakashKumarNain/CaptchaCracker/master/captcha_images_v2.zip [following]\n",
            "--2021-07-12 14:29:44--  https://raw.githubusercontent.com/AakashKumarNain/CaptchaCracker/master/captcha_images_v2.zip\n",
            "Resolving raw.githubusercontent.com (raw.githubusercontent.com)... 185.199.108.133, 185.199.109.133, 185.199.110.133, ...\n",
            "Connecting to raw.githubusercontent.com (raw.githubusercontent.com)|185.199.108.133|:443... connected.\n",
            "HTTP request sent, awaiting response... 200 OK\n",
            "Length: 9075967 (8.7M) [application/zip]\n",
            "Saving to: ‘captcha_images_v2.zip’\n",
            "\n",
            "captcha_images_v2.z 100%[===================>]   8.66M  --.-KB/s    in 0.1s    \n",
            "\n",
            "2021-07-12 14:29:44 (83.3 MB/s) - ‘captcha_images_v2.zip’ saved [9075967/9075967]\n",
            "\n"
          ],
          "name": "stdout"
        }
      ]
    },
    {
      "cell_type": "code",
      "metadata": {
        "colab": {
          "base_uri": "https://localhost:8080/"
        },
        "id": "O1wnpCDCeBFJ",
        "outputId": "a5ac6e34-5177-43af-f68a-97a448235cab"
      },
      "source": [
        "#dataset_preview\n",
        "img_list = glob('captcha_images_v2/*.png')\n",
        "\n",
        "len(img_list)"
      ],
      "execution_count": 6,
      "outputs": [
        {
          "output_type": "execute_result",
          "data": {
            "text/plain": [
              "1040"
            ]
          },
          "metadata": {
            "tags": []
          },
          "execution_count": 6
        }
      ]
    },
    {
      "cell_type": "code",
      "metadata": {
        "id": "yQBYsrsjeBHR",
        "colab": {
          "base_uri": "https://localhost:8080/",
          "height": 165
        },
        "outputId": "58a0d94b-0c26-4d9d-ef47-e8dcc7274fb2"
      },
      "source": [
        "img = cv2.imread(img_list[0])\n",
        "\n",
        "label = os.path.splitext(os.path.basename(img_list[0]))[0]\n",
        "\n",
        "plt.title(label)\n",
        "plt.imshow(img)"
      ],
      "execution_count": 7,
      "outputs": [
        {
          "output_type": "execute_result",
          "data": {
            "text/plain": [
              "<matplotlib.image.AxesImage at 0x7f87a5061f90>"
            ]
          },
          "metadata": {
            "tags": []
          },
          "execution_count": 7
        },
        {
          "output_type": "display_data",
          "data": {
            "image/png": "[encoded data removed]",
            "text/plain": [
              "<Figure size 432x288 with 1 Axes>"
            ]
          },
          "metadata": {
            "tags": [],
            "needs_background": "light"
          }
        }
      ]
    },
    {
      "cell_type": "code",
      "metadata": {
        "id": "yI0lifv8eBJZ",
        "colab": {
          "base_uri": "https://localhost:8080/"
        },
        "outputId": "34dd1011-c770-4c49-b4a2-472b316772a0"
      },
      "source": [
        "#processing\n",
        "imgs = []\n",
        "labels = []\n",
        "max_length = 0\n",
        "\n",
        "for img_path in img_list:\n",
        "  imgs.append(img_path)\n",
        "\n",
        "  label = os.path.splitext(os.path.basename(img_path))[0]\n",
        "  labels.append(label)\n",
        "\n",
        "  if len(label) > max_length:\n",
        "    max_length = len(label)\n",
        "\n",
        "print(len(imgs), len(labels), max_length)"
      ],
      "execution_count": 8,
      "outputs": [
        {
          "output_type": "stream",
          "text": [
            "1040 1040 5\n"
          ],
          "name": "stdout"
        }
      ]
    },
    {
      "cell_type": "code",
      "metadata": {
        "id": "r8GC_j8veH92",
        "colab": {
          "base_uri": "https://localhost:8080/",
          "height": 88
        },
        "outputId": "3d15272e-2ff9-40cf-805f-b0307bce6a11"
      },
      "source": [
        "''.join(labels)"
      ],
      "execution_count": 9,
      "outputs": [
        {
          "output_type": "execute_result",
          "data": {
            "application/vnd.google.colaboratory.intrinsic+json": {
              "type": "string"
            },
            "text/plain": [
              "'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'"
            ]
          },
          "metadata": {
            "tags": []
          },
          "execution_count": 9
        }
      ]
    },
    {
      "cell_type": "code",
      "metadata": {
        "id": "U59_GUtCeH_5",
        "colab": {
          "base_uri": "https://localhost:8080/"
        },
        "outputId": "93ad6dce-c11a-4678-f36b-87b14ae3fa00"
      },
      "source": [
        "characters = set(''.join(labels))\n",
        "characters"
      ],
      "execution_count": 10,
      "outputs": [
        {
          "output_type": "execute_result",
          "data": {
            "text/plain": [
              "{'2',\n",
              " '3',\n",
              " '4',\n",
              " '5',\n",
              " '6',\n",
              " '7',\n",
              " '8',\n",
              " 'b',\n",
              " 'c',\n",
              " 'd',\n",
              " 'e',\n",
              " 'f',\n",
              " 'g',\n",
              " 'm',\n",
              " 'n',\n",
              " 'p',\n",
              " 'w',\n",
              " 'x',\n",
              " 'y'}"
            ]
          },
          "metadata": {
            "tags": []
          },
          "execution_count": 10
        }
      ]
    },
    {
      "cell_type": "code",
      "metadata": {
        "id": "e3zQdxAMeICJ",
        "colab": {
          "base_uri": "https://localhost:8080/"
        },
        "outputId": "4af2a322-c6ba-4385-ad2a-bc9d08f2ad5b"
      },
      "source": [
        "#Encode Labels\n",
        "char_to_num = layers.experimental.preprocessing.StringLookup(\n",
        "    vocabulary=list(characters), num_oov_indices=0, mask_token=None\n",
        ")\n",
        "\n",
        "num_to_char = layers.experimental.preprocessing.StringLookup(\n",
        "    vocabulary=char_to_num.get_vocabulary(), num_oov_indices=0, mask_token=None, invert=True\n",
        ")\n",
        "\n",
        "print(labels[0])\n",
        "encoded = char_to_num(tf.strings.unicode_split(labels[0], input_encoding='UTF-8'))\n",
        "print(encoded)"
      ],
      "execution_count": 11,
      "outputs": [
        {
          "output_type": "stream",
          "text": [
            "wdww8\n",
            "tf.Tensor([ 5  6  5  5 13], shape=(5,), dtype=int64)\n"
          ],
          "name": "stdout"
        }
      ]
    },
    {
      "cell_type": "code",
      "metadata": {
        "colab": {
          "base_uri": "https://localhost:8080/",
          "height": 34
        },
        "id": "ij9RgJg3GcjQ",
        "outputId": "0614f963-040d-4d1d-eec3-964a96197b27"
      },
      "source": [
        "tf.strings.reduce_join(num_to_char(encoded)).numpy().decode('utf-8')"
      ],
      "execution_count": 12,
      "outputs": [
        {
          "output_type": "execute_result",
          "data": {
            "application/vnd.google.colaboratory.intrinsic+json": {
              "type": "string"
            },
            "text/plain": [
              "'wdww8'"
            ]
          },
          "metadata": {
            "tags": []
          },
          "execution_count": 12
        }
      ]
    },
    {
      "cell_type": "code",
      "metadata": {
        "colab": {
          "base_uri": "https://localhost:8080/"
        },
        "id": "EchBwU9TH0Yv",
        "outputId": "b001e2ef-6b04-4902-d677-78db7c6afae2"
      },
      "source": [
        "#Split Dataset\n",
        "from sklearn.model_selection import train_test_split\n",
        "\n",
        "x_train, x_val, y_train, y_val = train_test_split(imgs, labels, test_size=0.1, random_state=2021)\n",
        "\n",
        "print(len(x_train), len(y_train))\n",
        "print(len(x_val), len(y_val))"
      ],
      "execution_count": 13,
      "outputs": [
        {
          "output_type": "stream",
          "text": [
            "936 936\n",
            "104 104\n"
          ],
          "name": "stdout"
        }
      ]
    },
    {
      "cell_type": "code",
      "metadata": {
        "id": "WmkDMuQJH0bm"
      },
      "source": [
        ""
      ],
      "execution_count": 13,
      "outputs": []
    },
    {
      "cell_type": "code",
      "metadata": {
        "id": "_ngcqUy1H0ee"
      },
      "source": [
        ""
      ],
      "execution_count": 13,
      "outputs": []
    },
    {
      "cell_type": "code",
      "metadata": {
        "id": "mBmNak4DH0hm"
      },
      "source": [
        ""
      ],
      "execution_count": 13,
      "outputs": []
    }
  ]
}