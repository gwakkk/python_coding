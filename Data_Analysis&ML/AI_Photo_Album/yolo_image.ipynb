{
 "cells": [
  {
   "cell_type": "code",
   "execution_count": 1,
   "metadata": {},
   "outputs": [],
   "source": [
    "#YOLOv5\n",
    "#https://github.com/ultralytics/yolov5"
   ]
  },
  {
   "cell_type": "code",
   "execution_count": 2,
   "metadata": {},
   "outputs": [
    {
     "name": "stdout",
     "output_type": "stream",
     "text": [
      "Requirement already satisfied: torch in c:\\users\\chan\\anaconda3\\lib\\site-packages (1.9.0)\n",
      "Requirement already satisfied: typing-extensions in c:\\users\\chan\\appdata\\roaming\\python\\python37\\site-packages (from torch) (3.7.4.2)\n",
      "Requirement already satisfied: torchvision in c:\\users\\chan\\anaconda3\\lib\\site-packages (0.10.0)\n",
      "Requirement already satisfied: numpy in c:\\users\\chan\\anaconda3\\lib\\site-packages (from torchvision) (1.19.5)\n",
      "Requirement already satisfied: torch==1.9.0 in c:\\users\\chan\\anaconda3\\lib\\site-packages (from torchvision) (1.9.0)\n",
      "Requirement already satisfied: pillow>=5.3.0 in c:\\users\\chan\\anaconda3\\lib\\site-packages (from torchvision) (8.0.1)\n",
      "Requirement already satisfied: typing-extensions in c:\\users\\chan\\appdata\\roaming\\python\\python37\\site-packages (from torch==1.9.0->torchvision) (3.7.4.2)\n"
     ]
    }
   ],
   "source": [
    "!pip install torch\n",
    "!pip install torchvision"
   ]
  },
  {
   "cell_type": "code",
   "execution_count": 3,
   "metadata": {},
   "outputs": [
    {
     "name": "stderr",
     "output_type": "stream",
     "text": [
      "Using cache found in C:\\Users\\chan/.cache\\torch\\hub\\ultralytics_yolov5_master\n",
      "YOLOv5  2021-7-7 torch 1.9.0+cpu CPU\n",
      "\n",
      "Fusing layers... \n",
      "Model Summary: 224 layers, 7266973 parameters, 0 gradients\n",
      "Adding AutoShape... \n"
     ]
    }
   ],
   "source": [
    "import torch\n",
    "\n",
    "model = torch.hub.load('ultralytics/yolov5', 'yolov5s')"
   ]
  },
  {
   "cell_type": "code",
   "execution_count": 4,
   "metadata": {},
   "outputs": [
    {
     "name": "stderr",
     "output_type": "stream",
     "text": [
      "C:\\Users\\chan\\anaconda3\\lib\\site-packages\\torch\\nn\\functional.py:718: UserWarning: Named tensors and all their associated APIs are an experimental feature and subject to change. Please do not use them for anything important until they are released as stable. (Triggered internally at  ..\\c10/core/TensorImpl.h:1156.)\n",
      "  return torch.max_pool2d(input, kernel_size, stride, padding, dilation, ceil_mode)\n"
     ]
    },
    {
     "name": "stdout",
     "output_type": "stream",
     "text": [
      "image 1/1: 959x640 1 person, 1 chair, 1 dining table, 1 laptop\n",
      "Speed: 41.0ms pre-process, 157.0ms inference, 2.0ms NMS per image at shape (1, 3, 640, 448)\n"
     ]
    }
   ],
   "source": [
    "# img = 'https://ultralytics.com/images/zidane.jpg'\n",
    "img_path = 'static/photos/67.jpg'\n",
    "\n",
    "results = model(img_path)\n",
    "\n",
    "results.print()"
   ]
  },
  {
   "cell_type": "code",
   "execution_count": 5,
   "metadata": {},
   "outputs": [],
   "source": [
    "# result image\n",
    "results.show()"
   ]
  },
  {
   "cell_type": "code",
   "execution_count": 6,
   "metadata": {},
   "outputs": [
    {
     "data": {
      "text/plain": [
       "[tensor([[1.70234e+00, 5.10571e+02, 3.63277e+02, 7.90127e+02, 8.41732e-01, 6.30000e+01],\n",
       "         [2.18034e+02, 2.77226e+02, 5.90177e+02, 7.52857e+02, 6.89628e-01, 0.00000e+00],\n",
       "         [5.60648e+02, 5.24505e+02, 6.36366e+02, 7.35436e+02, 4.31692e-01, 5.60000e+01],\n",
       "         [0.00000e+00, 7.16503e+02, 6.32980e+02, 9.57661e+02, 4.22925e-01, 6.00000e+01]])]"
      ]
     },
     "execution_count": 6,
     "metadata": {},
     "output_type": "execute_result"
    }
   ],
   "source": [
    "#result prediction\n",
    "results.pred"
   ]
  },
  {
   "cell_type": "code",
   "execution_count": 7,
   "metadata": {},
   "outputs": [
    {
     "data": {
      "text/plain": [
       "['person',\n",
       " 'bicycle',\n",
       " 'car',\n",
       " 'motorcycle',\n",
       " 'airplane',\n",
       " 'bus',\n",
       " 'train',\n",
       " 'truck',\n",
       " 'boat',\n",
       " 'traffic light',\n",
       " 'fire hydrant',\n",
       " 'stop sign',\n",
       " 'parking meter',\n",
       " 'bench',\n",
       " 'bird',\n",
       " 'cat',\n",
       " 'dog',\n",
       " 'horse',\n",
       " 'sheep',\n",
       " 'cow',\n",
       " 'elephant',\n",
       " 'bear',\n",
       " 'zebra',\n",
       " 'giraffe',\n",
       " 'backpack',\n",
       " 'umbrella',\n",
       " 'handbag',\n",
       " 'tie',\n",
       " 'suitcase',\n",
       " 'frisbee',\n",
       " 'skis',\n",
       " 'snowboard',\n",
       " 'sports ball',\n",
       " 'kite',\n",
       " 'baseball bat',\n",
       " 'baseball glove',\n",
       " 'skateboard',\n",
       " 'surfboard',\n",
       " 'tennis racket',\n",
       " 'bottle',\n",
       " 'wine glass',\n",
       " 'cup',\n",
       " 'fork',\n",
       " 'knife',\n",
       " 'spoon',\n",
       " 'bowl',\n",
       " 'banana',\n",
       " 'apple',\n",
       " 'sandwich',\n",
       " 'orange',\n",
       " 'broccoli',\n",
       " 'carrot',\n",
       " 'hot dog',\n",
       " 'pizza',\n",
       " 'donut',\n",
       " 'cake',\n",
       " 'chair',\n",
       " 'couch',\n",
       " 'potted plant',\n",
       " 'bed',\n",
       " 'dining table',\n",
       " 'toilet',\n",
       " 'tv',\n",
       " 'laptop',\n",
       " 'mouse',\n",
       " 'remote',\n",
       " 'keyboard',\n",
       " 'cell phone',\n",
       " 'microwave',\n",
       " 'oven',\n",
       " 'toaster',\n",
       " 'sink',\n",
       " 'refrigerator',\n",
       " 'book',\n",
       " 'clock',\n",
       " 'vase',\n",
       " 'scissors',\n",
       " 'teddy bear',\n",
       " 'hair drier',\n",
       " 'toothbrush']"
      ]
     },
     "execution_count": 7,
     "metadata": {},
     "output_type": "execute_result"
    }
   ],
   "source": [
    "#label names\n",
    "results.names"
   ]
  },
  {
   "cell_type": "code",
   "execution_count": 8,
   "metadata": {},
   "outputs": [
    {
     "data": {
      "text/plain": [
       "'laptop'"
      ]
     },
     "execution_count": 8,
     "metadata": {},
     "output_type": "execute_result"
    }
   ],
   "source": [
    "# prediction raw result\n",
    "results.names[int(results.pred[0][0][-1])]"
   ]
  },
  {
   "cell_type": "code",
   "execution_count": 9,
   "metadata": {},
   "outputs": [
    {
     "data": {
      "text/plain": [
       "['사람',\n",
       " '자전거',\n",
       " '자동차',\n",
       " '바이크',\n",
       " '비행기',\n",
       " '버스',\n",
       " '기차',\n",
       " '트럭',\n",
       " '보트',\n",
       " '신호등',\n",
       " '소화전',\n",
       " '정지신호',\n",
       " '주차요금징수기',\n",
       " '벤치',\n",
       " '새',\n",
       " '고양이',\n",
       " '강아지',\n",
       " '말',\n",
       " '양',\n",
       " '소',\n",
       " '코끼리',\n",
       " '곰',\n",
       " '얼룩말',\n",
       " '기린',\n",
       " '백팩',\n",
       " '우산',\n",
       " '핸드백',\n",
       " '넥타이',\n",
       " '여행가방',\n",
       " '프리스비',\n",
       " '스키',\n",
       " '스노보드',\n",
       " '공',\n",
       " '연',\n",
       " '야구공',\n",
       " '야구글러브',\n",
       " '스케이트보드',\n",
       " '서핑보드',\n",
       " '테니스라켓',\n",
       " '병',\n",
       " '와인잔',\n",
       " '컵',\n",
       " '포크',\n",
       " '나이프',\n",
       " '숟가락',\n",
       " '그릇',\n",
       " '바나나',\n",
       " '사과',\n",
       " '샌드위치',\n",
       " '오렌지',\n",
       " '브로콜리',\n",
       " '당근',\n",
       " '핫도그',\n",
       " '피자',\n",
       " '도넛',\n",
       " '케이크',\n",
       " '의자',\n",
       " '소파',\n",
       " '식물',\n",
       " '침대',\n",
       " '테이블',\n",
       " '화장실',\n",
       " '테레비',\n",
       " '노트북',\n",
       " '마우스',\n",
       " '리모콘',\n",
       " '키보드',\n",
       " '휴대폰',\n",
       " '전자렌지',\n",
       " '오븐',\n",
       " '토스터',\n",
       " '싱크대',\n",
       " '냉장고',\n",
       " '책',\n",
       " '시계',\n",
       " '꽃병',\n",
       " '가위',\n",
       " '테디베어',\n",
       " '헤어드라이기',\n",
       " '칫솔']"
      ]
     },
     "execution_count": 9,
     "metadata": {},
     "output_type": "execute_result"
    }
   ],
   "source": [
    "import json\n",
    "\n",
    "with open('tags_ko.json',encoding = 'utf-8') as f:\n",
    "    tags_ko = json.load(f)\n",
    "    \n",
    "tags_ko"
   ]
  },
  {
   "cell_type": "code",
   "execution_count": 10,
   "metadata": {},
   "outputs": [
    {
     "data": {
      "text/plain": [
       "{'static/photos\\\\01.jpg': ['person'],\n",
       " 'static/photos\\\\02.jpg': ['person'],\n",
       " 'static/photos\\\\03.jpg': ['person', 'bench', 'umbrella'],\n",
       " 'static/photos\\\\04.jpg': [],\n",
       " 'static/photos\\\\05.jpg': ['person', 'bicycle'],\n",
       " 'static/photos\\\\06.jpg': ['person', 'cup', 'cellphone', 'bicycle'],\n",
       " 'static/photos\\\\07.jpg': ['person', 'bicycle'],\n",
       " 'static/photos\\\\08.jpg': ['person', 'bicycle'],\n",
       " 'static/photos\\\\09.jpg': ['car'],\n",
       " 'static/photos\\\\10.jpg': ['person'],\n",
       " 'static/photos\\\\11.jpg': ['person', 'car'],\n",
       " 'static/photos\\\\12.jpg': ['person'],\n",
       " 'static/photos\\\\13.jpg': ['bench', 'motorcycle'],\n",
       " 'static/photos\\\\14.jpg': ['person'],\n",
       " 'static/photos\\\\15.jpg': ['person', 'car'],\n",
       " 'static/photos\\\\16.jpg': ['person', 'motorcycle'],\n",
       " 'static/photos\\\\17.jpg': ['person', 'motorcycle'],\n",
       " 'static/photos\\\\18.jpg': ['person', 'motorcycle'],\n",
       " 'static/photos\\\\19.jpg': ['airplane'],\n",
       " 'static/photos\\\\20.jpg': ['airplane'],\n",
       " 'static/photos\\\\21.jpg': ['person', 'bus'],\n",
       " 'static/photos\\\\22.jpg': ['person'],\n",
       " 'static/photos\\\\23.jpg': ['person', 'suitcase', 'bus'],\n",
       " 'static/photos\\\\24.jpg': ['person', 'train', 'handbag'],\n",
       " 'static/photos\\\\25.jpg': ['train'],\n",
       " 'static/photos\\\\26.jpg': ['backpack', 'person'],\n",
       " 'static/photos\\\\27.jpg': ['bird'],\n",
       " 'static/photos\\\\28.jpg': ['bird'],\n",
       " 'static/photos\\\\29.jpg': ['bird'],\n",
       " 'static/photos\\\\30.jpg': ['cat'],\n",
       " 'static/photos\\\\31.jpg': ['cat'],\n",
       " 'static/photos\\\\32.jpg': ['cat'],\n",
       " 'static/photos\\\\33.jpg': ['cat'],\n",
       " 'static/photos\\\\34.jpg': ['zebra'],\n",
       " 'static/photos\\\\35.jpg': ['giraffe'],\n",
       " 'static/photos\\\\36.jpg': ['person', 'snowboard'],\n",
       " 'static/photos\\\\37.jpg': ['person', 'skis'],\n",
       " 'static/photos\\\\38.jpg': ['person', 'skis'],\n",
       " 'static/photos\\\\39.jpg': ['person', 'snowboard'],\n",
       " 'static/photos\\\\40.jpg': ['person', 'kite'],\n",
       " 'static/photos\\\\41.jpg': ['person', 'kite'],\n",
       " 'static/photos\\\\42.jpg': ['person', 'kite'],\n",
       " 'static/photos\\\\43.jpg': ['person', 'kite'],\n",
       " 'static/photos\\\\44.jpg': ['person', 'surfboard'],\n",
       " 'static/photos\\\\45.jpg': ['person', 'surfboard'],\n",
       " 'static/photos\\\\46.jpg': ['person', 'surfboard'],\n",
       " 'static/photos\\\\47.jpg': ['person', 'surfboard'],\n",
       " 'static/photos\\\\48.jpg': ['wineglass', 'knife', 'cup', 'fork'],\n",
       " 'static/photos\\\\49.jpg': ['person', 'wineglass'],\n",
       " 'static/photos\\\\50.jpg': ['cup',\n",
       "  'wineglass',\n",
       "  'person',\n",
       "  'bottle',\n",
       "  'orange',\n",
       "  'diningtable'],\n",
       " 'static/photos\\\\51.jpg': ['bowl',\n",
       "  'cup',\n",
       "  'wineglass',\n",
       "  'knife',\n",
       "  'sandwich',\n",
       "  'person',\n",
       "  'orange',\n",
       "  'bottle',\n",
       "  'pottedplant',\n",
       "  'apple'],\n",
       " 'static/photos\\\\52.jpg': ['pizza'],\n",
       " 'static/photos\\\\53.jpg': ['person', 'cellphone', 'pizza'],\n",
       " 'static/photos\\\\54.jpg': ['pizza', 'person', 'umbrella'],\n",
       " 'static/photos\\\\55.jpg': ['person', 'handbag', 'cup', 'pizza'],\n",
       " 'static/photos\\\\56.jpg': ['pizza',\n",
       "  'laptop',\n",
       "  'person',\n",
       "  'bottle',\n",
       "  'diningtable'],\n",
       " 'static/photos\\\\57.jpg': ['person', 'vase', 'cake', 'knife'],\n",
       " 'static/photos\\\\58.jpg': ['hotdog'],\n",
       " 'static/photos\\\\59.jpg': ['person', 'cake', 'diningtable'],\n",
       " 'static/photos\\\\60.jpg': ['diningtable', 'sportsball', 'dog'],\n",
       " 'static/photos\\\\61.jpg': ['person', 'wineglass', 'cake'],\n",
       " 'static/photos\\\\62.jpg': ['person', 'laptop', 'cake', 'diningtable'],\n",
       " 'static/photos\\\\63.jpg': ['chair',\n",
       "  'laptop',\n",
       "  'bowl',\n",
       "  'cup',\n",
       "  'person',\n",
       "  'bottle',\n",
       "  'diningtable'],\n",
       " 'static/photos\\\\64.jpg': ['person', 'laptop', 'cup'],\n",
       " 'static/photos\\\\65.jpg': ['chair',\n",
       "  'laptop',\n",
       "  'cake',\n",
       "  'cup',\n",
       "  'tv',\n",
       "  'person',\n",
       "  'bottle',\n",
       "  'pottedplant',\n",
       "  'book'],\n",
       " 'static/photos\\\\66.jpg': ['person', 'laptop', 'pottedplant', 'bed'],\n",
       " 'static/photos\\\\67.jpg': ['person', 'chair', 'laptop', 'diningtable']}"
      ]
     },
     "execution_count": 10,
     "metadata": {},
     "output_type": "execute_result"
    }
   ],
   "source": [
    "# predict\n",
    "from glob import glob\n",
    "\n",
    "img_list = glob('static/photos/*.jpg')\n",
    "\n",
    "db = {}\n",
    "\n",
    "for img_path in img_list:\n",
    "    results = model(img_path)\n",
    "    \n",
    "    tags = set()\n",
    "\n",
    "    for pred in results.pred[0]:\n",
    "        tag = results.names[int(pred[-1])] # English\n",
    "#         tag = tags_ko[int(pred[-1])] # Korean\n",
    "        tag = tag.replace(' ', '')\n",
    "        tags.add(tag)\n",
    "        \n",
    "    db[img_path] = list(tags)\n",
    "\n",
    "db"
   ]
  },
  {
   "cell_type": "code",
   "execution_count": null,
   "metadata": {},
   "outputs": [
    {
     "name": "stdout",
     "output_type": "stream",
     "text": [
      " * Serving Flask app \"__main__\" (lazy loading)\n",
      " * Environment: production\n",
      "   WARNING: This is a development server. Do not use it in a production deployment.\n",
      "   Use a production WSGI server instead.\n",
      " * Debug mode: off\n"
     ]
    },
    {
     "name": "stderr",
     "output_type": "stream",
     "text": [
      " * Running on http://127.0.0.1:5000/ (Press CTRL+C to quit)\n"
     ]
    }
   ],
   "source": [
    "# create album\n",
    "from flask import Flask, render_template\n",
    "\n",
    "app = Flask(__name__)\n",
    "\n",
    "@app.route('/')\n",
    "def index():\n",
    "    return render_template('index.html', photos=db)\n",
    "\n",
    "if __name__ == '__main__':\n",
    "    app.run()"
   ]
  }
 ],
 "metadata": {
  "kernelspec": {
   "display_name": "Python 3",
   "language": "python",
   "name": "python3"
  },
  "language_info": {
   "codemirror_mode": {
    "name": "ipython",
    "version": 3
   },
   "file_extension": ".py",
   "mimetype": "text/x-python",
   "name": "python",
   "nbconvert_exporter": "python",
   "pygments_lexer": "ipython3",
   "version": "3.7.9"
  }
 },
 "nbformat": 4,
 "nbformat_minor": 4
}
