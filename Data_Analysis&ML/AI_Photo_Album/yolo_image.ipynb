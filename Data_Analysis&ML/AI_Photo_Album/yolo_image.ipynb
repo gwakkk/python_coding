{
 "cells": [
  {
   "cell_type": "code",
   "execution_count": 12,
   "metadata": {},
   "outputs": [],
   "source": [
    "#YOLOv5\n",
    "#https://github.com/ultralytics/yolov5"
   ]
  },
  {
   "cell_type": "code",
   "execution_count": 13,
   "metadata": {},
   "outputs": [
    {
     "name": "stdout",
     "output_type": "stream",
     "text": [
      "Requirement already satisfied: torch in c:\\users\\chan\\anaconda3\\lib\\site-packages (1.9.0)\n",
      "Requirement already satisfied: typing-extensions in c:\\users\\chan\\appdata\\roaming\\python\\python37\\site-packages (from torch) (3.7.4.2)\n",
      "Requirement already satisfied: torchvision in c:\\users\\chan\\anaconda3\\lib\\site-packages (0.10.0)\n",
      "Requirement already satisfied: torch==1.9.0 in c:\\users\\chan\\anaconda3\\lib\\site-packages (from torchvision) (1.9.0)\n",
      "Requirement already satisfied: pillow>=5.3.0 in c:\\users\\chan\\anaconda3\\lib\\site-packages (from torchvision) (8.0.1)\n",
      "Requirement already satisfied: numpy in c:\\users\\chan\\anaconda3\\lib\\site-packages (from torchvision) (1.19.5)\n",
      "Requirement already satisfied: typing-extensions in c:\\users\\chan\\appdata\\roaming\\python\\python37\\site-packages (from torch==1.9.0->torchvision) (3.7.4.2)\n"
     ]
    }
   ],
   "source": [
    "!pip install torch\n",
    "!pip install torchvision"
   ]
  },
  {
   "cell_type": "code",
   "execution_count": 14,
   "metadata": {},
   "outputs": [
    {
     "name": "stderr",
     "output_type": "stream",
     "text": [
      "Using cache found in C:\\Users\\chan/.cache\\torch\\hub\\ultralytics_yolov5_master\n",
      "YOLOv5  2021-7-7 torch 1.9.0+cpu CPU\n",
      "\n",
      "Fusing layers... \n",
      "Model Summary: 224 layers, 7266973 parameters, 0 gradients\n",
      "Adding AutoShape... \n"
     ]
    }
   ],
   "source": [
    "import torch\n",
    "\n",
    "model = torch.hub.load('ultralytics/yolov5', 'yolov5s')"
   ]
  },
  {
   "cell_type": "code",
   "execution_count": 15,
   "metadata": {},
   "outputs": [
    {
     "name": "stdout",
     "output_type": "stream",
     "text": [
      "image 1/1: 959x640 1 person, 1 chair, 1 dining table, 1 laptop\n",
      "Speed: 17.0ms pre-process, 128.0ms inference, 0.0ms NMS per image at shape (1, 3, 640, 448)\n"
     ]
    }
   ],
   "source": [
    "# img = 'https://ultralytics.com/images/zidane.jpg'\n",
    "img_path = 'static/photos/67.jpg'\n",
    "\n",
    "results = model(img_path)\n",
    "\n",
    "results.print()"
   ]
  },
  {
   "cell_type": "code",
   "execution_count": 16,
   "metadata": {},
   "outputs": [],
   "source": [
    "# result image\n",
    "results.show()"
   ]
  },
  {
   "cell_type": "code",
   "execution_count": 17,
   "metadata": {},
   "outputs": [
    {
     "data": {
      "text/plain": [
       "[tensor([[1.70234e+00, 5.10571e+02, 3.63277e+02, 7.90127e+02, 8.41732e-01, 6.30000e+01],\n",
       "         [2.18034e+02, 2.77226e+02, 5.90177e+02, 7.52857e+02, 6.89628e-01, 0.00000e+00],\n",
       "         [5.60648e+02, 5.24505e+02, 6.36366e+02, 7.35436e+02, 4.31692e-01, 5.60000e+01],\n",
       "         [0.00000e+00, 7.16503e+02, 6.32980e+02, 9.57661e+02, 4.22925e-01, 6.00000e+01]])]"
      ]
     },
     "execution_count": 17,
     "metadata": {},
     "output_type": "execute_result"
    }
   ],
   "source": [
    "#result prediction\n",
    "results.pred"
   ]
  },
  {
   "cell_type": "code",
   "execution_count": 18,
   "metadata": {},
   "outputs": [
    {
     "data": {
      "text/plain": [
       "['person',\n",
       " 'bicycle',\n",
       " 'car',\n",
       " 'motorcycle',\n",
       " 'airplane',\n",
       " 'bus',\n",
       " 'train',\n",
       " 'truck',\n",
       " 'boat',\n",
       " 'traffic light',\n",
       " 'fire hydrant',\n",
       " 'stop sign',\n",
       " 'parking meter',\n",
       " 'bench',\n",
       " 'bird',\n",
       " 'cat',\n",
       " 'dog',\n",
       " 'horse',\n",
       " 'sheep',\n",
       " 'cow',\n",
       " 'elephant',\n",
       " 'bear',\n",
       " 'zebra',\n",
       " 'giraffe',\n",
       " 'backpack',\n",
       " 'umbrella',\n",
       " 'handbag',\n",
       " 'tie',\n",
       " 'suitcase',\n",
       " 'frisbee',\n",
       " 'skis',\n",
       " 'snowboard',\n",
       " 'sports ball',\n",
       " 'kite',\n",
       " 'baseball bat',\n",
       " 'baseball glove',\n",
       " 'skateboard',\n",
       " 'surfboard',\n",
       " 'tennis racket',\n",
       " 'bottle',\n",
       " 'wine glass',\n",
       " 'cup',\n",
       " 'fork',\n",
       " 'knife',\n",
       " 'spoon',\n",
       " 'bowl',\n",
       " 'banana',\n",
       " 'apple',\n",
       " 'sandwich',\n",
       " 'orange',\n",
       " 'broccoli',\n",
       " 'carrot',\n",
       " 'hot dog',\n",
       " 'pizza',\n",
       " 'donut',\n",
       " 'cake',\n",
       " 'chair',\n",
       " 'couch',\n",
       " 'potted plant',\n",
       " 'bed',\n",
       " 'dining table',\n",
       " 'toilet',\n",
       " 'tv',\n",
       " 'laptop',\n",
       " 'mouse',\n",
       " 'remote',\n",
       " 'keyboard',\n",
       " 'cell phone',\n",
       " 'microwave',\n",
       " 'oven',\n",
       " 'toaster',\n",
       " 'sink',\n",
       " 'refrigerator',\n",
       " 'book',\n",
       " 'clock',\n",
       " 'vase',\n",
       " 'scissors',\n",
       " 'teddy bear',\n",
       " 'hair drier',\n",
       " 'toothbrush']"
      ]
     },
     "execution_count": 18,
     "metadata": {},
     "output_type": "execute_result"
    }
   ],
   "source": [
    "#label names\n",
    "results.names"
   ]
  },
  {
   "cell_type": "code",
   "execution_count": 19,
   "metadata": {},
   "outputs": [
    {
     "data": {
      "text/plain": [
       "'laptop'"
      ]
     },
     "execution_count": 19,
     "metadata": {},
     "output_type": "execute_result"
    }
   ],
   "source": [
    "# prediction raw result\n",
    "results.names[int(results.pred[0][0][-1])]"
   ]
  },
  {
   "cell_type": "code",
   "execution_count": 21,
   "metadata": {},
   "outputs": [
    {
     "data": {
      "text/plain": [
       "['사람',\n",
       " '자전거',\n",
       " '자동차',\n",
       " '바이크',\n",
       " '비행기',\n",
       " '버스',\n",
       " '기차',\n",
       " '트럭',\n",
       " '보트',\n",
       " '신호등',\n",
       " '소화전',\n",
       " '정지신호',\n",
       " '주차요금징수기',\n",
       " '벤치',\n",
       " '새',\n",
       " '고양이',\n",
       " '강아지',\n",
       " '말',\n",
       " '양',\n",
       " '소',\n",
       " '코끼리',\n",
       " '곰',\n",
       " '얼룩말',\n",
       " '기린',\n",
       " '백팩',\n",
       " '우산',\n",
       " '핸드백',\n",
       " '넥타이',\n",
       " '여행가방',\n",
       " '프리스비',\n",
       " '스키',\n",
       " '스노보드',\n",
       " '공',\n",
       " '연',\n",
       " '야구공',\n",
       " '야구글러브',\n",
       " '스케이트보드',\n",
       " '서핑보드',\n",
       " '테니스라켓',\n",
       " '병',\n",
       " '와인잔',\n",
       " '컵',\n",
       " '포크',\n",
       " '나이프',\n",
       " '숟가락',\n",
       " '그릇',\n",
       " '바나나',\n",
       " '사과',\n",
       " '샌드위치',\n",
       " '오렌지',\n",
       " '브로콜리',\n",
       " '당근',\n",
       " '핫도그',\n",
       " '피자',\n",
       " '도넛',\n",
       " '케이크',\n",
       " '의자',\n",
       " '소파',\n",
       " '식물',\n",
       " '침대',\n",
       " '테이블',\n",
       " '화장실',\n",
       " '테레비',\n",
       " '노트북',\n",
       " '마우스',\n",
       " '리모콘',\n",
       " '키보드',\n",
       " '휴대폰',\n",
       " '전자렌지',\n",
       " '오븐',\n",
       " '토스터',\n",
       " '싱크대',\n",
       " '냉장고',\n",
       " '책',\n",
       " '시계',\n",
       " '꽃병',\n",
       " '가위',\n",
       " '테디베어',\n",
       " '헤어드라이기',\n",
       " '칫솔']"
      ]
     },
     "execution_count": 21,
     "metadata": {},
     "output_type": "execute_result"
    }
   ],
   "source": [
    "import json\n",
    "\n",
    "with open('tags_ko.json',encoding = 'utf-8') as f:\n",
    "    tags_ko = json.load(f)\n",
    "    \n",
    "tags_ko"
   ]
  },
  {
   "cell_type": "code",
   "execution_count": null,
   "metadata": {},
   "outputs": [],
   "source": []
  }
 ],
 "metadata": {
  "kernelspec": {
   "display_name": "Python 3",
   "language": "python",
   "name": "python3"
  },
  "language_info": {
   "codemirror_mode": {
    "name": "ipython",
    "version": 3
   },
   "file_extension": ".py",
   "mimetype": "text/x-python",
   "name": "python",
   "nbconvert_exporter": "python",
   "pygments_lexer": "ipython3",
   "version": "3.7.9"
  }
 },
 "nbformat": 4,
 "nbformat_minor": 4
}
