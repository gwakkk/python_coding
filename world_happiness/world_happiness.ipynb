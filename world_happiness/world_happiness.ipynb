{
 "cells": [
  {
   "cell_type": "code",
   "execution_count": null,
   "metadata": {},
   "outputs": [],
   "source": [
    "# 우리나라의 행복지수를 세계의 다른나라와 비교\n",
    "# dataset https://www.kaggle.com/unsdsn/world-happiness?select=2015.csv"
   ]
  },
  {
   "cell_type": "code",
   "execution_count": 3,
   "metadata": {},
   "outputs": [
    {
     "data": {
      "text/html": [
       "        <script type=\"text/javascript\">\n",
       "        window.PlotlyConfig = {MathJaxConfig: 'local'};\n",
       "        if (window.MathJax) {MathJax.Hub.Config({SVG: {font: \"STIX-Web\"}});}\n",
       "        if (typeof require !== 'undefined') {\n",
       "        require.undef(\"plotly\");\n",
       "        requirejs.config({\n",
       "            paths: {\n",
       "                'plotly': ['https://cdn.plot.ly/plotly-latest.min']\n",
       "            }\n",
       "        });\n",
       "        require(['plotly'], function(Plotly) {\n",
       "            window._Plotly = Plotly;\n",
       "        });\n",
       "        }\n",
       "        </script>\n",
       "        "
      ]
     },
     "metadata": {},
     "output_type": "display_data"
    }
   ],
   "source": [
    "import pandas as pd\n",
    "import numpy as np\n",
    "import matplotlib.pyplot as plt\n",
    "import seaborn as sns\n",
    "from scipy import stats\n",
    "from sklearn.tree import DecisionTreeClassifier\n",
    "from sklearn.ensemble import RandomForestClassifier\n",
    "from sklearn.metrics import classification_report, confusion_matrix\n",
    "from sklearn.datasets import fetch_20newsgroups_vectorized\n",
    "from sklearn.feature_selection import chi2\n",
    "from sklearn.feature_selection import RFE\n",
    "from sklearn.ensemble import ExtraTreesClassifier\n",
    "from sklearn import datasets\n",
    "from sklearn import metrics\n",
    "import types\n",
    "from sklearn.manifold import TSNE\n",
    "import plotly.graph_objs as go\n",
    "from plotly.offline import download_plotlyjs, init_notebook_mode, plot, iplot\n",
    "init_notebook_mode(connected=True)\n",
    "%matplotlib inline\n",
    "import seaborn as sns\n",
    "sns.set(style=\"darkgrid\", palette=\"bright\", font_scale=1.5)"
   ]
  },
  {
   "cell_type": "code",
   "execution_count": 5,
   "metadata": {},
   "outputs": [
    {
     "data": {
      "text/html": [
       "<div>\n",
       "<style scoped>\n",
       "    .dataframe tbody tr th:only-of-type {\n",
       "        vertical-align: middle;\n",
       "    }\n",
       "\n",
       "    .dataframe tbody tr th {\n",
       "        vertical-align: top;\n",
       "    }\n",
       "\n",
       "    .dataframe thead th {\n",
       "        text-align: right;\n",
       "    }\n",
       "</style>\n",
       "<table border=\"1\" class=\"dataframe\">\n",
       "  <thead>\n",
       "    <tr style=\"text-align: right;\">\n",
       "      <th></th>\n",
       "      <th>Country</th>\n",
       "      <th>Happiness.Rank</th>\n",
       "      <th>Happiness.Score</th>\n",
       "      <th>Whisker.high</th>\n",
       "      <th>Whisker.low</th>\n",
       "      <th>Economy..GDP.per.Capita.</th>\n",
       "      <th>Family</th>\n",
       "      <th>Health..Life.Expectancy.</th>\n",
       "      <th>Freedom</th>\n",
       "      <th>Generosity</th>\n",
       "      <th>Trust..Government.Corruption.</th>\n",
       "      <th>Dystopia.Residual</th>\n",
       "    </tr>\n",
       "  </thead>\n",
       "  <tbody>\n",
       "    <tr>\n",
       "      <th>0</th>\n",
       "      <td>Norway</td>\n",
       "      <td>1</td>\n",
       "      <td>7.537</td>\n",
       "      <td>7.594445</td>\n",
       "      <td>7.479556</td>\n",
       "      <td>1.616463</td>\n",
       "      <td>1.533524</td>\n",
       "      <td>0.796667</td>\n",
       "      <td>0.635423</td>\n",
       "      <td>0.362012</td>\n",
       "      <td>0.315964</td>\n",
       "      <td>2.277027</td>\n",
       "    </tr>\n",
       "    <tr>\n",
       "      <th>1</th>\n",
       "      <td>Denmark</td>\n",
       "      <td>2</td>\n",
       "      <td>7.522</td>\n",
       "      <td>7.581728</td>\n",
       "      <td>7.462272</td>\n",
       "      <td>1.482383</td>\n",
       "      <td>1.551122</td>\n",
       "      <td>0.792566</td>\n",
       "      <td>0.626007</td>\n",
       "      <td>0.355280</td>\n",
       "      <td>0.400770</td>\n",
       "      <td>2.313707</td>\n",
       "    </tr>\n",
       "    <tr>\n",
       "      <th>2</th>\n",
       "      <td>Iceland</td>\n",
       "      <td>3</td>\n",
       "      <td>7.504</td>\n",
       "      <td>7.622030</td>\n",
       "      <td>7.385970</td>\n",
       "      <td>1.480633</td>\n",
       "      <td>1.610574</td>\n",
       "      <td>0.833552</td>\n",
       "      <td>0.627163</td>\n",
       "      <td>0.475540</td>\n",
       "      <td>0.153527</td>\n",
       "      <td>2.322715</td>\n",
       "    </tr>\n",
       "    <tr>\n",
       "      <th>3</th>\n",
       "      <td>Switzerland</td>\n",
       "      <td>4</td>\n",
       "      <td>7.494</td>\n",
       "      <td>7.561772</td>\n",
       "      <td>7.426227</td>\n",
       "      <td>1.564980</td>\n",
       "      <td>1.516912</td>\n",
       "      <td>0.858131</td>\n",
       "      <td>0.620071</td>\n",
       "      <td>0.290549</td>\n",
       "      <td>0.367007</td>\n",
       "      <td>2.276716</td>\n",
       "    </tr>\n",
       "    <tr>\n",
       "      <th>4</th>\n",
       "      <td>Finland</td>\n",
       "      <td>5</td>\n",
       "      <td>7.469</td>\n",
       "      <td>7.527542</td>\n",
       "      <td>7.410458</td>\n",
       "      <td>1.443572</td>\n",
       "      <td>1.540247</td>\n",
       "      <td>0.809158</td>\n",
       "      <td>0.617951</td>\n",
       "      <td>0.245483</td>\n",
       "      <td>0.382612</td>\n",
       "      <td>2.430182</td>\n",
       "    </tr>\n",
       "    <tr>\n",
       "      <th>5</th>\n",
       "      <td>Netherlands</td>\n",
       "      <td>6</td>\n",
       "      <td>7.377</td>\n",
       "      <td>7.427426</td>\n",
       "      <td>7.326574</td>\n",
       "      <td>1.503945</td>\n",
       "      <td>1.428939</td>\n",
       "      <td>0.810696</td>\n",
       "      <td>0.585384</td>\n",
       "      <td>0.470490</td>\n",
       "      <td>0.282662</td>\n",
       "      <td>2.294804</td>\n",
       "    </tr>\n",
       "    <tr>\n",
       "      <th>6</th>\n",
       "      <td>Canada</td>\n",
       "      <td>7</td>\n",
       "      <td>7.316</td>\n",
       "      <td>7.384403</td>\n",
       "      <td>7.247597</td>\n",
       "      <td>1.479204</td>\n",
       "      <td>1.481349</td>\n",
       "      <td>0.834558</td>\n",
       "      <td>0.611101</td>\n",
       "      <td>0.435540</td>\n",
       "      <td>0.287372</td>\n",
       "      <td>2.187264</td>\n",
       "    </tr>\n",
       "    <tr>\n",
       "      <th>7</th>\n",
       "      <td>New Zealand</td>\n",
       "      <td>8</td>\n",
       "      <td>7.314</td>\n",
       "      <td>7.379510</td>\n",
       "      <td>7.248490</td>\n",
       "      <td>1.405706</td>\n",
       "      <td>1.548195</td>\n",
       "      <td>0.816760</td>\n",
       "      <td>0.614062</td>\n",
       "      <td>0.500005</td>\n",
       "      <td>0.382817</td>\n",
       "      <td>2.046456</td>\n",
       "    </tr>\n",
       "    <tr>\n",
       "      <th>8</th>\n",
       "      <td>Sweden</td>\n",
       "      <td>9</td>\n",
       "      <td>7.284</td>\n",
       "      <td>7.344095</td>\n",
       "      <td>7.223905</td>\n",
       "      <td>1.494387</td>\n",
       "      <td>1.478162</td>\n",
       "      <td>0.830875</td>\n",
       "      <td>0.612924</td>\n",
       "      <td>0.385399</td>\n",
       "      <td>0.384399</td>\n",
       "      <td>2.097538</td>\n",
       "    </tr>\n",
       "    <tr>\n",
       "      <th>9</th>\n",
       "      <td>Australia</td>\n",
       "      <td>10</td>\n",
       "      <td>7.284</td>\n",
       "      <td>7.356651</td>\n",
       "      <td>7.211349</td>\n",
       "      <td>1.484415</td>\n",
       "      <td>1.510042</td>\n",
       "      <td>0.843887</td>\n",
       "      <td>0.601607</td>\n",
       "      <td>0.477699</td>\n",
       "      <td>0.301184</td>\n",
       "      <td>2.065211</td>\n",
       "    </tr>\n",
       "    <tr>\n",
       "      <th>10</th>\n",
       "      <td>Israel</td>\n",
       "      <td>11</td>\n",
       "      <td>7.213</td>\n",
       "      <td>7.279853</td>\n",
       "      <td>7.146146</td>\n",
       "      <td>1.375382</td>\n",
       "      <td>1.376290</td>\n",
       "      <td>0.838404</td>\n",
       "      <td>0.405989</td>\n",
       "      <td>0.330083</td>\n",
       "      <td>0.085242</td>\n",
       "      <td>2.801757</td>\n",
       "    </tr>\n",
       "    <tr>\n",
       "      <th>11</th>\n",
       "      <td>Costa Rica</td>\n",
       "      <td>12</td>\n",
       "      <td>7.079</td>\n",
       "      <td>7.168112</td>\n",
       "      <td>6.989888</td>\n",
       "      <td>1.109706</td>\n",
       "      <td>1.416404</td>\n",
       "      <td>0.759509</td>\n",
       "      <td>0.580132</td>\n",
       "      <td>0.214613</td>\n",
       "      <td>0.100107</td>\n",
       "      <td>2.898639</td>\n",
       "    </tr>\n",
       "    <tr>\n",
       "      <th>12</th>\n",
       "      <td>Austria</td>\n",
       "      <td>13</td>\n",
       "      <td>7.006</td>\n",
       "      <td>7.070670</td>\n",
       "      <td>6.941330</td>\n",
       "      <td>1.487097</td>\n",
       "      <td>1.459945</td>\n",
       "      <td>0.815328</td>\n",
       "      <td>0.567766</td>\n",
       "      <td>0.316472</td>\n",
       "      <td>0.221060</td>\n",
       "      <td>2.138506</td>\n",
       "    </tr>\n",
       "    <tr>\n",
       "      <th>13</th>\n",
       "      <td>United States</td>\n",
       "      <td>14</td>\n",
       "      <td>6.993</td>\n",
       "      <td>7.074657</td>\n",
       "      <td>6.911343</td>\n",
       "      <td>1.546259</td>\n",
       "      <td>1.419921</td>\n",
       "      <td>0.774287</td>\n",
       "      <td>0.505741</td>\n",
       "      <td>0.392579</td>\n",
       "      <td>0.135639</td>\n",
       "      <td>2.218113</td>\n",
       "    </tr>\n",
       "    <tr>\n",
       "      <th>14</th>\n",
       "      <td>Ireland</td>\n",
       "      <td>15</td>\n",
       "      <td>6.977</td>\n",
       "      <td>7.043352</td>\n",
       "      <td>6.910649</td>\n",
       "      <td>1.535707</td>\n",
       "      <td>1.558231</td>\n",
       "      <td>0.809783</td>\n",
       "      <td>0.573110</td>\n",
       "      <td>0.427858</td>\n",
       "      <td>0.298388</td>\n",
       "      <td>1.773869</td>\n",
       "    </tr>\n",
       "    <tr>\n",
       "      <th>15</th>\n",
       "      <td>Germany</td>\n",
       "      <td>16</td>\n",
       "      <td>6.951</td>\n",
       "      <td>7.005382</td>\n",
       "      <td>6.896619</td>\n",
       "      <td>1.487923</td>\n",
       "      <td>1.472520</td>\n",
       "      <td>0.798951</td>\n",
       "      <td>0.562511</td>\n",
       "      <td>0.336269</td>\n",
       "      <td>0.276732</td>\n",
       "      <td>2.015770</td>\n",
       "    </tr>\n",
       "    <tr>\n",
       "      <th>16</th>\n",
       "      <td>Belgium</td>\n",
       "      <td>17</td>\n",
       "      <td>6.891</td>\n",
       "      <td>6.955821</td>\n",
       "      <td>6.826179</td>\n",
       "      <td>1.463781</td>\n",
       "      <td>1.462313</td>\n",
       "      <td>0.818092</td>\n",
       "      <td>0.539771</td>\n",
       "      <td>0.231503</td>\n",
       "      <td>0.251343</td>\n",
       "      <td>2.124210</td>\n",
       "    </tr>\n",
       "    <tr>\n",
       "      <th>17</th>\n",
       "      <td>Luxembourg</td>\n",
       "      <td>18</td>\n",
       "      <td>6.863</td>\n",
       "      <td>6.923686</td>\n",
       "      <td>6.802314</td>\n",
       "      <td>1.741944</td>\n",
       "      <td>1.457584</td>\n",
       "      <td>0.845089</td>\n",
       "      <td>0.596628</td>\n",
       "      <td>0.283181</td>\n",
       "      <td>0.318834</td>\n",
       "      <td>1.619512</td>\n",
       "    </tr>\n",
       "    <tr>\n",
       "      <th>18</th>\n",
       "      <td>United Kingdom</td>\n",
       "      <td>19</td>\n",
       "      <td>6.714</td>\n",
       "      <td>6.783792</td>\n",
       "      <td>6.644209</td>\n",
       "      <td>1.441634</td>\n",
       "      <td>1.496460</td>\n",
       "      <td>0.805336</td>\n",
       "      <td>0.508190</td>\n",
       "      <td>0.492774</td>\n",
       "      <td>0.265428</td>\n",
       "      <td>1.704144</td>\n",
       "    </tr>\n",
       "    <tr>\n",
       "      <th>19</th>\n",
       "      <td>Chile</td>\n",
       "      <td>20</td>\n",
       "      <td>6.652</td>\n",
       "      <td>6.739251</td>\n",
       "      <td>6.564749</td>\n",
       "      <td>1.252785</td>\n",
       "      <td>1.284025</td>\n",
       "      <td>0.819480</td>\n",
       "      <td>0.376895</td>\n",
       "      <td>0.326662</td>\n",
       "      <td>0.082288</td>\n",
       "      <td>2.509586</td>\n",
       "    </tr>\n",
       "    <tr>\n",
       "      <th>20</th>\n",
       "      <td>United Arab Emirates</td>\n",
       "      <td>21</td>\n",
       "      <td>6.648</td>\n",
       "      <td>6.722047</td>\n",
       "      <td>6.573952</td>\n",
       "      <td>1.626343</td>\n",
       "      <td>1.266410</td>\n",
       "      <td>0.726798</td>\n",
       "      <td>0.608345</td>\n",
       "      <td>0.360942</td>\n",
       "      <td>0.324490</td>\n",
       "      <td>1.734704</td>\n",
       "    </tr>\n",
       "    <tr>\n",
       "      <th>21</th>\n",
       "      <td>Brazil</td>\n",
       "      <td>22</td>\n",
       "      <td>6.635</td>\n",
       "      <td>6.725470</td>\n",
       "      <td>6.544531</td>\n",
       "      <td>1.107353</td>\n",
       "      <td>1.431306</td>\n",
       "      <td>0.616552</td>\n",
       "      <td>0.437454</td>\n",
       "      <td>0.162350</td>\n",
       "      <td>0.111093</td>\n",
       "      <td>2.769267</td>\n",
       "    </tr>\n",
       "    <tr>\n",
       "      <th>22</th>\n",
       "      <td>Czech Republic</td>\n",
       "      <td>23</td>\n",
       "      <td>6.609</td>\n",
       "      <td>6.683862</td>\n",
       "      <td>6.534138</td>\n",
       "      <td>1.352682</td>\n",
       "      <td>1.433885</td>\n",
       "      <td>0.754444</td>\n",
       "      <td>0.490946</td>\n",
       "      <td>0.088107</td>\n",
       "      <td>0.036873</td>\n",
       "      <td>2.451862</td>\n",
       "    </tr>\n",
       "    <tr>\n",
       "      <th>23</th>\n",
       "      <td>Argentina</td>\n",
       "      <td>24</td>\n",
       "      <td>6.599</td>\n",
       "      <td>6.690085</td>\n",
       "      <td>6.507915</td>\n",
       "      <td>1.185295</td>\n",
       "      <td>1.440451</td>\n",
       "      <td>0.695137</td>\n",
       "      <td>0.494519</td>\n",
       "      <td>0.109457</td>\n",
       "      <td>0.059740</td>\n",
       "      <td>2.614005</td>\n",
       "    </tr>\n",
       "    <tr>\n",
       "      <th>24</th>\n",
       "      <td>Mexico</td>\n",
       "      <td>25</td>\n",
       "      <td>6.578</td>\n",
       "      <td>6.671149</td>\n",
       "      <td>6.484851</td>\n",
       "      <td>1.153184</td>\n",
       "      <td>1.210862</td>\n",
       "      <td>0.709979</td>\n",
       "      <td>0.412730</td>\n",
       "      <td>0.120990</td>\n",
       "      <td>0.132774</td>\n",
       "      <td>2.837155</td>\n",
       "    </tr>\n",
       "    <tr>\n",
       "      <th>25</th>\n",
       "      <td>Singapore</td>\n",
       "      <td>26</td>\n",
       "      <td>6.572</td>\n",
       "      <td>6.636723</td>\n",
       "      <td>6.507277</td>\n",
       "      <td>1.692278</td>\n",
       "      <td>1.353814</td>\n",
       "      <td>0.949492</td>\n",
       "      <td>0.549841</td>\n",
       "      <td>0.345966</td>\n",
       "      <td>0.464308</td>\n",
       "      <td>1.216362</td>\n",
       "    </tr>\n",
       "    <tr>\n",
       "      <th>26</th>\n",
       "      <td>Malta</td>\n",
       "      <td>27</td>\n",
       "      <td>6.527</td>\n",
       "      <td>6.598397</td>\n",
       "      <td>6.455603</td>\n",
       "      <td>1.343280</td>\n",
       "      <td>1.488412</td>\n",
       "      <td>0.821944</td>\n",
       "      <td>0.588767</td>\n",
       "      <td>0.574731</td>\n",
       "      <td>0.153066</td>\n",
       "      <td>1.556863</td>\n",
       "    </tr>\n",
       "    <tr>\n",
       "      <th>27</th>\n",
       "      <td>Uruguay</td>\n",
       "      <td>28</td>\n",
       "      <td>6.454</td>\n",
       "      <td>6.545906</td>\n",
       "      <td>6.362094</td>\n",
       "      <td>1.217560</td>\n",
       "      <td>1.412228</td>\n",
       "      <td>0.719217</td>\n",
       "      <td>0.579392</td>\n",
       "      <td>0.175097</td>\n",
       "      <td>0.178062</td>\n",
       "      <td>2.172410</td>\n",
       "    </tr>\n",
       "    <tr>\n",
       "      <th>28</th>\n",
       "      <td>Guatemala</td>\n",
       "      <td>29</td>\n",
       "      <td>6.454</td>\n",
       "      <td>6.566874</td>\n",
       "      <td>6.341126</td>\n",
       "      <td>0.872002</td>\n",
       "      <td>1.255585</td>\n",
       "      <td>0.540240</td>\n",
       "      <td>0.531311</td>\n",
       "      <td>0.283488</td>\n",
       "      <td>0.077223</td>\n",
       "      <td>2.893891</td>\n",
       "    </tr>\n",
       "    <tr>\n",
       "      <th>29</th>\n",
       "      <td>Panama</td>\n",
       "      <td>30</td>\n",
       "      <td>6.452</td>\n",
       "      <td>6.557131</td>\n",
       "      <td>6.346870</td>\n",
       "      <td>1.233748</td>\n",
       "      <td>1.373193</td>\n",
       "      <td>0.706156</td>\n",
       "      <td>0.550027</td>\n",
       "      <td>0.210557</td>\n",
       "      <td>0.070984</td>\n",
       "      <td>2.307200</td>\n",
       "    </tr>\n",
       "    <tr>\n",
       "      <th>30</th>\n",
       "      <td>France</td>\n",
       "      <td>31</td>\n",
       "      <td>6.442</td>\n",
       "      <td>6.515768</td>\n",
       "      <td>6.368232</td>\n",
       "      <td>1.430923</td>\n",
       "      <td>1.387777</td>\n",
       "      <td>0.844466</td>\n",
       "      <td>0.470222</td>\n",
       "      <td>0.129762</td>\n",
       "      <td>0.172502</td>\n",
       "      <td>2.005955</td>\n",
       "    </tr>\n",
       "    <tr>\n",
       "      <th>31</th>\n",
       "      <td>Thailand</td>\n",
       "      <td>32</td>\n",
       "      <td>6.424</td>\n",
       "      <td>6.509117</td>\n",
       "      <td>6.338883</td>\n",
       "      <td>1.127869</td>\n",
       "      <td>1.425792</td>\n",
       "      <td>0.647239</td>\n",
       "      <td>0.580201</td>\n",
       "      <td>0.572123</td>\n",
       "      <td>0.031613</td>\n",
       "      <td>2.039508</td>\n",
       "    </tr>\n",
       "    <tr>\n",
       "      <th>32</th>\n",
       "      <td>Taiwan Province of China</td>\n",
       "      <td>33</td>\n",
       "      <td>6.422</td>\n",
       "      <td>6.494596</td>\n",
       "      <td>6.349404</td>\n",
       "      <td>1.433627</td>\n",
       "      <td>1.384565</td>\n",
       "      <td>0.793984</td>\n",
       "      <td>0.361467</td>\n",
       "      <td>0.258360</td>\n",
       "      <td>0.063829</td>\n",
       "      <td>2.126607</td>\n",
       "    </tr>\n",
       "    <tr>\n",
       "      <th>33</th>\n",
       "      <td>Spain</td>\n",
       "      <td>34</td>\n",
       "      <td>6.403</td>\n",
       "      <td>6.471055</td>\n",
       "      <td>6.334945</td>\n",
       "      <td>1.384398</td>\n",
       "      <td>1.532091</td>\n",
       "      <td>0.888961</td>\n",
       "      <td>0.408781</td>\n",
       "      <td>0.190134</td>\n",
       "      <td>0.070914</td>\n",
       "      <td>1.927758</td>\n",
       "    </tr>\n",
       "    <tr>\n",
       "      <th>34</th>\n",
       "      <td>Qatar</td>\n",
       "      <td>35</td>\n",
       "      <td>6.375</td>\n",
       "      <td>6.568477</td>\n",
       "      <td>6.181523</td>\n",
       "      <td>1.870766</td>\n",
       "      <td>1.274297</td>\n",
       "      <td>0.710098</td>\n",
       "      <td>0.604131</td>\n",
       "      <td>0.330474</td>\n",
       "      <td>0.439299</td>\n",
       "      <td>1.145464</td>\n",
       "    </tr>\n",
       "    <tr>\n",
       "      <th>35</th>\n",
       "      <td>Colombia</td>\n",
       "      <td>36</td>\n",
       "      <td>6.357</td>\n",
       "      <td>6.452020</td>\n",
       "      <td>6.261980</td>\n",
       "      <td>1.070622</td>\n",
       "      <td>1.402183</td>\n",
       "      <td>0.595028</td>\n",
       "      <td>0.477487</td>\n",
       "      <td>0.149014</td>\n",
       "      <td>0.046669</td>\n",
       "      <td>2.616068</td>\n",
       "    </tr>\n",
       "    <tr>\n",
       "      <th>36</th>\n",
       "      <td>Saudi Arabia</td>\n",
       "      <td>37</td>\n",
       "      <td>6.344</td>\n",
       "      <td>6.444167</td>\n",
       "      <td>6.243833</td>\n",
       "      <td>1.530624</td>\n",
       "      <td>1.286678</td>\n",
       "      <td>0.590148</td>\n",
       "      <td>0.449751</td>\n",
       "      <td>0.147616</td>\n",
       "      <td>0.273432</td>\n",
       "      <td>2.065430</td>\n",
       "    </tr>\n",
       "    <tr>\n",
       "      <th>37</th>\n",
       "      <td>Trinidad and Tobago</td>\n",
       "      <td>38</td>\n",
       "      <td>6.168</td>\n",
       "      <td>6.381534</td>\n",
       "      <td>5.954467</td>\n",
       "      <td>1.361356</td>\n",
       "      <td>1.380229</td>\n",
       "      <td>0.519983</td>\n",
       "      <td>0.518631</td>\n",
       "      <td>0.325296</td>\n",
       "      <td>0.008965</td>\n",
       "      <td>2.053247</td>\n",
       "    </tr>\n",
       "    <tr>\n",
       "      <th>38</th>\n",
       "      <td>Kuwait</td>\n",
       "      <td>39</td>\n",
       "      <td>6.105</td>\n",
       "      <td>6.191957</td>\n",
       "      <td>6.018043</td>\n",
       "      <td>1.632952</td>\n",
       "      <td>1.259699</td>\n",
       "      <td>0.632106</td>\n",
       "      <td>0.496338</td>\n",
       "      <td>0.228290</td>\n",
       "      <td>0.215160</td>\n",
       "      <td>1.640425</td>\n",
       "    </tr>\n",
       "    <tr>\n",
       "      <th>39</th>\n",
       "      <td>Slovakia</td>\n",
       "      <td>40</td>\n",
       "      <td>6.098</td>\n",
       "      <td>6.177348</td>\n",
       "      <td>6.018652</td>\n",
       "      <td>1.325394</td>\n",
       "      <td>1.505059</td>\n",
       "      <td>0.712733</td>\n",
       "      <td>0.295817</td>\n",
       "      <td>0.136544</td>\n",
       "      <td>0.024211</td>\n",
       "      <td>2.097777</td>\n",
       "    </tr>\n",
       "    <tr>\n",
       "      <th>40</th>\n",
       "      <td>Bahrain</td>\n",
       "      <td>41</td>\n",
       "      <td>6.087</td>\n",
       "      <td>6.178989</td>\n",
       "      <td>5.995011</td>\n",
       "      <td>1.488412</td>\n",
       "      <td>1.323110</td>\n",
       "      <td>0.653133</td>\n",
       "      <td>0.536747</td>\n",
       "      <td>0.172668</td>\n",
       "      <td>0.257042</td>\n",
       "      <td>1.656149</td>\n",
       "    </tr>\n",
       "    <tr>\n",
       "      <th>41</th>\n",
       "      <td>Malaysia</td>\n",
       "      <td>42</td>\n",
       "      <td>6.084</td>\n",
       "      <td>6.179980</td>\n",
       "      <td>5.988021</td>\n",
       "      <td>1.291215</td>\n",
       "      <td>1.284646</td>\n",
       "      <td>0.618784</td>\n",
       "      <td>0.402265</td>\n",
       "      <td>0.416609</td>\n",
       "      <td>0.065601</td>\n",
       "      <td>2.004449</td>\n",
       "    </tr>\n",
       "    <tr>\n",
       "      <th>42</th>\n",
       "      <td>Nicaragua</td>\n",
       "      <td>43</td>\n",
       "      <td>6.071</td>\n",
       "      <td>6.186584</td>\n",
       "      <td>5.955417</td>\n",
       "      <td>0.737299</td>\n",
       "      <td>1.287216</td>\n",
       "      <td>0.653096</td>\n",
       "      <td>0.447552</td>\n",
       "      <td>0.301674</td>\n",
       "      <td>0.130688</td>\n",
       "      <td>2.513931</td>\n",
       "    </tr>\n",
       "    <tr>\n",
       "      <th>43</th>\n",
       "      <td>Ecuador</td>\n",
       "      <td>44</td>\n",
       "      <td>6.008</td>\n",
       "      <td>6.105848</td>\n",
       "      <td>5.910152</td>\n",
       "      <td>1.000820</td>\n",
       "      <td>1.286169</td>\n",
       "      <td>0.685636</td>\n",
       "      <td>0.455198</td>\n",
       "      <td>0.150112</td>\n",
       "      <td>0.140135</td>\n",
       "      <td>2.290353</td>\n",
       "    </tr>\n",
       "    <tr>\n",
       "      <th>44</th>\n",
       "      <td>El Salvador</td>\n",
       "      <td>45</td>\n",
       "      <td>6.003</td>\n",
       "      <td>6.108635</td>\n",
       "      <td>5.897364</td>\n",
       "      <td>0.909784</td>\n",
       "      <td>1.182125</td>\n",
       "      <td>0.596019</td>\n",
       "      <td>0.432453</td>\n",
       "      <td>0.078258</td>\n",
       "      <td>0.089981</td>\n",
       "      <td>2.714594</td>\n",
       "    </tr>\n",
       "    <tr>\n",
       "      <th>45</th>\n",
       "      <td>Poland</td>\n",
       "      <td>46</td>\n",
       "      <td>5.973</td>\n",
       "      <td>6.053908</td>\n",
       "      <td>5.892092</td>\n",
       "      <td>1.291788</td>\n",
       "      <td>1.445712</td>\n",
       "      <td>0.699475</td>\n",
       "      <td>0.520342</td>\n",
       "      <td>0.158466</td>\n",
       "      <td>0.059308</td>\n",
       "      <td>1.797723</td>\n",
       "    </tr>\n",
       "    <tr>\n",
       "      <th>46</th>\n",
       "      <td>Uzbekistan</td>\n",
       "      <td>47</td>\n",
       "      <td>5.971</td>\n",
       "      <td>6.065538</td>\n",
       "      <td>5.876463</td>\n",
       "      <td>0.786441</td>\n",
       "      <td>1.548969</td>\n",
       "      <td>0.498273</td>\n",
       "      <td>0.658249</td>\n",
       "      <td>0.415984</td>\n",
       "      <td>0.246528</td>\n",
       "      <td>1.816914</td>\n",
       "    </tr>\n",
       "    <tr>\n",
       "      <th>47</th>\n",
       "      <td>Italy</td>\n",
       "      <td>48</td>\n",
       "      <td>5.964</td>\n",
       "      <td>6.042737</td>\n",
       "      <td>5.885264</td>\n",
       "      <td>1.395067</td>\n",
       "      <td>1.444923</td>\n",
       "      <td>0.853144</td>\n",
       "      <td>0.256451</td>\n",
       "      <td>0.172790</td>\n",
       "      <td>0.028028</td>\n",
       "      <td>1.813312</td>\n",
       "    </tr>\n",
       "    <tr>\n",
       "      <th>48</th>\n",
       "      <td>Russia</td>\n",
       "      <td>49</td>\n",
       "      <td>5.963</td>\n",
       "      <td>6.030275</td>\n",
       "      <td>5.895725</td>\n",
       "      <td>1.281778</td>\n",
       "      <td>1.469282</td>\n",
       "      <td>0.547349</td>\n",
       "      <td>0.373783</td>\n",
       "      <td>0.052264</td>\n",
       "      <td>0.032963</td>\n",
       "      <td>2.205607</td>\n",
       "    </tr>\n",
       "    <tr>\n",
       "      <th>49</th>\n",
       "      <td>Belize</td>\n",
       "      <td>50</td>\n",
       "      <td>5.956</td>\n",
       "      <td>6.197242</td>\n",
       "      <td>5.714757</td>\n",
       "      <td>0.907975</td>\n",
       "      <td>1.081418</td>\n",
       "      <td>0.450192</td>\n",
       "      <td>0.547509</td>\n",
       "      <td>0.240016</td>\n",
       "      <td>0.096581</td>\n",
       "      <td>2.631956</td>\n",
       "    </tr>\n",
       "    <tr>\n",
       "      <th>50</th>\n",
       "      <td>Japan</td>\n",
       "      <td>51</td>\n",
       "      <td>5.920</td>\n",
       "      <td>5.990719</td>\n",
       "      <td>5.849281</td>\n",
       "      <td>1.416915</td>\n",
       "      <td>1.436338</td>\n",
       "      <td>0.913476</td>\n",
       "      <td>0.505626</td>\n",
       "      <td>0.120573</td>\n",
       "      <td>0.163761</td>\n",
       "      <td>1.363224</td>\n",
       "    </tr>\n",
       "    <tr>\n",
       "      <th>51</th>\n",
       "      <td>Lithuania</td>\n",
       "      <td>52</td>\n",
       "      <td>5.902</td>\n",
       "      <td>5.982670</td>\n",
       "      <td>5.821330</td>\n",
       "      <td>1.314582</td>\n",
       "      <td>1.473516</td>\n",
       "      <td>0.628950</td>\n",
       "      <td>0.234232</td>\n",
       "      <td>0.010165</td>\n",
       "      <td>0.011866</td>\n",
       "      <td>2.228441</td>\n",
       "    </tr>\n",
       "    <tr>\n",
       "      <th>52</th>\n",
       "      <td>Algeria</td>\n",
       "      <td>53</td>\n",
       "      <td>5.872</td>\n",
       "      <td>5.978286</td>\n",
       "      <td>5.765714</td>\n",
       "      <td>1.091864</td>\n",
       "      <td>1.146217</td>\n",
       "      <td>0.617585</td>\n",
       "      <td>0.233336</td>\n",
       "      <td>0.069437</td>\n",
       "      <td>0.146096</td>\n",
       "      <td>2.567604</td>\n",
       "    </tr>\n",
       "    <tr>\n",
       "      <th>53</th>\n",
       "      <td>Latvia</td>\n",
       "      <td>54</td>\n",
       "      <td>5.850</td>\n",
       "      <td>5.920264</td>\n",
       "      <td>5.779736</td>\n",
       "      <td>1.260749</td>\n",
       "      <td>1.404715</td>\n",
       "      <td>0.638567</td>\n",
       "      <td>0.325708</td>\n",
       "      <td>0.153075</td>\n",
       "      <td>0.073843</td>\n",
       "      <td>1.993655</td>\n",
       "    </tr>\n",
       "    <tr>\n",
       "      <th>54</th>\n",
       "      <td>South Korea</td>\n",
       "      <td>55</td>\n",
       "      <td>5.838</td>\n",
       "      <td>5.922559</td>\n",
       "      <td>5.753441</td>\n",
       "      <td>1.401678</td>\n",
       "      <td>1.128274</td>\n",
       "      <td>0.900214</td>\n",
       "      <td>0.257922</td>\n",
       "      <td>0.206674</td>\n",
       "      <td>0.063283</td>\n",
       "      <td>1.880378</td>\n",
       "    </tr>\n",
       "    <tr>\n",
       "      <th>55</th>\n",
       "      <td>Moldova</td>\n",
       "      <td>56</td>\n",
       "      <td>5.838</td>\n",
       "      <td>5.908371</td>\n",
       "      <td>5.767629</td>\n",
       "      <td>0.728871</td>\n",
       "      <td>1.251826</td>\n",
       "      <td>0.589465</td>\n",
       "      <td>0.240729</td>\n",
       "      <td>0.208779</td>\n",
       "      <td>0.010091</td>\n",
       "      <td>2.807808</td>\n",
       "    </tr>\n",
       "    <tr>\n",
       "      <th>56</th>\n",
       "      <td>Romania</td>\n",
       "      <td>57</td>\n",
       "      <td>5.825</td>\n",
       "      <td>5.919694</td>\n",
       "      <td>5.730305</td>\n",
       "      <td>1.217684</td>\n",
       "      <td>1.150091</td>\n",
       "      <td>0.685158</td>\n",
       "      <td>0.457004</td>\n",
       "      <td>0.133520</td>\n",
       "      <td>0.004388</td>\n",
       "      <td>2.176831</td>\n",
       "    </tr>\n",
       "    <tr>\n",
       "      <th>57</th>\n",
       "      <td>Bolivia</td>\n",
       "      <td>58</td>\n",
       "      <td>5.823</td>\n",
       "      <td>5.903977</td>\n",
       "      <td>5.742023</td>\n",
       "      <td>0.833757</td>\n",
       "      <td>1.227619</td>\n",
       "      <td>0.473630</td>\n",
       "      <td>0.558733</td>\n",
       "      <td>0.225561</td>\n",
       "      <td>0.060478</td>\n",
       "      <td>2.443279</td>\n",
       "    </tr>\n",
       "    <tr>\n",
       "      <th>58</th>\n",
       "      <td>Turkmenistan</td>\n",
       "      <td>59</td>\n",
       "      <td>5.822</td>\n",
       "      <td>5.885181</td>\n",
       "      <td>5.758819</td>\n",
       "      <td>1.130777</td>\n",
       "      <td>1.493149</td>\n",
       "      <td>0.437726</td>\n",
       "      <td>0.418272</td>\n",
       "      <td>0.249925</td>\n",
       "      <td>0.259270</td>\n",
       "      <td>1.832910</td>\n",
       "    </tr>\n",
       "    <tr>\n",
       "      <th>59</th>\n",
       "      <td>Kazakhstan</td>\n",
       "      <td>60</td>\n",
       "      <td>5.819</td>\n",
       "      <td>5.903642</td>\n",
       "      <td>5.734358</td>\n",
       "      <td>1.284556</td>\n",
       "      <td>1.384369</td>\n",
       "      <td>0.606042</td>\n",
       "      <td>0.437454</td>\n",
       "      <td>0.201964</td>\n",
       "      <td>0.119283</td>\n",
       "      <td>1.784893</td>\n",
       "    </tr>\n",
       "  </tbody>\n",
       "</table>\n",
       "</div>"
      ],
      "text/plain": [
       "                     Country  Happiness.Rank  Happiness.Score  Whisker.high  \\\n",
       "0                     Norway               1            7.537      7.594445   \n",
       "1                    Denmark               2            7.522      7.581728   \n",
       "2                    Iceland               3            7.504      7.622030   \n",
       "3                Switzerland               4            7.494      7.561772   \n",
       "4                    Finland               5            7.469      7.527542   \n",
       "5                Netherlands               6            7.377      7.427426   \n",
       "6                     Canada               7            7.316      7.384403   \n",
       "7                New Zealand               8            7.314      7.379510   \n",
       "8                     Sweden               9            7.284      7.344095   \n",
       "9                  Australia              10            7.284      7.356651   \n",
       "10                    Israel              11            7.213      7.279853   \n",
       "11                Costa Rica              12            7.079      7.168112   \n",
       "12                   Austria              13            7.006      7.070670   \n",
       "13             United States              14            6.993      7.074657   \n",
       "14                   Ireland              15            6.977      7.043352   \n",
       "15                   Germany              16            6.951      7.005382   \n",
       "16                   Belgium              17            6.891      6.955821   \n",
       "17                Luxembourg              18            6.863      6.923686   \n",
       "18            United Kingdom              19            6.714      6.783792   \n",
       "19                     Chile              20            6.652      6.739251   \n",
       "20      United Arab Emirates              21            6.648      6.722047   \n",
       "21                    Brazil              22            6.635      6.725470   \n",
       "22            Czech Republic              23            6.609      6.683862   \n",
       "23                 Argentina              24            6.599      6.690085   \n",
       "24                    Mexico              25            6.578      6.671149   \n",
       "25                 Singapore              26            6.572      6.636723   \n",
       "26                     Malta              27            6.527      6.598397   \n",
       "27                   Uruguay              28            6.454      6.545906   \n",
       "28                 Guatemala              29            6.454      6.566874   \n",
       "29                    Panama              30            6.452      6.557131   \n",
       "30                    France              31            6.442      6.515768   \n",
       "31                  Thailand              32            6.424      6.509117   \n",
       "32  Taiwan Province of China              33            6.422      6.494596   \n",
       "33                     Spain              34            6.403      6.471055   \n",
       "34                     Qatar              35            6.375      6.568477   \n",
       "35                  Colombia              36            6.357      6.452020   \n",
       "36              Saudi Arabia              37            6.344      6.444167   \n",
       "37       Trinidad and Tobago              38            6.168      6.381534   \n",
       "38                    Kuwait              39            6.105      6.191957   \n",
       "39                  Slovakia              40            6.098      6.177348   \n",
       "40                   Bahrain              41            6.087      6.178989   \n",
       "41                  Malaysia              42            6.084      6.179980   \n",
       "42                 Nicaragua              43            6.071      6.186584   \n",
       "43                   Ecuador              44            6.008      6.105848   \n",
       "44               El Salvador              45            6.003      6.108635   \n",
       "45                    Poland              46            5.973      6.053908   \n",
       "46                Uzbekistan              47            5.971      6.065538   \n",
       "47                     Italy              48            5.964      6.042737   \n",
       "48                    Russia              49            5.963      6.030275   \n",
       "49                    Belize              50            5.956      6.197242   \n",
       "50                     Japan              51            5.920      5.990719   \n",
       "51                 Lithuania              52            5.902      5.982670   \n",
       "52                   Algeria              53            5.872      5.978286   \n",
       "53                    Latvia              54            5.850      5.920264   \n",
       "54               South Korea              55            5.838      5.922559   \n",
       "55                   Moldova              56            5.838      5.908371   \n",
       "56                   Romania              57            5.825      5.919694   \n",
       "57                   Bolivia              58            5.823      5.903977   \n",
       "58              Turkmenistan              59            5.822      5.885181   \n",
       "59                Kazakhstan              60            5.819      5.903642   \n",
       "\n",
       "    Whisker.low  Economy..GDP.per.Capita.    Family  Health..Life.Expectancy.  \\\n",
       "0      7.479556                  1.616463  1.533524                  0.796667   \n",
       "1      7.462272                  1.482383  1.551122                  0.792566   \n",
       "2      7.385970                  1.480633  1.610574                  0.833552   \n",
       "3      7.426227                  1.564980  1.516912                  0.858131   \n",
       "4      7.410458                  1.443572  1.540247                  0.809158   \n",
       "5      7.326574                  1.503945  1.428939                  0.810696   \n",
       "6      7.247597                  1.479204  1.481349                  0.834558   \n",
       "7      7.248490                  1.405706  1.548195                  0.816760   \n",
       "8      7.223905                  1.494387  1.478162                  0.830875   \n",
       "9      7.211349                  1.484415  1.510042                  0.843887   \n",
       "10     7.146146                  1.375382  1.376290                  0.838404   \n",
       "11     6.989888                  1.109706  1.416404                  0.759509   \n",
       "12     6.941330                  1.487097  1.459945                  0.815328   \n",
       "13     6.911343                  1.546259  1.419921                  0.774287   \n",
       "14     6.910649                  1.535707  1.558231                  0.809783   \n",
       "15     6.896619                  1.487923  1.472520                  0.798951   \n",
       "16     6.826179                  1.463781  1.462313                  0.818092   \n",
       "17     6.802314                  1.741944  1.457584                  0.845089   \n",
       "18     6.644209                  1.441634  1.496460                  0.805336   \n",
       "19     6.564749                  1.252785  1.284025                  0.819480   \n",
       "20     6.573952                  1.626343  1.266410                  0.726798   \n",
       "21     6.544531                  1.107353  1.431306                  0.616552   \n",
       "22     6.534138                  1.352682  1.433885                  0.754444   \n",
       "23     6.507915                  1.185295  1.440451                  0.695137   \n",
       "24     6.484851                  1.153184  1.210862                  0.709979   \n",
       "25     6.507277                  1.692278  1.353814                  0.949492   \n",
       "26     6.455603                  1.343280  1.488412                  0.821944   \n",
       "27     6.362094                  1.217560  1.412228                  0.719217   \n",
       "28     6.341126                  0.872002  1.255585                  0.540240   \n",
       "29     6.346870                  1.233748  1.373193                  0.706156   \n",
       "30     6.368232                  1.430923  1.387777                  0.844466   \n",
       "31     6.338883                  1.127869  1.425792                  0.647239   \n",
       "32     6.349404                  1.433627  1.384565                  0.793984   \n",
       "33     6.334945                  1.384398  1.532091                  0.888961   \n",
       "34     6.181523                  1.870766  1.274297                  0.710098   \n",
       "35     6.261980                  1.070622  1.402183                  0.595028   \n",
       "36     6.243833                  1.530624  1.286678                  0.590148   \n",
       "37     5.954467                  1.361356  1.380229                  0.519983   \n",
       "38     6.018043                  1.632952  1.259699                  0.632106   \n",
       "39     6.018652                  1.325394  1.505059                  0.712733   \n",
       "40     5.995011                  1.488412  1.323110                  0.653133   \n",
       "41     5.988021                  1.291215  1.284646                  0.618784   \n",
       "42     5.955417                  0.737299  1.287216                  0.653096   \n",
       "43     5.910152                  1.000820  1.286169                  0.685636   \n",
       "44     5.897364                  0.909784  1.182125                  0.596019   \n",
       "45     5.892092                  1.291788  1.445712                  0.699475   \n",
       "46     5.876463                  0.786441  1.548969                  0.498273   \n",
       "47     5.885264                  1.395067  1.444923                  0.853144   \n",
       "48     5.895725                  1.281778  1.469282                  0.547349   \n",
       "49     5.714757                  0.907975  1.081418                  0.450192   \n",
       "50     5.849281                  1.416915  1.436338                  0.913476   \n",
       "51     5.821330                  1.314582  1.473516                  0.628950   \n",
       "52     5.765714                  1.091864  1.146217                  0.617585   \n",
       "53     5.779736                  1.260749  1.404715                  0.638567   \n",
       "54     5.753441                  1.401678  1.128274                  0.900214   \n",
       "55     5.767629                  0.728871  1.251826                  0.589465   \n",
       "56     5.730305                  1.217684  1.150091                  0.685158   \n",
       "57     5.742023                  0.833757  1.227619                  0.473630   \n",
       "58     5.758819                  1.130777  1.493149                  0.437726   \n",
       "59     5.734358                  1.284556  1.384369                  0.606042   \n",
       "\n",
       "     Freedom  Generosity  Trust..Government.Corruption.  Dystopia.Residual  \n",
       "0   0.635423    0.362012                       0.315964           2.277027  \n",
       "1   0.626007    0.355280                       0.400770           2.313707  \n",
       "2   0.627163    0.475540                       0.153527           2.322715  \n",
       "3   0.620071    0.290549                       0.367007           2.276716  \n",
       "4   0.617951    0.245483                       0.382612           2.430182  \n",
       "5   0.585384    0.470490                       0.282662           2.294804  \n",
       "6   0.611101    0.435540                       0.287372           2.187264  \n",
       "7   0.614062    0.500005                       0.382817           2.046456  \n",
       "8   0.612924    0.385399                       0.384399           2.097538  \n",
       "9   0.601607    0.477699                       0.301184           2.065211  \n",
       "10  0.405989    0.330083                       0.085242           2.801757  \n",
       "11  0.580132    0.214613                       0.100107           2.898639  \n",
       "12  0.567766    0.316472                       0.221060           2.138506  \n",
       "13  0.505741    0.392579                       0.135639           2.218113  \n",
       "14  0.573110    0.427858                       0.298388           1.773869  \n",
       "15  0.562511    0.336269                       0.276732           2.015770  \n",
       "16  0.539771    0.231503                       0.251343           2.124210  \n",
       "17  0.596628    0.283181                       0.318834           1.619512  \n",
       "18  0.508190    0.492774                       0.265428           1.704144  \n",
       "19  0.376895    0.326662                       0.082288           2.509586  \n",
       "20  0.608345    0.360942                       0.324490           1.734704  \n",
       "21  0.437454    0.162350                       0.111093           2.769267  \n",
       "22  0.490946    0.088107                       0.036873           2.451862  \n",
       "23  0.494519    0.109457                       0.059740           2.614005  \n",
       "24  0.412730    0.120990                       0.132774           2.837155  \n",
       "25  0.549841    0.345966                       0.464308           1.216362  \n",
       "26  0.588767    0.574731                       0.153066           1.556863  \n",
       "27  0.579392    0.175097                       0.178062           2.172410  \n",
       "28  0.531311    0.283488                       0.077223           2.893891  \n",
       "29  0.550027    0.210557                       0.070984           2.307200  \n",
       "30  0.470222    0.129762                       0.172502           2.005955  \n",
       "31  0.580201    0.572123                       0.031613           2.039508  \n",
       "32  0.361467    0.258360                       0.063829           2.126607  \n",
       "33  0.408781    0.190134                       0.070914           1.927758  \n",
       "34  0.604131    0.330474                       0.439299           1.145464  \n",
       "35  0.477487    0.149014                       0.046669           2.616068  \n",
       "36  0.449751    0.147616                       0.273432           2.065430  \n",
       "37  0.518631    0.325296                       0.008965           2.053247  \n",
       "38  0.496338    0.228290                       0.215160           1.640425  \n",
       "39  0.295817    0.136544                       0.024211           2.097777  \n",
       "40  0.536747    0.172668                       0.257042           1.656149  \n",
       "41  0.402265    0.416609                       0.065601           2.004449  \n",
       "42  0.447552    0.301674                       0.130688           2.513931  \n",
       "43  0.455198    0.150112                       0.140135           2.290353  \n",
       "44  0.432453    0.078258                       0.089981           2.714594  \n",
       "45  0.520342    0.158466                       0.059308           1.797723  \n",
       "46  0.658249    0.415984                       0.246528           1.816914  \n",
       "47  0.256451    0.172790                       0.028028           1.813312  \n",
       "48  0.373783    0.052264                       0.032963           2.205607  \n",
       "49  0.547509    0.240016                       0.096581           2.631956  \n",
       "50  0.505626    0.120573                       0.163761           1.363224  \n",
       "51  0.234232    0.010165                       0.011866           2.228441  \n",
       "52  0.233336    0.069437                       0.146096           2.567604  \n",
       "53  0.325708    0.153075                       0.073843           1.993655  \n",
       "54  0.257922    0.206674                       0.063283           1.880378  \n",
       "55  0.240729    0.208779                       0.010091           2.807808  \n",
       "56  0.457004    0.133520                       0.004388           2.176831  \n",
       "57  0.558733    0.225561                       0.060478           2.443279  \n",
       "58  0.418272    0.249925                       0.259270           1.832910  \n",
       "59  0.437454    0.201964                       0.119283           1.784893  "
      ]
     },
     "execution_count": 5,
     "metadata": {},
     "output_type": "execute_result"
    }
   ],
   "source": [
    "df = pd.read_csv(\"./2017.csv\")\n",
    "df.head(60)"
   ]
  },
  {
   "cell_type": "code",
   "execution_count": null,
   "metadata": {},
   "outputs": [],
   "source": [
    "#Country : Name of the country.\n",
    "\n",
    "#Region : Region the country belongs to.\n",
    "\n",
    "#Happiness Rank : Rank of the country based on the Happiness Score.\n",
    "\n",
    "#Happiness Score : A metric measured in 2015 by asking the sampled people the question: \n",
    "    #\"How would you rate your happiness on a scale of 0 to 10 where 10 is the happiest.\"\n",
    "\n",
    "#Standard Error : The standard error of the happiness score.\n",
    "\n",
    "#Economy (GDP per Capita): The extent to which GDP contributes to the calculation of the Happiness Score.\n",
    "\n",
    "#Family : The extent to which Family contributes to the calculation of the Happiness Score\n",
    "\n",
    "#Health (Life Expectancy) : The extent to which Life expectancy contributed to the calculation of the Happiness Score\n",
    "\n",
    "#Freedom : The extent to which Freedom contributed to the calculation of the Happiness Score.\n",
    "\n",
    "#Trust (Government Corruption) : The extent to which Perception of Corruption contributes to Happiness Score.\n",
    "\n",
    "# Genorosity : The extent to which Generosity contributed to the calcuation of the Happiness Score.\n",
    "\n",
    "# Trush.. Government.corruption : The extent to which perception of Corruption contributes to Happiness Score\n",
    "\n",
    "# Dystopia Residual : The extent to which Dystopia Residual contributes to the calculation of the Happiness Score."
   ]
  },
  {
   "cell_type": "code",
   "execution_count": 6,
   "metadata": {},
   "outputs": [
    {
     "name": "stderr",
     "output_type": "stream",
     "text": [
      "C:\\Users\\chan\\anaconda3\\lib\\site-packages\\seaborn\\distributions.py:2551: FutureWarning:\n",
      "\n",
      "`distplot` is a deprecated function and will be removed in a future version. Please adapt your code to use either `displot` (a figure-level function with similar flexibility) or `histplot` (an axes-level function for histograms).\n",
      "\n"
     ]
    },
    {
     "data": {
      "text/plain": [
       "<AxesSubplot:xlabel='Happiness.Score', ylabel='Density'>"
      ]
     },
     "execution_count": 6,
     "metadata": {},
     "output_type": "execute_result"
    },
    {
     "data": {
      "image/png": "[encoded data removed]",
      "text/plain": [
       "<Figure size 432x288 with 1 Axes>"
      ]
     },
     "metadata": {},
     "output_type": "display_data"
    }
   ],
   "source": [
    "sns.distplot(df['Happiness.Score'])"
   ]
  },
  {
   "cell_type": "code",
   "execution_count": 7,
   "metadata": {},
   "outputs": [
    {
     "data": {
      "text/plain": [
       "<AxesSubplot:>"
      ]
     },
     "execution_count": 7,
     "metadata": {},
     "output_type": "execute_result"
    },
    {
     "data": {
      "image/png": "[encoded data removed]",
      "text/plain": [
       "<Figure size 432x288 with 2 Axes>"
      ]
     },
     "metadata": {},
     "output_type": "display_data"
    }
   ],
   "source": [
    "corrmat = df.corr()\n",
    "# df.corr() : 데이터 상관관계 매트릭스 생성\n",
    "\n",
    "sns.color_palette(\"Paired\")\n",
    "sns.heatmap(corrmat, vmax=.8, square=True, cmap=\"PiYG\", center=0)\n",
    "# seaborn.heatmap() : 열지도(히트맵)을 그려주는 것"
   ]
  },
  {
   "cell_type": "code",
   "execution_count": null,
   "metadata": {},
   "outputs": [],
   "source": [
    "# 두가지 지표가 있을때\n",
    "# 초록색 : A가 커지면 B도 커진다.\n",
    "# 빨간색 : A가 커지면 B는 작아진다."
   ]
  },
  {
   "cell_type": "code",
   "execution_count": 8,
   "metadata": {},
   "outputs": [
    {
     "data": {
      "application/vnd.plotly.v1+json": {
       "config": {
        "linkText": "Export to plot.ly",
        "plotlyServerURL": "https://plot.ly",
        "showLink": false
       },
       "data": [
        {
         "colorbar": {
          "title": {
           "text": "Happiness"
          }
         },
         "locationmode": "country names",
         "locations": [
          "Norway",
          "Denmark",
          "Iceland",
          "Switzerland",
          "Finland",
          "Netherlands",
          "Canada",
          "New Zealand",
          "Sweden",
          "Australia",
          "Israel",
          "Costa Rica",
          "Austria",
          "United States",
          "Ireland",
          "Germany",
          "Belgium",
          "Luxembourg",
          "United Kingdom",
          "Chile",
          "United Arab Emirates",
          "Brazil",
          "Czech Republic",
          "Argentina",
          "Mexico",
          "Singapore",
          "Malta",
          "Uruguay",
          "Guatemala",
          "Panama",
          "France",
          "Thailand",
          "Taiwan Province of China",
          "Spain",
          "Qatar",
          "Colombia",
          "Saudi Arabia",
          "Trinidad and Tobago",
          "Kuwait",
          "Slovakia",
          "Bahrain",
          "Malaysia",
          "Nicaragua",
          "Ecuador",
          "El Salvador",
          "Poland",
          "Uzbekistan",
          "Italy",
          "Russia",
          "Belize",
          "Japan",
          "Lithuania",
          "Algeria",
          "Latvia",
          "South Korea",
          "Moldova",
          "Romania",
          "Bolivia",
          "Turkmenistan",
          "Kazakhstan",
          "North Cyprus",
          "Slovenia",
          "Peru",
          "Mauritius",
          "Cyprus",
          "Estonia",
          "Belarus",
          "Libya",
          "Turkey",
          "Paraguay",
          "Hong Kong S.A.R., China",
          "Philippines",
          "Serbia",
          "Jordan",
          "Hungary",
          "Jamaica",
          "Croatia",
          "Kosovo",
          "China",
          "Pakistan",
          "Indonesia",
          "Venezuela",
          "Montenegro",
          "Morocco",
          "Azerbaijan",
          "Dominican Republic",
          "Greece",
          "Lebanon",
          "Portugal",
          "Bosnia and Herzegovina",
          "Honduras",
          "Macedonia",
          "Somalia",
          "Vietnam",
          "Nigeria",
          "Tajikistan",
          "Bhutan",
          "Kyrgyzstan",
          "Nepal",
          "Mongolia",
          "South Africa",
          "Tunisia",
          "Palestinian Territories",
          "Egypt",
          "Bulgaria",
          "Sierra Leone",
          "Cameroon",
          "Iran",
          "Albania",
          "Bangladesh",
          "Namibia",
          "Kenya",
          "Mozambique",
          "Myanmar",
          "Senegal",
          "Zambia",
          "Iraq",
          "Gabon",
          "Ethiopia",
          "Sri Lanka",
          "Armenia",
          "India",
          "Mauritania",
          "Congo (Brazzaville)",
          "Georgia",
          "Congo (Kinshasa)",
          "Mali",
          "Ivory Coast",
          "Cambodia",
          "Sudan",
          "Ghana",
          "Ukraine",
          "Uganda",
          "Burkina Faso",
          "Niger",
          "Malawi",
          "Chad",
          "Zimbabwe",
          "Lesotho",
          "Angola",
          "Afghanistan",
          "Botswana",
          "Benin",
          "Madagascar",
          "Haiti",
          "Yemen",
          "South Sudan",
          "Liberia",
          "Guinea",
          "Togo",
          "Rwanda",
          "Syria",
          "Tanzania",
          "Burundi",
          "Central African Republic"
         ],
         "text": [
          "Norway",
          "Denmark",
          "Iceland",
          "Switzerland",
          "Finland",
          "Netherlands",
          "Canada",
          "New Zealand",
          "Sweden",
          "Australia",
          "Israel",
          "Costa Rica",
          "Austria",
          "United States",
          "Ireland",
          "Germany",
          "Belgium",
          "Luxembourg",
          "United Kingdom",
          "Chile",
          "United Arab Emirates",
          "Brazil",
          "Czech Republic",
          "Argentina",
          "Mexico",
          "Singapore",
          "Malta",
          "Uruguay",
          "Guatemala",
          "Panama",
          "France",
          "Thailand",
          "Taiwan Province of China",
          "Spain",
          "Qatar",
          "Colombia",
          "Saudi Arabia",
          "Trinidad and Tobago",
          "Kuwait",
          "Slovakia",
          "Bahrain",
          "Malaysia",
          "Nicaragua",
          "Ecuador",
          "El Salvador",
          "Poland",
          "Uzbekistan",
          "Italy",
          "Russia",
          "Belize",
          "Japan",
          "Lithuania",
          "Algeria",
          "Latvia",
          "South Korea",
          "Moldova",
          "Romania",
          "Bolivia",
          "Turkmenistan",
          "Kazakhstan",
          "North Cyprus",
          "Slovenia",
          "Peru",
          "Mauritius",
          "Cyprus",
          "Estonia",
          "Belarus",
          "Libya",
          "Turkey",
          "Paraguay",
          "Hong Kong S.A.R., China",
          "Philippines",
          "Serbia",
          "Jordan",
          "Hungary",
          "Jamaica",
          "Croatia",
          "Kosovo",
          "China",
          "Pakistan",
          "Indonesia",
          "Venezuela",
          "Montenegro",
          "Morocco",
          "Azerbaijan",
          "Dominican Republic",
          "Greece",
          "Lebanon",
          "Portugal",
          "Bosnia and Herzegovina",
          "Honduras",
          "Macedonia",
          "Somalia",
          "Vietnam",
          "Nigeria",
          "Tajikistan",
          "Bhutan",
          "Kyrgyzstan",
          "Nepal",
          "Mongolia",
          "South Africa",
          "Tunisia",
          "Palestinian Territories",
          "Egypt",
          "Bulgaria",
          "Sierra Leone",
          "Cameroon",
          "Iran",
          "Albania",
          "Bangladesh",
          "Namibia",
          "Kenya",
          "Mozambique",
          "Myanmar",
          "Senegal",
          "Zambia",
          "Iraq",
          "Gabon",
          "Ethiopia",
          "Sri Lanka",
          "Armenia",
          "India",
          "Mauritania",
          "Congo (Brazzaville)",
          "Georgia",
          "Congo (Kinshasa)",
          "Mali",
          "Ivory Coast",
          "Cambodia",
          "Sudan",
          "Ghana",
          "Ukraine",
          "Uganda",
          "Burkina Faso",
          "Niger",
          "Malawi",
          "Chad",
          "Zimbabwe",
          "Lesotho",
          "Angola",
          "Afghanistan",
          "Botswana",
          "Benin",
          "Madagascar",
          "Haiti",
          "Yemen",
          "South Sudan",
          "Liberia",
          "Guinea",
          "Togo",
          "Rwanda",
          "Syria",
          "Tanzania",
          "Burundi",
          "Central African Republic"
         ],
         "type": "choropleth",
         "z": [
          1,
          2,
          3,
          4,
          5,
          6,
          7,
          8,
          9,
          10,
          11,
          12,
          13,
          14,
          15,
          16,
          17,
          18,
          19,
          20,
          21,
          22,
          23,
          24,
          25,
          26,
          27,
          28,
          29,
          30,
          31,
          32,
          33,
          34,
          35,
          36,
          37,
          38,
          39,
          40,
          41,
          42,
          43,
          44,
          45,
          46,
          47,
          48,
          49,
          50,
          51,
          52,
          53,
          54,
          55,
          56,
          57,
          58,
          59,
          60,
          61,
          62,
          63,
          64,
          65,
          66,
          67,
          68,
          69,
          70,
          71,
          72,
          73,
          74,
          75,
          76,
          77,
          78,
          79,
          80,
          81,
          82,
          83,
          84,
          85,
          86,
          87,
          88,
          89,
          90,
          91,
          92,
          93,
          94,
          95,
          96,
          97,
          98,
          99,
          100,
          101,
          102,
          103,
          104,
          105,
          106,
          107,
          108,
          109,
          110,
          111,
          112,
          113,
          114,
          115,
          116,
          117,
          118,
          119,
          120,
          121,
          122,
          123,
          124,
          125,
          126,
          127,
          128,
          129,
          130,
          131,
          132,
          133,
          134,
          135,
          136,
          137,
          138,
          139,
          140,
          141,
          142,
          143,
          144,
          145,
          146,
          147,
          148,
          149,
          150,
          151,
          152,
          153,
          154,
          155
         ]
        }
       ],
       "layout": {
        "geo": {
         "showframe": false
        },
        "template": {
         "data": {
          "bar": [
           {
            "error_x": {
             "color": "#2a3f5f"
            },
            "error_y": {
             "color": "#2a3f5f"
            },
            "marker": {
             "line": {
              "color": "#E5ECF6",
              "width": 0.5
             }
            },
            "type": "bar"
           }
          ],
          "barpolar": [
           {
            "marker": {
             "line": {
              "color": "#E5ECF6",
              "width": 0.5
             }
            },
            "type": "barpolar"
           }
          ],
          "carpet": [
           {
            "aaxis": {
             "endlinecolor": "#2a3f5f",
             "gridcolor": "white",
             "linecolor": "white",
             "minorgridcolor": "white",
             "startlinecolor": "#2a3f5f"
            },
            "baxis": {
             "endlinecolor": "#2a3f5f",
             "gridcolor": "white",
             "linecolor": "white",
             "minorgridcolor": "white",
             "startlinecolor": "#2a3f5f"
            },
            "type": "carpet"
           }
          ],
          "choropleth": [
           {
            "colorbar": {
             "outlinewidth": 0,
             "ticks": ""
            },
            "type": "choropleth"
           }
          ],
          "contour": [
           {
            "colorbar": {
             "outlinewidth": 0,
             "ticks": ""
            },
            "colorscale": [
             [
              0,
              "#0d0887"
             ],
             [
              0.1111111111111111,
              "#46039f"
             ],
             [
              0.2222222222222222,
              "#7201a8"
             ],
             [
              0.3333333333333333,
              "#9c179e"
             ],
             [
              0.4444444444444444,
              "#bd3786"
             ],
             [
              0.5555555555555556,
              "#d8576b"
             ],
             [
              0.6666666666666666,
              "#ed7953"
             ],
             [
              0.7777777777777778,
              "#fb9f3a"
             ],
             [
              0.8888888888888888,
              "#fdca26"
             ],
             [
              1,
              "#f0f921"
             ]
            ],
            "type": "contour"
           }
          ],
          "contourcarpet": [
           {
            "colorbar": {
             "outlinewidth": 0,
             "ticks": ""
            },
            "type": "contourcarpet"
           }
          ],
          "heatmap": [
           {
            "colorbar": {
             "outlinewidth": 0,
             "ticks": ""
            },
            "colorscale": [
             [
              0,
              "#0d0887"
             ],
             [
              0.1111111111111111,
              "#46039f"
             ],
             [
              0.2222222222222222,
              "#7201a8"
             ],
             [
              0.3333333333333333,
              "#9c179e"
             ],
             [
              0.4444444444444444,
              "#bd3786"
             ],
             [
              0.5555555555555556,
              "#d8576b"
             ],
             [
              0.6666666666666666,
              "#ed7953"
             ],
             [
              0.7777777777777778,
              "#fb9f3a"
             ],
             [
              0.8888888888888888,
              "#fdca26"
             ],
             [
              1,
              "#f0f921"
             ]
            ],
            "type": "heatmap"
           }
          ],
          "heatmapgl": [
           {
            "colorbar": {
             "outlinewidth": 0,
             "ticks": ""
            },
            "colorscale": [
             [
              0,
              "#0d0887"
             ],
             [
              0.1111111111111111,
              "#46039f"
             ],
             [
              0.2222222222222222,
              "#7201a8"
             ],
             [
              0.3333333333333333,
              "#9c179e"
             ],
             [
              0.4444444444444444,
              "#bd3786"
             ],
             [
              0.5555555555555556,
              "#d8576b"
             ],
             [
              0.6666666666666666,
              "#ed7953"
             ],
             [
              0.7777777777777778,
              "#fb9f3a"
             ],
             [
              0.8888888888888888,
              "#fdca26"
             ],
             [
              1,
              "#f0f921"
             ]
            ],
            "type": "heatmapgl"
           }
          ],
          "histogram": [
           {
            "marker": {
             "colorbar": {
              "outlinewidth": 0,
              "ticks": ""
             }
            },
            "type": "histogram"
           }
          ],
          "histogram2d": [
           {
            "colorbar": {
             "outlinewidth": 0,
             "ticks": ""
            },
            "colorscale": [
             [
              0,
              "#0d0887"
             ],
             [
              0.1111111111111111,
              "#46039f"
             ],
             [
              0.2222222222222222,
              "#7201a8"
             ],
             [
              0.3333333333333333,
              "#9c179e"
             ],
             [
              0.4444444444444444,
              "#bd3786"
             ],
             [
              0.5555555555555556,
              "#d8576b"
             ],
             [
              0.6666666666666666,
              "#ed7953"
             ],
             [
              0.7777777777777778,
              "#fb9f3a"
             ],
             [
              0.8888888888888888,
              "#fdca26"
             ],
             [
              1,
              "#f0f921"
             ]
            ],
            "type": "histogram2d"
           }
          ],
          "histogram2dcontour": [
           {
            "colorbar": {
             "outlinewidth": 0,
             "ticks": ""
            },
            "colorscale": [
             [
              0,
              "#0d0887"
             ],
             [
              0.1111111111111111,
              "#46039f"
             ],
             [
              0.2222222222222222,
              "#7201a8"
             ],
             [
              0.3333333333333333,
              "#9c179e"
             ],
             [
              0.4444444444444444,
              "#bd3786"
             ],
             [
              0.5555555555555556,
              "#d8576b"
             ],
             [
              0.6666666666666666,
              "#ed7953"
             ],
             [
              0.7777777777777778,
              "#fb9f3a"
             ],
             [
              0.8888888888888888,
              "#fdca26"
             ],
             [
              1,
              "#f0f921"
             ]
            ],
            "type": "histogram2dcontour"
           }
          ],
          "mesh3d": [
           {
            "colorbar": {
             "outlinewidth": 0,
             "ticks": ""
            },
            "type": "mesh3d"
           }
          ],
          "parcoords": [
           {
            "line": {
             "colorbar": {
              "outlinewidth": 0,
              "ticks": ""
             }
            },
            "type": "parcoords"
           }
          ],
          "pie": [
           {
            "automargin": true,
            "type": "pie"
           }
          ],
          "scatter": [
           {
            "marker": {
             "colorbar": {
              "outlinewidth": 0,
              "ticks": ""
             }
            },
            "type": "scatter"
           }
          ],
          "scatter3d": [
           {
            "line": {
             "colorbar": {
              "outlinewidth": 0,
              "ticks": ""
             }
            },
            "marker": {
             "colorbar": {
              "outlinewidth": 0,
              "ticks": ""
             }
            },
            "type": "scatter3d"
           }
          ],
          "scattercarpet": [
           {
            "marker": {
             "colorbar": {
              "outlinewidth": 0,
              "ticks": ""
             }
            },
            "type": "scattercarpet"
           }
          ],
          "scattergeo": [
           {
            "marker": {
             "colorbar": {
              "outlinewidth": 0,
              "ticks": ""
             }
            },
            "type": "scattergeo"
           }
          ],
          "scattergl": [
           {
            "marker": {
             "colorbar": {
              "outlinewidth": 0,
              "ticks": ""
             }
            },
            "type": "scattergl"
           }
          ],
          "scattermapbox": [
           {
            "marker": {
             "colorbar": {
              "outlinewidth": 0,
              "ticks": ""
             }
            },
            "type": "scattermapbox"
           }
          ],
          "scatterpolar": [
           {
            "marker": {
             "colorbar": {
              "outlinewidth": 0,
              "ticks": ""
             }
            },
            "type": "scatterpolar"
           }
          ],
          "scatterpolargl": [
           {
            "marker": {
             "colorbar": {
              "outlinewidth": 0,
              "ticks": ""
             }
            },
            "type": "scatterpolargl"
           }
          ],
          "scatterternary": [
           {
            "marker": {
             "colorbar": {
              "outlinewidth": 0,
              "ticks": ""
             }
            },
            "type": "scatterternary"
           }
          ],
          "surface": [
           {
            "colorbar": {
             "outlinewidth": 0,
             "ticks": ""
            },
            "colorscale": [
             [
              0,
              "#0d0887"
             ],
             [
              0.1111111111111111,
              "#46039f"
             ],
             [
              0.2222222222222222,
              "#7201a8"
             ],
             [
              0.3333333333333333,
              "#9c179e"
             ],
             [
              0.4444444444444444,
              "#bd3786"
             ],
             [
              0.5555555555555556,
              "#d8576b"
             ],
             [
              0.6666666666666666,
              "#ed7953"
             ],
             [
              0.7777777777777778,
              "#fb9f3a"
             ],
             [
              0.8888888888888888,
              "#fdca26"
             ],
             [
              1,
              "#f0f921"
             ]
            ],
            "type": "surface"
           }
          ],
          "table": [
           {
            "cells": {
             "fill": {
              "color": "#EBF0F8"
             },
             "line": {
              "color": "white"
             }
            },
            "header": {
             "fill": {
              "color": "#C8D4E3"
             },
             "line": {
              "color": "white"
             }
            },
            "type": "table"
           }
          ]
         },
         "layout": {
          "annotationdefaults": {
           "arrowcolor": "#2a3f5f",
           "arrowhead": 0,
           "arrowwidth": 1
          },
          "autotypenumbers": "strict",
          "coloraxis": {
           "colorbar": {
            "outlinewidth": 0,
            "ticks": ""
           }
          },
          "colorscale": {
           "diverging": [
            [
             0,
             "#8e0152"
            ],
            [
             0.1,
             "#c51b7d"
            ],
            [
             0.2,
             "#de77ae"
            ],
            [
             0.3,
             "#f1b6da"
            ],
            [
             0.4,
             "#fde0ef"
            ],
            [
             0.5,
             "#f7f7f7"
            ],
            [
             0.6,
             "#e6f5d0"
            ],
            [
             0.7,
             "#b8e186"
            ],
            [
             0.8,
             "#7fbc41"
            ],
            [
             0.9,
             "#4d9221"
            ],
            [
             1,
             "#276419"
            ]
           ],
           "sequential": [
            [
             0,
             "#0d0887"
            ],
            [
             0.1111111111111111,
             "#46039f"
            ],
            [
             0.2222222222222222,
             "#7201a8"
            ],
            [
             0.3333333333333333,
             "#9c179e"
            ],
            [
             0.4444444444444444,
             "#bd3786"
            ],
            [
             0.5555555555555556,
             "#d8576b"
            ],
            [
             0.6666666666666666,
             "#ed7953"
            ],
            [
             0.7777777777777778,
             "#fb9f3a"
            ],
            [
             0.8888888888888888,
             "#fdca26"
            ],
            [
             1,
             "#f0f921"
            ]
           ],
           "sequentialminus": [
            [
             0,
             "#0d0887"
            ],
            [
             0.1111111111111111,
             "#46039f"
            ],
            [
             0.2222222222222222,
             "#7201a8"
            ],
            [
             0.3333333333333333,
             "#9c179e"
            ],
            [
             0.4444444444444444,
             "#bd3786"
            ],
            [
             0.5555555555555556,
             "#d8576b"
            ],
            [
             0.6666666666666666,
             "#ed7953"
            ],
            [
             0.7777777777777778,
             "#fb9f3a"
            ],
            [
             0.8888888888888888,
             "#fdca26"
            ],
            [
             1,
             "#f0f921"
            ]
           ]
          },
          "colorway": [
           "#636efa",
           "#EF553B",
           "#00cc96",
           "#ab63fa",
           "#FFA15A",
           "#19d3f3",
           "#FF6692",
           "#B6E880",
           "#FF97FF",
           "#FECB52"
          ],
          "font": {
           "color": "#2a3f5f"
          },
          "geo": {
           "bgcolor": "white",
           "lakecolor": "white",
           "landcolor": "#E5ECF6",
           "showlakes": true,
           "showland": true,
           "subunitcolor": "white"
          },
          "hoverlabel": {
           "align": "left"
          },
          "hovermode": "closest",
          "mapbox": {
           "style": "light"
          },
          "paper_bgcolor": "white",
          "plot_bgcolor": "#E5ECF6",
          "polar": {
           "angularaxis": {
            "gridcolor": "white",
            "linecolor": "white",
            "ticks": ""
           },
           "bgcolor": "#E5ECF6",
           "radialaxis": {
            "gridcolor": "white",
            "linecolor": "white",
            "ticks": ""
           }
          },
          "scene": {
           "xaxis": {
            "backgroundcolor": "#E5ECF6",
            "gridcolor": "white",
            "gridwidth": 2,
            "linecolor": "white",
            "showbackground": true,
            "ticks": "",
            "zerolinecolor": "white"
           },
           "yaxis": {
            "backgroundcolor": "#E5ECF6",
            "gridcolor": "white",
            "gridwidth": 2,
            "linecolor": "white",
            "showbackground": true,
            "ticks": "",
            "zerolinecolor": "white"
           },
           "zaxis": {
            "backgroundcolor": "#E5ECF6",
            "gridcolor": "white",
            "gridwidth": 2,
            "linecolor": "white",
            "showbackground": true,
            "ticks": "",
            "zerolinecolor": "white"
           }
          },
          "shapedefaults": {
           "line": {
            "color": "#2a3f5f"
           }
          },
          "ternary": {
           "aaxis": {
            "gridcolor": "white",
            "linecolor": "white",
            "ticks": ""
           },
           "baxis": {
            "gridcolor": "white",
            "linecolor": "white",
            "ticks": ""
           },
           "bgcolor": "#E5ECF6",
           "caxis": {
            "gridcolor": "white",
            "linecolor": "white",
            "ticks": ""
           }
          },
          "title": {
           "x": 0.05
          },
          "xaxis": {
           "automargin": true,
           "gridcolor": "white",
           "linecolor": "white",
           "ticks": "",
           "title": {
            "standoff": 15
           },
           "zerolinecolor": "white",
           "zerolinewidth": 2
          },
          "yaxis": {
           "automargin": true,
           "gridcolor": "white",
           "linecolor": "white",
           "ticks": "",
           "title": {
            "standoff": 15
           },
           "zerolinecolor": "white",
           "zerolinewidth": 2
          }
         }
        },
        "title": {
         "text": "Global Happiness 2017"
        }
       }
      },
      "text/html": [
       "<div>                            <div id=\"f4e01b0c-cfbe-4171-9277-ecc20b9f9d39\" class=\"plotly-graph-div\" style=\"height:525px; width:100%;\"></div>            <script type=\"text/javascript\">                require([\"plotly\"], function(Plotly) {                    window.PLOTLYENV=window.PLOTLYENV || {};                                    if (document.getElementById(\"f4e01b0c-cfbe-4171-9277-ecc20b9f9d39\")) {                    Plotly.newPlot(                        \"f4e01b0c-cfbe-4171-9277-ecc20b9f9d39\",                        [{\"colorbar\": {\"title\": {\"text\": \"Happiness\"}}, \"locationmode\": \"country names\", \"locations\": [\"Norway\", \"Denmark\", \"Iceland\", \"Switzerland\", \"Finland\", \"Netherlands\", \"Canada\", \"New Zealand\", \"Sweden\", \"Australia\", \"Israel\", \"Costa Rica\", \"Austria\", \"United States\", \"Ireland\", \"Germany\", \"Belgium\", \"Luxembourg\", \"United Kingdom\", \"Chile\", \"United Arab Emirates\", \"Brazil\", \"Czech Republic\", \"Argentina\", \"Mexico\", \"Singapore\", \"Malta\", \"Uruguay\", \"Guatemala\", \"Panama\", \"France\", \"Thailand\", \"Taiwan Province of China\", \"Spain\", \"Qatar\", \"Colombia\", \"Saudi Arabia\", \"Trinidad and Tobago\", \"Kuwait\", \"Slovakia\", \"Bahrain\", \"Malaysia\", \"Nicaragua\", \"Ecuador\", \"El Salvador\", \"Poland\", \"Uzbekistan\", \"Italy\", \"Russia\", \"Belize\", \"Japan\", \"Lithuania\", \"Algeria\", \"Latvia\", \"South Korea\", \"Moldova\", \"Romania\", \"Bolivia\", \"Turkmenistan\", \"Kazakhstan\", \"North Cyprus\", \"Slovenia\", \"Peru\", \"Mauritius\", \"Cyprus\", \"Estonia\", \"Belarus\", \"Libya\", \"Turkey\", \"Paraguay\", \"Hong Kong S.A.R., China\", \"Philippines\", \"Serbia\", \"Jordan\", \"Hungary\", \"Jamaica\", \"Croatia\", \"Kosovo\", \"China\", \"Pakistan\", \"Indonesia\", \"Venezuela\", \"Montenegro\", \"Morocco\", \"Azerbaijan\", \"Dominican Republic\", \"Greece\", \"Lebanon\", \"Portugal\", \"Bosnia and Herzegovina\", \"Honduras\", \"Macedonia\", \"Somalia\", \"Vietnam\", \"Nigeria\", \"Tajikistan\", \"Bhutan\", \"Kyrgyzstan\", \"Nepal\", \"Mongolia\", \"South Africa\", \"Tunisia\", \"Palestinian Territories\", \"Egypt\", \"Bulgaria\", \"Sierra Leone\", \"Cameroon\", \"Iran\", \"Albania\", \"Bangladesh\", \"Namibia\", \"Kenya\", \"Mozambique\", \"Myanmar\", \"Senegal\", \"Zambia\", \"Iraq\", \"Gabon\", \"Ethiopia\", \"Sri Lanka\", \"Armenia\", \"India\", \"Mauritania\", \"Congo (Brazzaville)\", \"Georgia\", \"Congo (Kinshasa)\", \"Mali\", \"Ivory Coast\", \"Cambodia\", \"Sudan\", \"Ghana\", \"Ukraine\", \"Uganda\", \"Burkina Faso\", \"Niger\", \"Malawi\", \"Chad\", \"Zimbabwe\", \"Lesotho\", \"Angola\", \"Afghanistan\", \"Botswana\", \"Benin\", \"Madagascar\", \"Haiti\", \"Yemen\", \"South Sudan\", \"Liberia\", \"Guinea\", \"Togo\", \"Rwanda\", \"Syria\", \"Tanzania\", \"Burundi\", \"Central African Republic\"], \"text\": [\"Norway\", \"Denmark\", \"Iceland\", \"Switzerland\", \"Finland\", \"Netherlands\", \"Canada\", \"New Zealand\", \"Sweden\", \"Australia\", \"Israel\", \"Costa Rica\", \"Austria\", \"United States\", \"Ireland\", \"Germany\", \"Belgium\", \"Luxembourg\", \"United Kingdom\", \"Chile\", \"United Arab Emirates\", \"Brazil\", \"Czech Republic\", \"Argentina\", \"Mexico\", \"Singapore\", \"Malta\", \"Uruguay\", \"Guatemala\", \"Panama\", \"France\", \"Thailand\", \"Taiwan Province of China\", \"Spain\", \"Qatar\", \"Colombia\", \"Saudi Arabia\", \"Trinidad and Tobago\", \"Kuwait\", \"Slovakia\", \"Bahrain\", \"Malaysia\", \"Nicaragua\", \"Ecuador\", \"El Salvador\", \"Poland\", \"Uzbekistan\", \"Italy\", \"Russia\", \"Belize\", \"Japan\", \"Lithuania\", \"Algeria\", \"Latvia\", \"South Korea\", \"Moldova\", \"Romania\", \"Bolivia\", \"Turkmenistan\", \"Kazakhstan\", \"North Cyprus\", \"Slovenia\", \"Peru\", \"Mauritius\", \"Cyprus\", \"Estonia\", \"Belarus\", \"Libya\", \"Turkey\", \"Paraguay\", \"Hong Kong S.A.R., China\", \"Philippines\", \"Serbia\", \"Jordan\", \"Hungary\", \"Jamaica\", \"Croatia\", \"Kosovo\", \"China\", \"Pakistan\", \"Indonesia\", \"Venezuela\", \"Montenegro\", \"Morocco\", \"Azerbaijan\", \"Dominican Republic\", \"Greece\", \"Lebanon\", \"Portugal\", \"Bosnia and Herzegovina\", \"Honduras\", \"Macedonia\", \"Somalia\", \"Vietnam\", \"Nigeria\", \"Tajikistan\", \"Bhutan\", \"Kyrgyzstan\", \"Nepal\", \"Mongolia\", \"South Africa\", \"Tunisia\", \"Palestinian Territories\", \"Egypt\", \"Bulgaria\", \"Sierra Leone\", \"Cameroon\", \"Iran\", \"Albania\", \"Bangladesh\", \"Namibia\", \"Kenya\", \"Mozambique\", \"Myanmar\", \"Senegal\", \"Zambia\", \"Iraq\", \"Gabon\", \"Ethiopia\", \"Sri Lanka\", \"Armenia\", \"India\", \"Mauritania\", \"Congo (Brazzaville)\", \"Georgia\", \"Congo (Kinshasa)\", \"Mali\", \"Ivory Coast\", \"Cambodia\", \"Sudan\", \"Ghana\", \"Ukraine\", \"Uganda\", \"Burkina Faso\", \"Niger\", \"Malawi\", \"Chad\", \"Zimbabwe\", \"Lesotho\", \"Angola\", \"Afghanistan\", \"Botswana\", \"Benin\", \"Madagascar\", \"Haiti\", \"Yemen\", \"South Sudan\", \"Liberia\", \"Guinea\", \"Togo\", \"Rwanda\", \"Syria\", \"Tanzania\", \"Burundi\", \"Central African Republic\"], \"type\": \"choropleth\", \"z\": [1, 2, 3, 4, 5, 6, 7, 8, 9, 10, 11, 12, 13, 14, 15, 16, 17, 18, 19, 20, 21, 22, 23, 24, 25, 26, 27, 28, 29, 30, 31, 32, 33, 34, 35, 36, 37, 38, 39, 40, 41, 42, 43, 44, 45, 46, 47, 48, 49, 50, 51, 52, 53, 54, 55, 56, 57, 58, 59, 60, 61, 62, 63, 64, 65, 66, 67, 68, 69, 70, 71, 72, 73, 74, 75, 76, 77, 78, 79, 80, 81, 82, 83, 84, 85, 86, 87, 88, 89, 90, 91, 92, 93, 94, 95, 96, 97, 98, 99, 100, 101, 102, 103, 104, 105, 106, 107, 108, 109, 110, 111, 112, 113, 114, 115, 116, 117, 118, 119, 120, 121, 122, 123, 124, 125, 126, 127, 128, 129, 130, 131, 132, 133, 134, 135, 136, 137, 138, 139, 140, 141, 142, 143, 144, 145, 146, 147, 148, 149, 150, 151, 152, 153, 154, 155]}],                        {\"geo\": {\"showframe\": false}, \"template\": {\"data\": {\"bar\": [{\"error_x\": {\"color\": \"#2a3f5f\"}, \"error_y\": {\"color\": \"#2a3f5f\"}, \"marker\": {\"line\": {\"color\": \"#E5ECF6\", \"width\": 0.5}}, \"type\": \"bar\"}], \"barpolar\": [{\"marker\": {\"line\": {\"color\": \"#E5ECF6\", \"width\": 0.5}}, \"type\": \"barpolar\"}], \"carpet\": [{\"aaxis\": {\"endlinecolor\": \"#2a3f5f\", \"gridcolor\": \"white\", \"linecolor\": \"white\", \"minorgridcolor\": \"white\", \"startlinecolor\": \"#2a3f5f\"}, \"baxis\": {\"endlinecolor\": \"#2a3f5f\", \"gridcolor\": \"white\", \"linecolor\": \"white\", \"minorgridcolor\": \"white\", \"startlinecolor\": \"#2a3f5f\"}, \"type\": \"carpet\"}], \"choropleth\": [{\"colorbar\": {\"outlinewidth\": 0, \"ticks\": \"\"}, \"type\": \"choropleth\"}], \"contour\": [{\"colorbar\": {\"outlinewidth\": 0, \"ticks\": \"\"}, \"colorscale\": [[0.0, \"#0d0887\"], [0.1111111111111111, \"#46039f\"], [0.2222222222222222, \"#7201a8\"], [0.3333333333333333, \"#9c179e\"], [0.4444444444444444, \"#bd3786\"], [0.5555555555555556, \"#d8576b\"], [0.6666666666666666, \"#ed7953\"], [0.7777777777777778, \"#fb9f3a\"], [0.8888888888888888, \"#fdca26\"], [1.0, \"#f0f921\"]], \"type\": \"contour\"}], \"contourcarpet\": [{\"colorbar\": {\"outlinewidth\": 0, \"ticks\": \"\"}, \"type\": \"contourcarpet\"}], \"heatmap\": [{\"colorbar\": {\"outlinewidth\": 0, \"ticks\": \"\"}, \"colorscale\": [[0.0, \"#0d0887\"], [0.1111111111111111, \"#46039f\"], [0.2222222222222222, \"#7201a8\"], [0.3333333333333333, \"#9c179e\"], [0.4444444444444444, \"#bd3786\"], [0.5555555555555556, \"#d8576b\"], [0.6666666666666666, \"#ed7953\"], [0.7777777777777778, \"#fb9f3a\"], [0.8888888888888888, \"#fdca26\"], [1.0, \"#f0f921\"]], \"type\": \"heatmap\"}], \"heatmapgl\": [{\"colorbar\": {\"outlinewidth\": 0, \"ticks\": \"\"}, \"colorscale\": [[0.0, \"#0d0887\"], [0.1111111111111111, \"#46039f\"], [0.2222222222222222, \"#7201a8\"], [0.3333333333333333, \"#9c179e\"], [0.4444444444444444, \"#bd3786\"], [0.5555555555555556, \"#d8576b\"], [0.6666666666666666, \"#ed7953\"], [0.7777777777777778, \"#fb9f3a\"], [0.8888888888888888, \"#fdca26\"], [1.0, \"#f0f921\"]], \"type\": \"heatmapgl\"}], \"histogram\": [{\"marker\": {\"colorbar\": {\"outlinewidth\": 0, \"ticks\": \"\"}}, \"type\": \"histogram\"}], \"histogram2d\": [{\"colorbar\": {\"outlinewidth\": 0, \"ticks\": \"\"}, \"colorscale\": [[0.0, \"#0d0887\"], [0.1111111111111111, \"#46039f\"], [0.2222222222222222, \"#7201a8\"], [0.3333333333333333, \"#9c179e\"], [0.4444444444444444, \"#bd3786\"], [0.5555555555555556, \"#d8576b\"], [0.6666666666666666, \"#ed7953\"], [0.7777777777777778, \"#fb9f3a\"], [0.8888888888888888, \"#fdca26\"], [1.0, \"#f0f921\"]], \"type\": \"histogram2d\"}], \"histogram2dcontour\": [{\"colorbar\": {\"outlinewidth\": 0, \"ticks\": \"\"}, \"colorscale\": [[0.0, \"#0d0887\"], [0.1111111111111111, \"#46039f\"], [0.2222222222222222, \"#7201a8\"], [0.3333333333333333, \"#9c179e\"], [0.4444444444444444, \"#bd3786\"], [0.5555555555555556, \"#d8576b\"], [0.6666666666666666, \"#ed7953\"], [0.7777777777777778, \"#fb9f3a\"], [0.8888888888888888, \"#fdca26\"], [1.0, \"#f0f921\"]], \"type\": \"histogram2dcontour\"}], \"mesh3d\": [{\"colorbar\": {\"outlinewidth\": 0, \"ticks\": \"\"}, \"type\": \"mesh3d\"}], \"parcoords\": [{\"line\": {\"colorbar\": {\"outlinewidth\": 0, \"ticks\": \"\"}}, \"type\": \"parcoords\"}], \"pie\": [{\"automargin\": true, \"type\": \"pie\"}], \"scatter\": [{\"marker\": {\"colorbar\": {\"outlinewidth\": 0, \"ticks\": \"\"}}, \"type\": \"scatter\"}], \"scatter3d\": [{\"line\": {\"colorbar\": {\"outlinewidth\": 0, \"ticks\": \"\"}}, \"marker\": {\"colorbar\": {\"outlinewidth\": 0, \"ticks\": \"\"}}, \"type\": \"scatter3d\"}], \"scattercarpet\": [{\"marker\": {\"colorbar\": {\"outlinewidth\": 0, \"ticks\": \"\"}}, \"type\": \"scattercarpet\"}], \"scattergeo\": [{\"marker\": {\"colorbar\": {\"outlinewidth\": 0, \"ticks\": \"\"}}, \"type\": \"scattergeo\"}], \"scattergl\": [{\"marker\": {\"colorbar\": {\"outlinewidth\": 0, \"ticks\": \"\"}}, \"type\": \"scattergl\"}], \"scattermapbox\": [{\"marker\": {\"colorbar\": {\"outlinewidth\": 0, \"ticks\": \"\"}}, \"type\": \"scattermapbox\"}], \"scatterpolar\": [{\"marker\": {\"colorbar\": {\"outlinewidth\": 0, \"ticks\": \"\"}}, \"type\": \"scatterpolar\"}], \"scatterpolargl\": [{\"marker\": {\"colorbar\": {\"outlinewidth\": 0, \"ticks\": \"\"}}, \"type\": \"scatterpolargl\"}], \"scatterternary\": [{\"marker\": {\"colorbar\": {\"outlinewidth\": 0, \"ticks\": \"\"}}, \"type\": \"scatterternary\"}], \"surface\": [{\"colorbar\": {\"outlinewidth\": 0, \"ticks\": \"\"}, \"colorscale\": [[0.0, \"#0d0887\"], [0.1111111111111111, \"#46039f\"], [0.2222222222222222, \"#7201a8\"], [0.3333333333333333, \"#9c179e\"], [0.4444444444444444, \"#bd3786\"], [0.5555555555555556, \"#d8576b\"], [0.6666666666666666, \"#ed7953\"], [0.7777777777777778, \"#fb9f3a\"], [0.8888888888888888, \"#fdca26\"], [1.0, \"#f0f921\"]], \"type\": \"surface\"}], \"table\": [{\"cells\": {\"fill\": {\"color\": \"#EBF0F8\"}, \"line\": {\"color\": \"white\"}}, \"header\": {\"fill\": {\"color\": \"#C8D4E3\"}, \"line\": {\"color\": \"white\"}}, \"type\": \"table\"}]}, \"layout\": {\"annotationdefaults\": {\"arrowcolor\": \"#2a3f5f\", \"arrowhead\": 0, \"arrowwidth\": 1}, \"autotypenumbers\": \"strict\", \"coloraxis\": {\"colorbar\": {\"outlinewidth\": 0, \"ticks\": \"\"}}, \"colorscale\": {\"diverging\": [[0, \"#8e0152\"], [0.1, \"#c51b7d\"], [0.2, \"#de77ae\"], [0.3, \"#f1b6da\"], [0.4, \"#fde0ef\"], [0.5, \"#f7f7f7\"], [0.6, \"#e6f5d0\"], [0.7, \"#b8e186\"], [0.8, \"#7fbc41\"], [0.9, \"#4d9221\"], [1, \"#276419\"]], \"sequential\": [[0.0, \"#0d0887\"], [0.1111111111111111, \"#46039f\"], [0.2222222222222222, \"#7201a8\"], [0.3333333333333333, \"#9c179e\"], [0.4444444444444444, \"#bd3786\"], [0.5555555555555556, \"#d8576b\"], [0.6666666666666666, \"#ed7953\"], [0.7777777777777778, \"#fb9f3a\"], [0.8888888888888888, \"#fdca26\"], [1.0, \"#f0f921\"]], \"sequentialminus\": [[0.0, \"#0d0887\"], [0.1111111111111111, \"#46039f\"], [0.2222222222222222, \"#7201a8\"], [0.3333333333333333, \"#9c179e\"], [0.4444444444444444, \"#bd3786\"], [0.5555555555555556, \"#d8576b\"], [0.6666666666666666, \"#ed7953\"], [0.7777777777777778, \"#fb9f3a\"], [0.8888888888888888, \"#fdca26\"], [1.0, \"#f0f921\"]]}, \"colorway\": [\"#636efa\", \"#EF553B\", \"#00cc96\", \"#ab63fa\", \"#FFA15A\", \"#19d3f3\", \"#FF6692\", \"#B6E880\", \"#FF97FF\", \"#FECB52\"], \"font\": {\"color\": \"#2a3f5f\"}, \"geo\": {\"bgcolor\": \"white\", \"lakecolor\": \"white\", \"landcolor\": \"#E5ECF6\", \"showlakes\": true, \"showland\": true, \"subunitcolor\": \"white\"}, \"hoverlabel\": {\"align\": \"left\"}, \"hovermode\": \"closest\", \"mapbox\": {\"style\": \"light\"}, \"paper_bgcolor\": \"white\", \"plot_bgcolor\": \"#E5ECF6\", \"polar\": {\"angularaxis\": {\"gridcolor\": \"white\", \"linecolor\": \"white\", \"ticks\": \"\"}, \"bgcolor\": \"#E5ECF6\", \"radialaxis\": {\"gridcolor\": \"white\", \"linecolor\": \"white\", \"ticks\": \"\"}}, \"scene\": {\"xaxis\": {\"backgroundcolor\": \"#E5ECF6\", \"gridcolor\": \"white\", \"gridwidth\": 2, \"linecolor\": \"white\", \"showbackground\": true, \"ticks\": \"\", \"zerolinecolor\": \"white\"}, \"yaxis\": {\"backgroundcolor\": \"#E5ECF6\", \"gridcolor\": \"white\", \"gridwidth\": 2, \"linecolor\": \"white\", \"showbackground\": true, \"ticks\": \"\", \"zerolinecolor\": \"white\"}, \"zaxis\": {\"backgroundcolor\": \"#E5ECF6\", \"gridcolor\": \"white\", \"gridwidth\": 2, \"linecolor\": \"white\", \"showbackground\": true, \"ticks\": \"\", \"zerolinecolor\": \"white\"}}, \"shapedefaults\": {\"line\": {\"color\": \"#2a3f5f\"}}, \"ternary\": {\"aaxis\": {\"gridcolor\": \"white\", \"linecolor\": \"white\", \"ticks\": \"\"}, \"baxis\": {\"gridcolor\": \"white\", \"linecolor\": \"white\", \"ticks\": \"\"}, \"bgcolor\": \"#E5ECF6\", \"caxis\": {\"gridcolor\": \"white\", \"linecolor\": \"white\", \"ticks\": \"\"}}, \"title\": {\"x\": 0.05}, \"xaxis\": {\"automargin\": true, \"gridcolor\": \"white\", \"linecolor\": \"white\", \"ticks\": \"\", \"title\": {\"standoff\": 15}, \"zerolinecolor\": \"white\", \"zerolinewidth\": 2}, \"yaxis\": {\"automargin\": true, \"gridcolor\": \"white\", \"linecolor\": \"white\", \"ticks\": \"\", \"title\": {\"standoff\": 15}, \"zerolinecolor\": \"white\", \"zerolinewidth\": 2}}}, \"title\": {\"text\": \"Global Happiness 2017\"}},                        {\"responsive\": true}                    ).then(function(){\n",
       "                            \n",
       "var gd = document.getElementById('f4e01b0c-cfbe-4171-9277-ecc20b9f9d39');\n",
       "var x = new MutationObserver(function (mutations, observer) {{\n",
       "        var display = window.getComputedStyle(gd).display;\n",
       "        if (!display || display === 'none') {{\n",
       "            console.log([gd, 'removed!']);\n",
       "            Plotly.purge(gd);\n",
       "            observer.disconnect();\n",
       "        }}\n",
       "}});\n",
       "\n",
       "// Listen for the removal of the full notebook cells\n",
       "var notebookContainer = gd.closest('#notebook-container');\n",
       "if (notebookContainer) {{\n",
       "    x.observe(notebookContainer, {childList: true});\n",
       "}}\n",
       "\n",
       "// Listen for the clearing of the current output cell\n",
       "var outputEl = gd.closest('.output');\n",
       "if (outputEl) {{\n",
       "    x.observe(outputEl, {childList: true});\n",
       "}}\n",
       "\n",
       "                        })                };                });            </script>        </div>"
      ]
     },
     "metadata": {},
     "output_type": "display_data"
    }
   ],
   "source": [
    "# ploty.offline.iplot() : 지도에 데이터를 표시한다. \n",
    "data = dict(type = 'choropleth', locations=df['Country'], locationmode='country names', z=df['Happiness.Rank'], \n",
    "            text=df['Country'],colorbar={'title':'Happiness'})\n",
    "\n",
    "layout = dict(title = 'Global Happiness 2017', geo=dict(showframe = False))\n",
    "choromap3 = go.Figure(data=[data], layout=layout)\n",
    "iplot(choromap3)"
   ]
  }
 ],
 "metadata": {
  "kernelspec": {
   "display_name": "Python 3",
   "language": "python",
   "name": "python3"
  },
  "language_info": {
   "codemirror_mode": {
    "name": "ipython",
    "version": 3
   },
   "file_extension": ".py",
   "mimetype": "text/x-python",
   "name": "python",
   "nbconvert_exporter": "python",
   "pygments_lexer": "ipython3",
   "version": "3.7.9"
  }
 },
 "nbformat": 4,
 "nbformat_minor": 4
}
