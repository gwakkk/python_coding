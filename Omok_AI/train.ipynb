{
 "cells": [
  {
   "cell_type": "code",
   "execution_count": 3,
   "metadata": {
    "id": "MhegJ029VRJ_"
   },
   "outputs": [],
   "source": [
    "import tensorflow as tf\n",
    "import tensorflow.keras as keras\n",
    "from tensorflow.keras import layers, models\n",
    "import numpy as np\n",
    "from sklearn.model_selection import train_test_split\n",
    "from glob import glob\n",
    "import os\n",
    "from tqdm import tqdm\n",
    "from datetime import datetime\n",
    "from tensorflow.keras.callbacks import ModelCheckpoint, ReduceLROnPlateau"
   ]
  },
  {
   "cell_type": "code",
   "execution_count": 4,
   "metadata": {
    "colab": {
     "base_uri": "https://localhost:8080/"
    },
    "id": "c2U2ZtOzVT2I",
    "outputId": "e739d8d1-2f97-4edf-f091-4b8e5baa390b"
   },
   "outputs": [
    {
     "name": "stderr",
     "output_type": "stream",
     "text": [
      "100%|██████████| 2130/2130 [10:52<00:00,  3.26it/s]\n"
     ]
    },
    {
     "name": "stdout",
     "output_type": "stream",
     "text": [
      "(1244572, 20, 20, 1) (1244572, 400)\n",
      "(311144, 20, 20, 1) (311144, 400)\n"
     ]
    }
   ],
   "source": [
    "w, h = 20, 20\n",
    "base_path = os.path.join('drive/MyDrive/dataset', '*/*.npz') #colab google drive\n",
    "#base_path = os.path.join('dataset', '*/*.npz') \n",
    "# create_dataset으로 형성된 data\n",
    "\n",
    "file_list = glob(base_path)\n",
    "\n",
    "x_data, y_data = [], []\n",
    "for file_path in tqdm(file_list):\n",
    "    data = np.load(file_path)\n",
    "    x_data.extend(data['inputs'])\n",
    "    y_data.extend(data['outputs'])\n",
    "\n",
    "# CNN사용을 위한 형 변환\n",
    "x_data = np.array(x_data, np.float32).reshape((-1, h, w, 1))\n",
    "y_data = np.array(y_data, np.float32).reshape((-1, h * w))\n",
    "\n",
    "x_train, x_val, y_train, y_val = train_test_split(x_data, y_data, test_size=0.2, random_state=2020)\n",
    "\n",
    "del x_data, y_data\n",
    "\n",
    "print(x_train.shape, y_train.shape)\n",
    "print(x_val.shape, y_val.shape)"
   ]
  },
  {
   "cell_type": "code",
   "execution_count": 5,
   "metadata": {
    "colab": {
     "base_uri": "https://localhost:8080/"
    },
    "id": "B8LcwMXyVUun",
    "outputId": "c5152d87-e69e-4b22-ef1a-3de27656272c"
   },
   "outputs": [
    {
     "name": "stdout",
     "output_type": "stream",
     "text": [
      "Model: \"sequential\"\n",
      "_________________________________________________________________\n",
      "Layer (type)                 Output Shape              Param #   \n",
      "=================================================================\n",
      "conv2d (Conv2D)              (None, 20, 20, 64)        3200      \n",
      "_________________________________________________________________\n",
      "conv2d_1 (Conv2D)            (None, 20, 20, 128)       401536    \n",
      "_________________________________________________________________\n",
      "conv2d_2 (Conv2D)            (None, 20, 20, 256)       1605888   \n",
      "_________________________________________________________________\n",
      "conv2d_3 (Conv2D)            (None, 20, 20, 128)       1605760   \n",
      "_________________________________________________________________\n",
      "conv2d_4 (Conv2D)            (None, 20, 20, 64)        401472    \n",
      "_________________________________________________________________\n",
      "conv2d_5 (Conv2D)            (None, 20, 20, 1)         65        \n",
      "_________________________________________________________________\n",
      "reshape (Reshape)            (None, 400)               0         \n",
      "_________________________________________________________________\n",
      "activation (Activation)      (None, 400)               0         \n",
      "=================================================================\n",
      "Total params: 4,017,921\n",
      "Trainable params: 4,017,921\n",
      "Non-trainable params: 0\n",
      "_________________________________________________________________\n"
     ]
    }
   ],
   "source": [
    "model = models.Sequential([\n",
    "    layers.Conv2D(64, 7, activation='relu', padding='same', input_shape=(h, w, 1)),\n",
    "    layers.Conv2D(128, 7, activation='relu', padding='same'),\n",
    "    layers.Conv2D(256, 7, activation='relu', padding='same'),\n",
    "    layers.Conv2D(128, 7, activation='relu', padding='same'),\n",
    "    layers.Conv2D(64, 7, activation='relu', padding='same'),\n",
    "    layers.Conv2D(1, 1, activation=None, padding='same'),\n",
    "    # (20,20,1)-> (,400)의 원래형태를 만들어준다.\n",
    "    # 가로 * 세로 = 400\n",
    "    layers.Reshape((h * w,)),\n",
    "    layers.Activation('sigmoid')\n",
    "    # output이 0/1 둘중 하나 (sigmoid)\n",
    "])\n",
    "\n",
    "model.compile(\n",
    "    optimizer='adam',\n",
    "    loss='binary_crossentropy',\n",
    "    metrics=['acc']\n",
    ")\n",
    "\n",
    "model.summary()"
   ]
  },
  {
   "cell_type": "code",
   "execution_count": 6,
   "metadata": {
    "colab": {
     "base_uri": "https://localhost:8080/"
    },
    "id": "qZp49A7lVUxA",
    "outputId": "ecd0c425-00bb-4c54-df2c-a3f322cd48b1"
   },
   "outputs": [
    {
     "name": "stdout",
     "output_type": "stream",
     "text": [
      "Epoch 1/10\n",
      "4862/4862 [==============================] - 686s 133ms/step - loss: 0.0141 - acc: 0.2514 - val_loss: 0.0064 - val_acc: 0.5340\n",
      "\n",
      "Epoch 00001: val_acc improved from -inf to 0.53395, saving model to ./models/20210325_111645.h5\n",
      "Epoch 2/10\n",
      "4862/4862 [==============================] - 653s 134ms/step - loss: 0.0060 - acc: 0.5535 - val_loss: 0.0055 - val_acc: 0.5818\n",
      "\n",
      "Epoch 00002: val_acc improved from 0.53395 to 0.58177, saving model to ./models/20210325_111645.h5\n",
      "Epoch 3/10\n",
      "4862/4862 [==============================] - 655s 135ms/step - loss: 0.0052 - acc: 0.5981 - val_loss: 0.0052 - val_acc: 0.6028\n",
      "\n",
      "Epoch 00003: val_acc improved from 0.58177 to 0.60279, saving model to ./models/20210325_111645.h5\n",
      "Epoch 4/10\n",
      "4862/4862 [==============================] - 660s 136ms/step - loss: 0.0048 - acc: 0.6299 - val_loss: 0.0050 - val_acc: 0.6170\n",
      "\n",
      "Epoch 00004: val_acc improved from 0.60279 to 0.61698, saving model to ./models/20210325_111645.h5\n",
      "Epoch 5/10\n",
      "4862/4862 [==============================] - 660s 136ms/step - loss: 0.0045 - acc: 0.6551 - val_loss: 0.0048 - val_acc: 0.6275\n",
      "\n",
      "Epoch 00005: val_acc improved from 0.61698 to 0.62746, saving model to ./models/20210325_111645.h5\n",
      "Epoch 6/10\n",
      "4862/4862 [==============================] - 663s 136ms/step - loss: 0.0042 - acc: 0.6792 - val_loss: 0.0048 - val_acc: 0.6376\n",
      "\n",
      "Epoch 00006: val_acc improved from 0.62746 to 0.63760, saving model to ./models/20210325_111645.h5\n",
      "Epoch 7/10\n",
      "4862/4862 [==============================] - 670s 138ms/step - loss: 0.0039 - acc: 0.7030 - val_loss: 0.0047 - val_acc: 0.6470\n",
      "\n",
      "Epoch 00007: val_acc improved from 0.63760 to 0.64698, saving model to ./models/20210325_111645.h5\n",
      "Epoch 8/10\n",
      "4862/4862 [==============================] - 670s 138ms/step - loss: 0.0037 - acc: 0.7244 - val_loss: 0.0047 - val_acc: 0.6541\n",
      "\n",
      "Epoch 00008: val_acc improved from 0.64698 to 0.65413, saving model to ./models/20210325_111645.h5\n",
      "Epoch 9/10\n",
      "4862/4862 [==============================] - 671s 138ms/step - loss: 0.0035 - acc: 0.7448 - val_loss: 0.0047 - val_acc: 0.6635\n",
      "\n",
      "Epoch 00009: val_acc improved from 0.65413 to 0.66353, saving model to ./models/20210325_111645.h5\n",
      "Epoch 10/10\n",
      "4862/4862 [==============================] - 674s 139ms/step - loss: 0.0033 - acc: 0.7634 - val_loss: 0.0046 - val_acc: 0.6711\n",
      "\n",
      "Epoch 00010: val_acc improved from 0.66353 to 0.67114, saving model to ./models/20210325_111645.h5\n"
     ]
    },
    {
     "data": {
      "text/plain": [
       "<tensorflow.python.keras.callbacks.History at 0x7f2c7026fd50>"
      ]
     },
     "execution_count": 6,
     "metadata": {
      "tags": []
     },
     "output_type": "execute_result"
    }
   ],
   "source": [
    "start_time = datetime.now().strftime('%Y%m%d_%H%M%S')\n",
    "os.makedirs('models', exist_ok=True)\n",
    "\n",
    "model.fit(\n",
    "    x=x_train,\n",
    "    y=y_train,\n",
    "    batch_size=256,\n",
    "    epochs=10,\n",
    "    callbacks=[\n",
    "        ModelCheckpoint('./models/%s.h5' % (start_time), \n",
    "                        monitor='val_acc', \n",
    "                        verbose=1, \n",
    "                        save_best_only=True, \n",
    "                        mode='auto'),\n",
    "        ReduceLROnPlateau(monitor='val_acc', \n",
    "                          factor=0.2, \n",
    "                          patience=5, \n",
    "                          verbose=1, \n",
    "                          mode='auto')\n",
    "    ],\n",
    "    validation_data=(x_val, y_val),\n",
    "    use_multiprocessing=True,\n",
    "    workers=16\n",
    ")"
   ]
  },
  {
   "cell_type": "code",
   "execution_count": 8,
   "metadata": {
    "colab": {
     "base_uri": "https://localhost:8080/"
    },
    "id": "6R0A4lDxVU2A",
    "outputId": "0f68fccf-01c0-4a11-d8b8-100056f7d220"
   },
   "outputs": [
    {
     "name": "stdout",
     "output_type": "stream",
     "text": [
      "3 17 0.655562\n"
     ]
    }
   ],
   "source": [
    "y_pred = model.predict(np.expand_dims(x_val[i], axis=0)).squeeze()\n",
    "y_pred = y_pred.reshape((h, w))\n",
    "\n",
    "y, x = np.unravel_index(np.argmax(y_pred), y_pred.shape)\n",
    "\n",
    "print(x, y, y_pred[y, x])"
   ]
  }
 ],
 "metadata": {
  "accelerator": "GPU",
  "colab": {
   "name": "train.ipynb",
   "provenance": []
  },
  "kernelspec": {
   "display_name": "Python 3",
   "language": "python",
   "name": "python3"
  },
  "language_info": {
   "codemirror_mode": {
    "name": "ipython",
    "version": 3
   },
   "file_extension": ".py",
   "mimetype": "text/x-python",
   "name": "python",
   "nbconvert_exporter": "python",
   "pygments_lexer": "ipython3",
   "version": "3.7.9"
  }
 },
 "nbformat": 4,
 "nbformat_minor": 1
}
