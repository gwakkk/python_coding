{
 "cells": [
  {
   "cell_type": "code",
   "execution_count": 8,
   "metadata": {},
   "outputs": [],
   "source": [
    "import datetime\n",
    "import numpy as np\n",
    "import matplotlib.pyplot as plt\n",
    "from keras.layers import Input, Activation, Conv2D, Flatten, Dense, MaxPooling2D\n",
    "from keras.models import Model, load_model\n",
    "from keras.preprocessing.image import ImageDataGenerator\n",
    "from keras.callbacks import ModelCheckpoint, ReduceLROnPlateau\n",
    "plt.style.use('dark_background')"
   ]
  },
  {
   "cell_type": "code",
   "execution_count": 9,
   "metadata": {},
   "outputs": [
    {
     "name": "stdout",
     "output_type": "stream",
     "text": [
      "(2586, 26, 34, 1) (2586, 1)\n",
      "(288, 26, 34, 1) (288, 1)\n"
     ]
    }
   ],
   "source": [
    "x_train = np.load('dataset/x_train.npy').astype(np.float32)\n",
    "y_train = np.load('dataset/y_train.npy').astype(np.float32)\n",
    "x_val = np.load('dataset/x_val.npy').astype(np.float32)\n",
    "y_val = np.load('dataset/y_val.npy').astype(np.float32)\n",
    "\n",
    "print(x_train.shape, y_train.shape)\n",
    "print(x_val.shape, y_val.shape)"
   ]
  },
  {
   "cell_type": "code",
   "execution_count": 10,
   "metadata": {},
   "outputs": [
    {
     "data": {
      "text/plain": [
       "<matplotlib.image.AxesImage at 0x11bdef12070>"
      ]
     },
     "execution_count": 10,
     "metadata": {},
     "output_type": "execute_result"
    },
    {
     "data": {
      "image/png": "[encoded data removed]",
      "text/plain": [
       "<Figure size 432x288 with 2 Axes>"
      ]
     },
     "metadata": {},
     "output_type": "display_data"
    }
   ],
   "source": [
    "plt.subplot(2, 1, 1)\n",
    "plt.title(str(y_train[0]))\n",
    "plt.imshow(x_train[0].reshape((26, 34)), cmap='gray')\n",
    "plt.subplot(2, 1, 2)\n",
    "plt.title(str(y_val[4]))\n",
    "plt.imshow(x_val[4].reshape((26, 34)), cmap='gray')\n",
    "# 0 : closed eye / 1 : open eye"
   ]
  },
  {
   "cell_type": "code",
   "execution_count": 11,
   "metadata": {},
   "outputs": [],
   "source": [
    "train_datagen = ImageDataGenerator(\n",
    "    rescale=1./255,\n",
    "    rotation_range=10,\n",
    "    width_shift_range=0.2,\n",
    "    height_shift_range=0.2,\n",
    "    shear_range=0.2\n",
    ")\n",
    "\n",
    "val_datagen = ImageDataGenerator(rescale=1./255)\n",
    "\n",
    "train_generator = train_datagen.flow(\n",
    "    x=x_train, y=y_train,\n",
    "    batch_size=32,\n",
    "    shuffle=True\n",
    ")\n",
    "\n",
    "val_generator = val_datagen.flow(\n",
    "    x=x_val, y=y_val,\n",
    "    batch_size=32,\n",
    "    shuffle=False\n",
    ")"
   ]
  },
  {
   "cell_type": "code",
   "execution_count": 12,
   "metadata": {},
   "outputs": [
    {
     "name": "stdout",
     "output_type": "stream",
     "text": [
      "Model: \"model\"\n",
      "_________________________________________________________________\n",
      "Layer (type)                 Output Shape              Param #   \n",
      "=================================================================\n",
      "input_1 (InputLayer)         [(None, 26, 34, 1)]       0         \n",
      "_________________________________________________________________\n",
      "conv2d (Conv2D)              (None, 26, 34, 32)        320       \n",
      "_________________________________________________________________\n",
      "max_pooling2d (MaxPooling2D) (None, 13, 17, 32)        0         \n",
      "_________________________________________________________________\n",
      "conv2d_1 (Conv2D)            (None, 13, 17, 64)        18496     \n",
      "_________________________________________________________________\n",
      "max_pooling2d_1 (MaxPooling2 (None, 6, 8, 64)          0         \n",
      "_________________________________________________________________\n",
      "conv2d_2 (Conv2D)            (None, 6, 8, 128)         73856     \n",
      "_________________________________________________________________\n",
      "max_pooling2d_2 (MaxPooling2 (None, 3, 4, 128)         0         \n",
      "_________________________________________________________________\n",
      "flatten (Flatten)            (None, 1536)              0         \n",
      "_________________________________________________________________\n",
      "dense (Dense)                (None, 512)               786944    \n",
      "_________________________________________________________________\n",
      "activation (Activation)      (None, 512)               0         \n",
      "_________________________________________________________________\n",
      "dense_1 (Dense)              (None, 1)                 513       \n",
      "_________________________________________________________________\n",
      "activation_1 (Activation)    (None, 1)                 0         \n",
      "=================================================================\n",
      "Total params: 880,129\n",
      "Trainable params: 880,129\n",
      "Non-trainable params: 0\n",
      "_________________________________________________________________\n"
     ]
    }
   ],
   "source": [
    "inputs = Input(shape=(26, 34, 1))\n",
    "\n",
    "net = Conv2D(32, kernel_size=3, strides=1, padding='same', activation='relu')(inputs)\n",
    "net = MaxPooling2D(pool_size=2)(net)\n",
    "\n",
    "net = Conv2D(64, kernel_size=3, strides=1, padding='same', activation='relu')(net)\n",
    "net = MaxPooling2D(pool_size=2)(net)\n",
    "\n",
    "net = Conv2D(128, kernel_size=3, strides=1, padding='same', activation='relu')(net)\n",
    "net = MaxPooling2D(pool_size=2)(net)\n",
    "\n",
    "net = Flatten()(net)\n",
    "\n",
    "net = Dense(512)(net)\n",
    "net = Activation('relu')(net)\n",
    "net = Dense(1)(net)\n",
    "outputs = Activation('sigmoid')(net)\n",
    "\n",
    "model = Model(inputs=inputs, outputs=outputs)\n",
    "\n",
    "model.compile(optimizer='adam', loss='binary_crossentropy', metrics=['acc'])\n",
    "\n",
    "model.summary()"
   ]
  },
  {
   "cell_type": "code",
   "execution_count": 13,
   "metadata": {},
   "outputs": [
    {
     "name": "stdout",
     "output_type": "stream",
     "text": [
      "Epoch 1/50\n"
     ]
    },
    {
     "name": "stderr",
     "output_type": "stream",
     "text": [
      "C:\\Users\\chan\\anaconda3\\lib\\site-packages\\tensorflow\\python\\keras\\engine\\training.py:1844: UserWarning: `Model.fit_generator` is deprecated and will be removed in a future version. Please use `Model.fit`, which supports generators.\n",
      "  warnings.warn('`Model.fit_generator` is deprecated and '\n"
     ]
    },
    {
     "name": "stdout",
     "output_type": "stream",
     "text": [
      "81/81 [==============================] - 2s 23ms/step - loss: 0.6210 - acc: 0.6303 - val_loss: 0.2865 - val_acc: 0.8750\n",
      "\n",
      "Epoch 00001: val_acc improved from -inf to 0.87500, saving model to models\\2021_02_19_13_50_26.h5\n",
      "Epoch 2/50\n",
      "81/81 [==============================] - 2s 20ms/step - loss: 0.3049 - acc: 0.8670 - val_loss: 0.1498 - val_acc: 0.9410\n",
      "\n",
      "Epoch 00002: val_acc improved from 0.87500 to 0.94097, saving model to models\\2021_02_19_13_50_26.h5\n",
      "Epoch 3/50\n",
      "81/81 [==============================] - 2s 20ms/step - loss: 0.1726 - acc: 0.9346 - val_loss: 0.1117 - val_acc: 0.9549\n",
      "\n",
      "Epoch 00003: val_acc improved from 0.94097 to 0.95486, saving model to models\\2021_02_19_13_50_26.h5\n",
      "Epoch 4/50\n",
      "81/81 [==============================] - 2s 20ms/step - loss: 0.1664 - acc: 0.9457 - val_loss: 0.1259 - val_acc: 0.9479\n",
      "\n",
      "Epoch 00004: val_acc did not improve from 0.95486\n",
      "Epoch 5/50\n",
      "81/81 [==============================] - 2s 20ms/step - loss: 0.1598 - acc: 0.9465 - val_loss: 0.0603 - val_acc: 0.9757\n",
      "\n",
      "Epoch 00005: val_acc improved from 0.95486 to 0.97569, saving model to models\\2021_02_19_13_50_26.h5\n",
      "Epoch 6/50\n",
      "81/81 [==============================] - 2s 20ms/step - loss: 0.1093 - acc: 0.9587 - val_loss: 0.0474 - val_acc: 0.9931\n",
      "\n",
      "Epoch 00006: val_acc improved from 0.97569 to 0.99306, saving model to models\\2021_02_19_13_50_26.h5\n",
      "Epoch 7/50\n",
      "81/81 [==============================] - 2s 20ms/step - loss: 0.1476 - acc: 0.9486 - val_loss: 0.0517 - val_acc: 0.9792\n",
      "\n",
      "Epoch 00007: val_acc did not improve from 0.99306\n",
      "Epoch 8/50\n",
      "81/81 [==============================] - 2s 20ms/step - loss: 0.0800 - acc: 0.9708 - val_loss: 0.0434 - val_acc: 0.9861\n",
      "\n",
      "Epoch 00008: val_acc did not improve from 0.99306\n",
      "Epoch 9/50\n",
      "81/81 [==============================] - 2s 20ms/step - loss: 0.1040 - acc: 0.9696 - val_loss: 0.0405 - val_acc: 0.9896\n",
      "\n",
      "Epoch 00009: val_acc did not improve from 0.99306\n",
      "Epoch 10/50\n",
      "81/81 [==============================] - 2s 20ms/step - loss: 0.0961 - acc: 0.9673 - val_loss: 0.0448 - val_acc: 0.9861\n",
      "\n",
      "Epoch 00010: val_acc did not improve from 0.99306\n",
      "Epoch 11/50\n",
      "81/81 [==============================] - 2s 22ms/step - loss: 0.0683 - acc: 0.9789 - val_loss: 0.0272 - val_acc: 0.9896\n",
      "\n",
      "Epoch 00011: val_acc did not improve from 0.99306\n",
      "Epoch 12/50\n",
      "81/81 [==============================] - 2s 21ms/step - loss: 0.0604 - acc: 0.9805 - val_loss: 0.0383 - val_acc: 0.9861\n",
      "\n",
      "Epoch 00012: val_acc did not improve from 0.99306\n",
      "Epoch 13/50\n",
      "81/81 [==============================] - 2s 24ms/step - loss: 0.0445 - acc: 0.9877 - val_loss: 0.0537 - val_acc: 0.9826\n",
      "\n",
      "Epoch 00013: val_acc did not improve from 0.99306\n",
      "Epoch 14/50\n",
      "81/81 [==============================] - 2s 21ms/step - loss: 0.0462 - acc: 0.9828 - val_loss: 0.0214 - val_acc: 0.9931\n",
      "\n",
      "Epoch 00014: val_acc did not improve from 0.99306\n",
      "Epoch 15/50\n",
      "81/81 [==============================] - 2s 22ms/step - loss: 0.0574 - acc: 0.9771 - val_loss: 0.0435 - val_acc: 0.9861\n",
      "\n",
      "Epoch 00015: val_acc did not improve from 0.99306\n",
      "Epoch 16/50\n",
      "81/81 [==============================] - 2s 22ms/step - loss: 0.0504 - acc: 0.9847 - val_loss: 0.0227 - val_acc: 0.9896\n",
      "\n",
      "Epoch 00016: val_acc did not improve from 0.99306\n",
      "\n",
      "Epoch 00016: ReduceLROnPlateau reducing learning rate to 0.00020000000949949026.\n",
      "Epoch 17/50\n",
      "81/81 [==============================] - 2s 20ms/step - loss: 0.0346 - acc: 0.9894 - val_loss: 0.0272 - val_acc: 0.9861\n",
      "\n",
      "Epoch 00017: val_acc did not improve from 0.99306\n",
      "Epoch 18/50\n",
      "81/81 [==============================] - 2s 21ms/step - loss: 0.0293 - acc: 0.9904 - val_loss: 0.0202 - val_acc: 0.9896\n",
      "\n",
      "Epoch 00018: val_acc did not improve from 0.99306\n",
      "Epoch 19/50\n",
      "81/81 [==============================] - 2s 21ms/step - loss: 0.0346 - acc: 0.9905 - val_loss: 0.0192 - val_acc: 0.9861\n",
      "\n",
      "Epoch 00019: val_acc did not improve from 0.99306\n",
      "Epoch 20/50\n",
      "81/81 [==============================] - 2s 21ms/step - loss: 0.0264 - acc: 0.9902 - val_loss: 0.0246 - val_acc: 0.9861\n",
      "\n",
      "Epoch 00020: val_acc did not improve from 0.99306\n",
      "Epoch 21/50\n",
      "81/81 [==============================] - 2s 21ms/step - loss: 0.0218 - acc: 0.9919 - val_loss: 0.0125 - val_acc: 1.0000\n",
      "\n",
      "Epoch 00021: val_acc improved from 0.99306 to 1.00000, saving model to models\\2021_02_19_13_50_26.h5\n",
      "Epoch 22/50\n",
      "81/81 [==============================] - 2s 22ms/step - loss: 0.0272 - acc: 0.9933 - val_loss: 0.0133 - val_acc: 0.9931\n",
      "\n",
      "Epoch 00022: val_acc did not improve from 1.00000\n",
      "Epoch 23/50\n",
      "81/81 [==============================] - 2s 22ms/step - loss: 0.0177 - acc: 0.9941 - val_loss: 0.0096 - val_acc: 0.9965\n",
      "\n",
      "Epoch 00023: val_acc did not improve from 1.00000\n",
      "Epoch 24/50\n",
      "81/81 [==============================] - 2s 22ms/step - loss: 0.0187 - acc: 0.9957 - val_loss: 0.0134 - val_acc: 0.9896\n",
      "\n",
      "Epoch 00024: val_acc did not improve from 1.00000\n",
      "Epoch 25/50\n",
      "81/81 [==============================] - 2s 20ms/step - loss: 0.0224 - acc: 0.9918 - val_loss: 0.0129 - val_acc: 0.9931\n",
      "\n",
      "Epoch 00025: val_acc did not improve from 1.00000\n",
      "Epoch 26/50\n",
      "81/81 [==============================] - 2s 21ms/step - loss: 0.0134 - acc: 0.9978 - val_loss: 0.0242 - val_acc: 0.9896\n",
      "\n",
      "Epoch 00026: val_acc did not improve from 1.00000\n",
      "Epoch 27/50\n",
      "81/81 [==============================] - 2s 21ms/step - loss: 0.0178 - acc: 0.9947 - val_loss: 0.0292 - val_acc: 0.9896\n",
      "\n",
      "Epoch 00027: val_acc did not improve from 1.00000\n",
      "Epoch 28/50\n",
      "81/81 [==============================] - 2s 21ms/step - loss: 0.0186 - acc: 0.9950 - val_loss: 0.0137 - val_acc: 0.9965\n",
      "\n",
      "Epoch 00028: val_acc did not improve from 1.00000\n",
      "Epoch 29/50\n",
      "81/81 [==============================] - 2s 21ms/step - loss: 0.0165 - acc: 0.9950 - val_loss: 0.0188 - val_acc: 0.9896\n",
      "\n",
      "Epoch 00029: val_acc did not improve from 1.00000\n",
      "Epoch 30/50\n",
      "81/81 [==============================] - 2s 20ms/step - loss: 0.0145 - acc: 0.9958 - val_loss: 0.0167 - val_acc: 0.9896\n",
      "\n",
      "Epoch 00030: val_acc did not improve from 1.00000\n",
      "Epoch 31/50\n",
      "81/81 [==============================] - 2s 20ms/step - loss: 0.0225 - acc: 0.9921 - val_loss: 0.0098 - val_acc: 0.9965\n",
      "\n",
      "Epoch 00031: val_acc did not improve from 1.00000\n",
      "\n",
      "Epoch 00031: ReduceLROnPlateau reducing learning rate to 4.0000001899898055e-05.\n",
      "Epoch 32/50\n",
      "81/81 [==============================] - 2s 20ms/step - loss: 0.0213 - acc: 0.9932 - val_loss: 0.0113 - val_acc: 0.9931\n",
      "\n",
      "Epoch 00032: val_acc did not improve from 1.00000\n",
      "Epoch 33/50\n",
      "81/81 [==============================] - 2s 20ms/step - loss: 0.0251 - acc: 0.9903 - val_loss: 0.0128 - val_acc: 0.9931\n",
      "\n",
      "Epoch 00033: val_acc did not improve from 1.00000\n",
      "Epoch 34/50\n",
      "81/81 [==============================] - 2s 20ms/step - loss: 0.0112 - acc: 0.9959 - val_loss: 0.0142 - val_acc: 0.9931\n",
      "\n",
      "Epoch 00034: val_acc did not improve from 1.00000\n",
      "Epoch 35/50\n",
      "81/81 [==============================] - 2s 20ms/step - loss: 0.0197 - acc: 0.9913 - val_loss: 0.0181 - val_acc: 0.9896\n",
      "\n",
      "Epoch 00035: val_acc did not improve from 1.00000\n",
      "Epoch 36/50\n",
      "81/81 [==============================] - 2s 20ms/step - loss: 0.0101 - acc: 0.9976 - val_loss: 0.0143 - val_acc: 0.9931\n",
      "\n",
      "Epoch 00036: val_acc did not improve from 1.00000\n",
      "Epoch 37/50\n",
      "81/81 [==============================] - 2s 21ms/step - loss: 0.0130 - acc: 0.9950 - val_loss: 0.0193 - val_acc: 0.9931\n",
      "\n",
      "Epoch 00037: val_acc did not improve from 1.00000\n",
      "Epoch 38/50\n",
      "81/81 [==============================] - 2s 20ms/step - loss: 0.0115 - acc: 0.9958 - val_loss: 0.0214 - val_acc: 0.9896\n",
      "\n",
      "Epoch 00038: val_acc did not improve from 1.00000\n",
      "Epoch 39/50\n",
      "81/81 [==============================] - 2s 21ms/step - loss: 0.0155 - acc: 0.9937 - val_loss: 0.0138 - val_acc: 0.9931\n",
      "\n",
      "Epoch 00039: val_acc did not improve from 1.00000\n",
      "Epoch 40/50\n",
      "81/81 [==============================] - 2s 21ms/step - loss: 0.0121 - acc: 0.9952 - val_loss: 0.0161 - val_acc: 0.9931\n",
      "\n",
      "Epoch 00040: val_acc did not improve from 1.00000\n",
      "Epoch 41/50\n",
      "81/81 [==============================] - 2s 22ms/step - loss: 0.0194 - acc: 0.9921 - val_loss: 0.0122 - val_acc: 0.9931\n",
      "\n",
      "Epoch 00041: val_acc did not improve from 1.00000\n",
      "\n",
      "Epoch 00041: ReduceLROnPlateau reducing learning rate to 1e-05.\n",
      "Epoch 42/50\n",
      "81/81 [==============================] - 2s 21ms/step - loss: 0.0090 - acc: 0.9965 - val_loss: 0.0119 - val_acc: 0.9931\n",
      "\n",
      "Epoch 00042: val_acc did not improve from 1.00000\n",
      "Epoch 43/50\n"
     ]
    },
    {
     "name": "stdout",
     "output_type": "stream",
     "text": [
      "81/81 [==============================] - 2s 21ms/step - loss: 0.0104 - acc: 0.9967 - val_loss: 0.0128 - val_acc: 0.9931\n",
      "\n",
      "Epoch 00043: val_acc did not improve from 1.00000\n",
      "Epoch 44/50\n",
      "81/81 [==============================] - 2s 20ms/step - loss: 0.0117 - acc: 0.9966 - val_loss: 0.0119 - val_acc: 0.9931\n",
      "\n",
      "Epoch 00044: val_acc did not improve from 1.00000\n",
      "Epoch 45/50\n",
      "81/81 [==============================] - 2s 21ms/step - loss: 0.0092 - acc: 0.9973 - val_loss: 0.0144 - val_acc: 0.9931\n",
      "\n",
      "Epoch 00045: val_acc did not improve from 1.00000\n",
      "Epoch 46/50\n",
      "81/81 [==============================] - 2s 21ms/step - loss: 0.0125 - acc: 0.9931 - val_loss: 0.0133 - val_acc: 0.9931\n",
      "\n",
      "Epoch 00046: val_acc did not improve from 1.00000\n",
      "Epoch 47/50\n",
      "81/81 [==============================] - 2s 22ms/step - loss: 0.0165 - acc: 0.9932 - val_loss: 0.0125 - val_acc: 0.9931\n",
      "\n",
      "Epoch 00047: val_acc did not improve from 1.00000\n",
      "Epoch 48/50\n",
      "81/81 [==============================] - 2s 26ms/step - loss: 0.0128 - acc: 0.9970 - val_loss: 0.0135 - val_acc: 0.9931\n",
      "\n",
      "Epoch 00048: val_acc did not improve from 1.00000\n",
      "Epoch 49/50\n",
      "81/81 [==============================] - 2s 23ms/step - loss: 0.0140 - acc: 0.9941 - val_loss: 0.0130 - val_acc: 0.9931\n",
      "\n",
      "Epoch 00049: val_acc did not improve from 1.00000\n",
      "Epoch 50/50\n",
      "81/81 [==============================] - 2s 22ms/step - loss: 0.0106 - acc: 0.9969 - val_loss: 0.0156 - val_acc: 0.9931\n",
      "\n",
      "Epoch 00050: val_acc did not improve from 1.00000\n"
     ]
    },
    {
     "data": {
      "text/plain": [
       "<tensorflow.python.keras.callbacks.History at 0x11bdef5cbe0>"
      ]
     },
     "execution_count": 13,
     "metadata": {},
     "output_type": "execute_result"
    }
   ],
   "source": [
    "start_time = datetime.datetime.now().strftime('%Y_%m_%d_%H_%M_%S')\n",
    "\n",
    "model.fit_generator(\n",
    "    train_generator, epochs=50, validation_data=val_generator,\n",
    "    callbacks=[\n",
    "        ModelCheckpoint('models/%s.h5' % (start_time), monitor='val_acc', save_best_only=True, mode='max', verbose=1),\n",
    "        ReduceLROnPlateau(monitor='val_acc', factor=0.2, patience=10, verbose=1, mode='auto', min_lr=1e-05)\n",
    "    ]\n",
    ")"
   ]
  },
  {
   "cell_type": "code",
   "execution_count": 14,
   "metadata": {},
   "outputs": [
    {
     "name": "stdout",
     "output_type": "stream",
     "text": [
      "test acc: 1.0\n"
     ]
    },
    {
     "data": {
      "text/plain": [
       "<AxesSubplot:>"
      ]
     },
     "execution_count": 14,
     "metadata": {},
     "output_type": "execute_result"
    },
    {
     "data": {
      "image/png": "[encoded data removed]",
      "text/plain": [
       "<Figure size 432x288 with 2 Axes>"
      ]
     },
     "metadata": {},
     "output_type": "display_data"
    }
   ],
   "source": [
    "from sklearn.metrics import accuracy_score, confusion_matrix\n",
    "import seaborn as sns\n",
    "\n",
    "model = load_model('models/%s.h5' % (start_time))\n",
    "\n",
    "y_pred = model.predict(x_val/255.)\n",
    "y_pred_logical = (y_pred > 0.5).astype(np.int)\n",
    "\n",
    "print ('test acc: %s' % accuracy_score(y_val, y_pred_logical))\n",
    "cm = confusion_matrix(y_val, y_pred_logical)\n",
    "sns.heatmap(cm, annot=True)"
   ]
  },
  {
   "cell_type": "code",
   "execution_count": 15,
   "metadata": {},
   "outputs": [
    {
     "name": "stderr",
     "output_type": "stream",
     "text": [
      "C:\\Users\\chan\\anaconda3\\lib\\site-packages\\seaborn\\distributions.py:2551: FutureWarning: `distplot` is a deprecated function and will be removed in a future version. Please adapt your code to use either `displot` (a figure-level function with similar flexibility) or `histplot` (an axes-level function for histograms).\n",
      "  warnings.warn(msg, FutureWarning)\n"
     ]
    },
    {
     "data": {
      "image/png": "[encoded data removed]",
      "text/plain": [
       "<Figure size 432x288 with 1 Axes>"
      ]
     },
     "metadata": {},
     "output_type": "display_data"
    }
   ],
   "source": [
    "ax = sns.distplot(y_pred, kde=False)"
   ]
  }
 ],
 "metadata": {
  "kernelspec": {
   "display_name": "Python 3",
   "language": "python",
   "name": "python3"
  },
  "language_info": {
   "codemirror_mode": {
    "name": "ipython",
    "version": 3
   },
   "file_extension": ".py",
   "mimetype": "text/x-python",
   "name": "python",
   "nbconvert_exporter": "python",
   "pygments_lexer": "ipython3",
   "version": "3.8.5"
  }
 },
 "nbformat": 4,
 "nbformat_minor": 4
}
