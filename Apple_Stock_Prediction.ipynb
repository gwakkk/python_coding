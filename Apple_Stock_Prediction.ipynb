{
 "cells": [
  {
   "cell_type": "code",
   "execution_count": 1,
   "metadata": {
    "id": "bpE_2QoCTOc-"
   },
   "outputs": [],
   "source": [
    "#LSTM을 활용하여 60일 이전 데이터를 기반으로 주식 가격 예측(APPLE)"
   ]
  },
  {
   "cell_type": "code",
   "execution_count": 2,
   "metadata": {
    "id": "i3eLb7amT_JL"
   },
   "outputs": [],
   "source": [
    "import math\n",
    "import pandas_datareader as web\n",
    "import numpy as np\n",
    "import pandas as pd\n",
    "from sklearn.preprocessing import MinMaxScaler\n",
    "from keras.models import Sequential\n",
    "from keras.layers import Dense, LSTM\n",
    "import matplotlib.pyplot as plt\n",
    "plt.style.use('fivethirtyeight')"
   ]
  },
  {
   "cell_type": "code",
   "execution_count": 3,
   "metadata": {
    "colab": {
     "base_uri": "https://localhost:8080/",
     "height": 436
    },
    "id": "rfjz9rWBU2tw",
    "outputId": "4cb68bbc-f537-481c-984a-cf432f4094f8"
   },
   "outputs": [
    {
     "data": {
      "text/html": [
       "<div>\n",
       "<style scoped>\n",
       "    .dataframe tbody tr th:only-of-type {\n",
       "        vertical-align: middle;\n",
       "    }\n",
       "\n",
       "    .dataframe tbody tr th {\n",
       "        vertical-align: top;\n",
       "    }\n",
       "\n",
       "    .dataframe thead th {\n",
       "        text-align: right;\n",
       "    }\n",
       "</style>\n",
       "<table border=\"1\" class=\"dataframe\">\n",
       "  <thead>\n",
       "    <tr style=\"text-align: right;\">\n",
       "      <th></th>\n",
       "      <th>High</th>\n",
       "      <th>Low</th>\n",
       "      <th>Open</th>\n",
       "      <th>Close</th>\n",
       "      <th>Volume</th>\n",
       "      <th>Adj Close</th>\n",
       "    </tr>\n",
       "    <tr>\n",
       "      <th>Date</th>\n",
       "      <th></th>\n",
       "      <th></th>\n",
       "      <th></th>\n",
       "      <th></th>\n",
       "      <th></th>\n",
       "      <th></th>\n",
       "    </tr>\n",
       "  </thead>\n",
       "  <tbody>\n",
       "    <tr>\n",
       "      <th>2013-01-02</th>\n",
       "      <td>19.821428</td>\n",
       "      <td>19.343929</td>\n",
       "      <td>19.779285</td>\n",
       "      <td>19.608213</td>\n",
       "      <td>560518000.0</td>\n",
       "      <td>17.039789</td>\n",
       "    </tr>\n",
       "    <tr>\n",
       "      <th>2013-01-03</th>\n",
       "      <td>19.631071</td>\n",
       "      <td>19.321428</td>\n",
       "      <td>19.567142</td>\n",
       "      <td>19.360714</td>\n",
       "      <td>352965200.0</td>\n",
       "      <td>16.824715</td>\n",
       "    </tr>\n",
       "    <tr>\n",
       "      <th>2013-01-04</th>\n",
       "      <td>19.236786</td>\n",
       "      <td>18.779642</td>\n",
       "      <td>19.177500</td>\n",
       "      <td>18.821428</td>\n",
       "      <td>594333600.0</td>\n",
       "      <td>16.356062</td>\n",
       "    </tr>\n",
       "    <tr>\n",
       "      <th>2013-01-07</th>\n",
       "      <td>18.903570</td>\n",
       "      <td>18.400000</td>\n",
       "      <td>18.642857</td>\n",
       "      <td>18.710714</td>\n",
       "      <td>484156400.0</td>\n",
       "      <td>16.259851</td>\n",
       "    </tr>\n",
       "    <tr>\n",
       "      <th>2013-01-08</th>\n",
       "      <td>18.996071</td>\n",
       "      <td>18.616072</td>\n",
       "      <td>18.900356</td>\n",
       "      <td>18.761070</td>\n",
       "      <td>458707200.0</td>\n",
       "      <td>16.303608</td>\n",
       "    </tr>\n",
       "    <tr>\n",
       "      <th>...</th>\n",
       "      <td>...</td>\n",
       "      <td>...</td>\n",
       "      <td>...</td>\n",
       "      <td>...</td>\n",
       "      <td>...</td>\n",
       "      <td>...</td>\n",
       "    </tr>\n",
       "    <tr>\n",
       "      <th>2021-02-08</th>\n",
       "      <td>136.960007</td>\n",
       "      <td>134.919998</td>\n",
       "      <td>136.029999</td>\n",
       "      <td>136.910004</td>\n",
       "      <td>71297200.0</td>\n",
       "      <td>136.910004</td>\n",
       "    </tr>\n",
       "    <tr>\n",
       "      <th>2021-02-09</th>\n",
       "      <td>137.880005</td>\n",
       "      <td>135.850006</td>\n",
       "      <td>136.619995</td>\n",
       "      <td>136.009995</td>\n",
       "      <td>76774200.0</td>\n",
       "      <td>136.009995</td>\n",
       "    </tr>\n",
       "    <tr>\n",
       "      <th>2021-02-10</th>\n",
       "      <td>136.990005</td>\n",
       "      <td>134.399994</td>\n",
       "      <td>136.479996</td>\n",
       "      <td>135.389999</td>\n",
       "      <td>73046600.0</td>\n",
       "      <td>135.389999</td>\n",
       "    </tr>\n",
       "    <tr>\n",
       "      <th>2021-02-11</th>\n",
       "      <td>136.389999</td>\n",
       "      <td>133.770004</td>\n",
       "      <td>135.899994</td>\n",
       "      <td>135.130005</td>\n",
       "      <td>64154400.0</td>\n",
       "      <td>135.130005</td>\n",
       "    </tr>\n",
       "    <tr>\n",
       "      <th>2021-02-12</th>\n",
       "      <td>135.529999</td>\n",
       "      <td>133.690002</td>\n",
       "      <td>134.350006</td>\n",
       "      <td>135.369995</td>\n",
       "      <td>60029300.0</td>\n",
       "      <td>135.369995</td>\n",
       "    </tr>\n",
       "  </tbody>\n",
       "</table>\n",
       "<p>2044 rows × 6 columns</p>\n",
       "</div>"
      ],
      "text/plain": [
       "                  High         Low  ...       Volume   Adj Close\n",
       "Date                                ...                         \n",
       "2013-01-02   19.821428   19.343929  ...  560518000.0   17.039789\n",
       "2013-01-03   19.631071   19.321428  ...  352965200.0   16.824715\n",
       "2013-01-04   19.236786   18.779642  ...  594333600.0   16.356062\n",
       "2013-01-07   18.903570   18.400000  ...  484156400.0   16.259851\n",
       "2013-01-08   18.996071   18.616072  ...  458707200.0   16.303608\n",
       "...                ...         ...  ...          ...         ...\n",
       "2021-02-08  136.960007  134.919998  ...   71297200.0  136.910004\n",
       "2021-02-09  137.880005  135.850006  ...   76774200.0  136.009995\n",
       "2021-02-10  136.990005  134.399994  ...   73046600.0  135.389999\n",
       "2021-02-11  136.389999  133.770004  ...   64154400.0  135.130005\n",
       "2021-02-12  135.529999  133.690002  ...   60029300.0  135.369995\n",
       "\n",
       "[2044 rows x 6 columns]"
      ]
     },
     "execution_count": 3,
     "metadata": {
      "tags": []
     },
     "output_type": "execute_result"
    }
   ],
   "source": [
    "#DataFrame형태로 데이터 획득\n",
    "df = web.DataReader('AAPL', data_source='yahoo', start='2013-01-01',end='2021-02-15')\n",
    "df"
   ]
  },
  {
   "cell_type": "code",
   "execution_count": 4,
   "metadata": {
    "colab": {
     "base_uri": "https://localhost:8080/"
    },
    "id": "SMQxIwSeVVUx",
    "outputId": "664436e8-aa94-47af-a5b6-74cd6602391b"
   },
   "outputs": [
    {
     "data": {
      "text/plain": [
       "(2044, 6)"
      ]
     },
     "execution_count": 4,
     "metadata": {
      "tags": []
     },
     "output_type": "execute_result"
    }
   ],
   "source": [
    "#데이터 개수 및 형태확인\n",
    "df.shape"
   ]
  },
  {
   "cell_type": "code",
   "execution_count": 5,
   "metadata": {
    "colab": {
     "base_uri": "https://localhost:8080/",
     "height": 557
    },
    "id": "PMjpW-9kVfwC",
    "outputId": "033b087d-6cb4-4168-d6f1-a918ee8c9e15"
   },
   "outputs": [
    {
     "data": {
      "image/png": "[encoded data removed]",
      "text/plain": [
       "<Figure size 1152x576 with 1 Axes>"
      ]
     },
     "metadata": {
      "tags": []
     },
     "output_type": "display_data"
    }
   ],
   "source": [
    "#closing price(마감 가격) 시각화\n",
    "plt.figure(figsize=(16,8))\n",
    "plt.title('Close Price History')\n",
    "plt.plot(df['Close'])\n",
    "plt.xlabel('Date',fontsize=18)\n",
    "plt.ylabel('Close Price USD($)', fontsize=18)\n",
    "plt.show()"
   ]
  },
  {
   "cell_type": "code",
   "execution_count": 6,
   "metadata": {
    "colab": {
     "base_uri": "https://localhost:8080/"
    },
    "id": "f8Q8r6C7WFgm",
    "outputId": "0abe7e83-79db-4feb-86d1-efa9b65054c7"
   },
   "outputs": [
    {
     "data": {
      "text/plain": [
       "1636"
      ]
     },
     "execution_count": 6,
     "metadata": {
      "tags": []
     },
     "output_type": "execute_result"
    }
   ],
   "source": [
    "#이용할 'close'속성만을 이용하여 새로운 Dataframe 형성\n",
    "data=df.filter(['Close'])\n",
    "\n",
    "#df를 numpy array로 변환\n",
    "dataset = data.values\n",
    "\n",
    "training_data_len = math.ceil(len(dataset) * .8)\n",
    "training_data_len"
   ]
  },
  {
   "cell_type": "code",
   "execution_count": 7,
   "metadata": {
    "colab": {
     "base_uri": "https://localhost:8080/"
    },
    "id": "hvzgnBTIWwIX",
    "outputId": "9d1879c8-9d8b-4158-8c09-618cebd4df05"
   },
   "outputs": [
    {
     "data": {
      "text/plain": [
       "array([[0.04380933],\n",
       "       [0.04189388],\n",
       "       [0.03772025],\n",
       "       ...,\n",
       "       [0.93986647],\n",
       "       [0.93785432],\n",
       "       [0.93971165]])"
      ]
     },
     "execution_count": 7,
     "metadata": {
      "tags": []
     },
     "output_type": "execute_result"
    }
   ],
   "source": [
    "#0~1 사이로 데이터 크기조정\n",
    "scaler = MinMaxScaler(feature_range=(0,1))\n",
    "scaled_data = scaler.fit_transform(dataset)\n",
    "\n",
    "scaled_data"
   ]
  },
  {
   "cell_type": "code",
   "execution_count": 8,
   "metadata": {
    "colab": {
     "base_uri": "https://localhost:8080/"
    },
    "id": "4yxefSO8XPHY",
    "outputId": "e52fe1eb-be41-436c-bba3-0d923c220945"
   },
   "outputs": [
    {
     "name": "stdout",
     "output_type": "stream",
     "text": [
      "[array([0.04380933, 0.04189388, 0.03772025, 0.03686341, 0.03725313,\n",
      "       0.0349839 , 0.03675563, 0.03586838, 0.03074117, 0.02636576,\n",
      "       0.03194073, 0.03099821, 0.03025747, 0.03157589, 0.03412982,\n",
      "       0.01657569, 0.01364032, 0.0163905 , 0.0187233 , 0.01832529,\n",
      "       0.01795492, 0.01743805, 0.01431474, 0.01860446, 0.01846902,\n",
      "       0.02147349, 0.02334195, 0.02471012, 0.02138504, 0.02113904,\n",
      "       0.02102296, 0.01924571, 0.01919871, 0.01611963, 0.01534846,\n",
      "       0.01666137, 0.01444741, 0.01615279, 0.01493663, 0.01406045,\n",
      "       0.0110394 , 0.00815932, 0.01122458, 0.00970992, 0.0110698 ,\n",
      "       0.0113849 , 0.01308475, 0.01047554, 0.01045343, 0.0116005 ,\n",
      "       0.01468511, 0.01801849, 0.01767853, 0.01701239, 0.01719205,\n",
      "       0.01972941, 0.02019099, 0.01951658, 0.01701239, 0.01440871])]\n",
      "[0.010608216319641275]\n",
      "\n"
     ]
    }
   ],
   "source": [
    "train_data = scaled_data[0:training_data_len,:]\n",
    "\n",
    "#x_train / y_train 분류\n",
    "x_train = []\n",
    "y_train = []\n",
    "\n",
    "for i in range(60,len(train_data)):\n",
    "  x_train.append(train_data[i-60:i,0])\n",
    "  y_train.append(train_data[i,0])\n",
    "  if(i<=60):\n",
    "    print(x_train)\n",
    "    print(y_train)\n",
    "    print()"
   ]
  },
  {
   "cell_type": "code",
   "execution_count": 9,
   "metadata": {
    "id": "rwpaxnqFYcvz"
   },
   "outputs": [],
   "source": [
    "#x_train / y_train np.array로 변경\n",
    "x_train, y_train = np.array(x_train), np.array(y_train)"
   ]
  },
  {
   "cell_type": "code",
   "execution_count": 10,
   "metadata": {
    "colab": {
     "base_uri": "https://localhost:8080/"
    },
    "id": "4SONcEYzYnAs",
    "outputId": "75d86078-6404-4af8-a67c-5291aaa83b61"
   },
   "outputs": [
    {
     "data": {
      "text/plain": [
       "(1576, 60, 1)"
      ]
     },
     "execution_count": 10,
     "metadata": {
      "tags": []
     },
     "output_type": "execute_result"
    }
   ],
   "source": [
    "x_train = np.reshape(x_train,(x_train.shape[0], x_train.shape[1], 1))\n",
    "x_train.shape"
   ]
  },
  {
   "cell_type": "code",
   "execution_count": 11,
   "metadata": {
    "id": "KajMxavhlEAG"
   },
   "outputs": [],
   "source": [
    "#LSTM 모델링\n",
    "model = Sequential()\n",
    "model.add(LSTM(50, return_sequences=True, input_shape=(x_train.shape[1],1)))\n",
    "model.add(LSTM(50, return_sequences=False))\n",
    "model.add(Dense(25))\n",
    "model.add(Dense(1))"
   ]
  },
  {
   "cell_type": "code",
   "execution_count": 12,
   "metadata": {
    "id": "0qbS69cRlnza"
   },
   "outputs": [],
   "source": [
    "model.compile(optimizer='adam', loss='mean_squared_error')"
   ]
  },
  {
   "cell_type": "code",
   "execution_count": 13,
   "metadata": {
    "colab": {
     "base_uri": "https://localhost:8080/"
    },
    "id": "TWjSTtDJmNph",
    "outputId": "752b54e1-81bc-4121-96f8-273185d9ae46"
   },
   "outputs": [
    {
     "name": "stdout",
     "output_type": "stream",
     "text": [
      "1576/1576 [==============================] - 17s 6ms/step - loss: 9.1444e-04\n"
     ]
    },
    {
     "data": {
      "text/plain": [
       "<tensorflow.python.keras.callbacks.History at 0x7f9510283b00>"
      ]
     },
     "execution_count": 13,
     "metadata": {
      "tags": []
     },
     "output_type": "execute_result"
    }
   ],
   "source": [
    "model.fit(x_train,y_train,batch_size=1,epochs=1)"
   ]
  },
  {
   "cell_type": "code",
   "execution_count": 14,
   "metadata": {
    "id": "tEvrtAR3mtPj"
   },
   "outputs": [],
   "source": [
    "#test dataset 생성\n",
    "test_data = scaled_data[training_data_len-60:,:]\n",
    "\n",
    "x_test = []\n",
    "y_test = dataset[training_data_len:,:]\n",
    "\n",
    "for i in range(60, len(test_data)):\n",
    "  x_test.append(test_data[i-60:i, 0])"
   ]
  },
  {
   "cell_type": "code",
   "execution_count": 15,
   "metadata": {
    "id": "I0K6hyXjnc_G"
   },
   "outputs": [],
   "source": [
    "#x_test np.array 변경후 형태맞추기\n",
    "x_test = np.array(x_test)"
   ]
  },
  {
   "cell_type": "code",
   "execution_count": 17,
   "metadata": {
    "id": "urKKQB0gn78Z"
   },
   "outputs": [],
   "source": [
    "x_test = np.reshape(x_test,(x_test.shape[0],x_test.shape[1],1))"
   ]
  },
  {
   "cell_type": "code",
   "execution_count": 18,
   "metadata": {
    "id": "s9ZFx10VoSOV"
   },
   "outputs": [],
   "source": [
    "predictions = model.predict(x_test)\n",
    "predictions = scaler.inverse_transform(predictions)"
   ]
  },
  {
   "cell_type": "code",
   "execution_count": 19,
   "metadata": {
    "colab": {
     "base_uri": "https://localhost:8080/"
    },
    "id": "e_-9iSuuokh8",
    "outputId": "4dcf329a-50b4-4532-96ff-db74ba3e46b7"
   },
   "outputs": [
    {
     "data": {
      "text/plain": [
       "2.9732355977974687"
      ]
     },
     "execution_count": 19,
     "metadata": {
      "tags": []
     },
     "output_type": "execute_result"
    }
   ],
   "source": [
    "#root mean squared error(RMSE)\n",
    "rmse = np.sqrt(np.mean(predictions - y_test)**2)\n",
    "rmse"
   ]
  },
  {
   "cell_type": "code",
   "execution_count": 21,
   "metadata": {
    "colab": {
     "base_uri": "https://localhost:8080/",
     "height": 664
    },
    "id": "bXJMxVVOo2Yo",
    "outputId": "635d961f-0a91-4025-83a1-f1ba777e50cf"
   },
   "outputs": [
    {
     "name": "stderr",
     "output_type": "stream",
     "text": [
      "/usr/local/lib/python3.6/dist-packages/ipykernel_launcher.py:4: SettingWithCopyWarning: \n",
      "A value is trying to be set on a copy of a slice from a DataFrame.\n",
      "Try using .loc[row_indexer,col_indexer] = value instead\n",
      "\n",
      "See the caveats in the documentation: https://pandas.pydata.org/pandas-docs/stable/user_guide/indexing.html#returning-a-view-versus-a-copy\n",
      "  after removing the cwd from sys.path.\n"
     ]
    },
    {
     "data": {
      "image/png": "[encoded data removed]",
      "text/plain": [
       "<Figure size 1152x576 with 1 Axes>"
      ]
     },
     "metadata": {
      "tags": []
     },
     "output_type": "display_data"
    }
   ],
   "source": [
    "train = data[:training_data_len]\n",
    "valid = data[training_data_len:]\n",
    "valid['Predictions'] = predictions\n",
    "\n",
    "plt.figure(figsize=(16,8))\n",
    "plt.title('Model')\n",
    "plt.xlabel('Date', fontsize=18)\n",
    "plt.ylabel('Close Price USD($)', fontsize=18)\n",
    "plt.plot(train['Close'])\n",
    "plt.plot(valid[['Close', 'Predictions']])\n",
    "plt.legend(['Train','Val','Predictions'],loc='lower right')\n",
    "plt.show()"
   ]
  },
  {
   "cell_type": "code",
   "execution_count": 22,
   "metadata": {
    "colab": {
     "base_uri": "https://localhost:8080/",
     "height": 436
    },
    "id": "fVMKDT4io7l_",
    "outputId": "7339aeb8-9faa-46cf-fcc7-20a03a87d937"
   },
   "outputs": [
    {
     "data": {
      "text/html": [
       "<div>\n",
       "<style scoped>\n",
       "    .dataframe tbody tr th:only-of-type {\n",
       "        vertical-align: middle;\n",
       "    }\n",
       "\n",
       "    .dataframe tbody tr th {\n",
       "        vertical-align: top;\n",
       "    }\n",
       "\n",
       "    .dataframe thead th {\n",
       "        text-align: right;\n",
       "    }\n",
       "</style>\n",
       "<table border=\"1\" class=\"dataframe\">\n",
       "  <thead>\n",
       "    <tr style=\"text-align: right;\">\n",
       "      <th></th>\n",
       "      <th>Close</th>\n",
       "      <th>Predictions</th>\n",
       "    </tr>\n",
       "    <tr>\n",
       "      <th>Date</th>\n",
       "      <th></th>\n",
       "      <th></th>\n",
       "    </tr>\n",
       "  </thead>\n",
       "  <tbody>\n",
       "    <tr>\n",
       "      <th>2019-07-03</th>\n",
       "      <td>51.102501</td>\n",
       "      <td>48.445393</td>\n",
       "    </tr>\n",
       "    <tr>\n",
       "      <th>2019-07-05</th>\n",
       "      <td>51.057499</td>\n",
       "      <td>48.651043</td>\n",
       "    </tr>\n",
       "    <tr>\n",
       "      <th>2019-07-08</th>\n",
       "      <td>50.005001</td>\n",
       "      <td>48.863255</td>\n",
       "    </tr>\n",
       "    <tr>\n",
       "      <th>2019-07-09</th>\n",
       "      <td>50.310001</td>\n",
       "      <td>48.959503</td>\n",
       "    </tr>\n",
       "    <tr>\n",
       "      <th>2019-07-10</th>\n",
       "      <td>50.807499</td>\n",
       "      <td>49.011890</td>\n",
       "    </tr>\n",
       "    <tr>\n",
       "      <th>...</th>\n",
       "      <td>...</td>\n",
       "      <td>...</td>\n",
       "    </tr>\n",
       "    <tr>\n",
       "      <th>2021-02-08</th>\n",
       "      <td>136.910004</td>\n",
       "      <td>130.809601</td>\n",
       "    </tr>\n",
       "    <tr>\n",
       "      <th>2021-02-09</th>\n",
       "      <td>136.009995</td>\n",
       "      <td>130.824341</td>\n",
       "    </tr>\n",
       "    <tr>\n",
       "      <th>2021-02-10</th>\n",
       "      <td>135.389999</td>\n",
       "      <td>130.798904</td>\n",
       "    </tr>\n",
       "    <tr>\n",
       "      <th>2021-02-11</th>\n",
       "      <td>135.130005</td>\n",
       "      <td>130.698593</td>\n",
       "    </tr>\n",
       "    <tr>\n",
       "      <th>2021-02-12</th>\n",
       "      <td>135.369995</td>\n",
       "      <td>130.547424</td>\n",
       "    </tr>\n",
       "  </tbody>\n",
       "</table>\n",
       "<p>408 rows × 2 columns</p>\n",
       "</div>"
      ],
      "text/plain": [
       "                 Close  Predictions\n",
       "Date                               \n",
       "2019-07-03   51.102501    48.445393\n",
       "2019-07-05   51.057499    48.651043\n",
       "2019-07-08   50.005001    48.863255\n",
       "2019-07-09   50.310001    48.959503\n",
       "2019-07-10   50.807499    49.011890\n",
       "...                ...          ...\n",
       "2021-02-08  136.910004   130.809601\n",
       "2021-02-09  136.009995   130.824341\n",
       "2021-02-10  135.389999   130.798904\n",
       "2021-02-11  135.130005   130.698593\n",
       "2021-02-12  135.369995   130.547424\n",
       "\n",
       "[408 rows x 2 columns]"
      ]
     },
     "execution_count": 22,
     "metadata": {
      "tags": []
     },
     "output_type": "execute_result"
    }
   ],
   "source": [
    "valid"
   ]
  },
  {
   "cell_type": "code",
   "execution_count": 26,
   "metadata": {
    "colab": {
     "base_uri": "https://localhost:8080/"
    },
    "id": "KTyEk33Xp1eV",
    "outputId": "44f3e010-e6fd-4ca2-c20c-69361184c25d"
   },
   "outputs": [
    {
     "name": "stdout",
     "output_type": "stream",
     "text": [
      "[[130.41331]]\n"
     ]
    }
   ],
   "source": [
    "apple_quote = web.DataReader('AAPL',data_source='yahoo',start='2012-01-01',end='2021-02-15')\n",
    "new_df = apple_quote.filter(['Close'])\n",
    "last_60_days = new_df[-60:].values\n",
    "last_60_days_scaled = scaler.transform(last_60_days)\n",
    "\n",
    "X_test = []\n",
    "X_test.append(last_60_days_scaled)\n",
    "X_test = np.array(X_test)\n",
    "X_test = np.reshape(X_test, (X_test.shape[0],X_test.shape[1],1))\n",
    "\n",
    "pred_price = model.predict(X_test)\n",
    "pred_price = scaler.inverse_transform(pred_price)\n",
    "print(pred_price)"
   ]
  },
  {
   "cell_type": "code",
   "execution_count": 30,
   "metadata": {
    "colab": {
     "base_uri": "https://localhost:8080/"
    },
    "id": "5WVN1Moyq_un",
    "outputId": "51a9b033-a620-4d70-d983-eab8c87f14e9"
   },
   "outputs": [
    {
     "name": "stdout",
     "output_type": "stream",
     "text": [
      "Date\n",
      "2021-02-10    135.389999\n",
      "Name: Close, dtype: float64\n"
     ]
    }
   ],
   "source": [
    "apple_quote2 = web.DataReader('AAPL',data_source='yahoo',start='2021-02-10',end='2021-02-10')\n",
    "print(apple_quote2['Close'])"
   ]
  }
 ],
 "metadata": {
  "accelerator": "GPU",
  "colab": {
   "name": "Apple_Stock_Prediction.ipynb",
   "provenance": []
  },
  "kernelspec": {
   "display_name": "Python 3",
   "language": "python",
   "name": "python3"
  },
  "language_info": {
   "codemirror_mode": {
    "name": "ipython",
    "version": 3
   },
   "file_extension": ".py",
   "mimetype": "text/x-python",
   "name": "python",
   "nbconvert_exporter": "python",
   "pygments_lexer": "ipython3",
   "version": "3.8.5"
  }
 },
 "nbformat": 4,
 "nbformat_minor": 1
}
